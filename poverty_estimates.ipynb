{
 "cells": [
  {
   "cell_type": "code",
   "execution_count": 1,
   "metadata": {},
   "outputs": [],
   "source": [
    "from matplotlib.pyplot import figure\n",
    "from sklearn.linear_model import LinearRegression\n",
    "from sklearn.model_selection import train_test_split\n",
    "from pandas import DataFrame\n",
    "from plotly.subplots import make_subplots\n",
    "import pandas as pd \n",
    "import numpy as np\n",
    "import matplotlib.pyplot as plt\n",
    "import plotly.express as px\n",
    "import plotly.graph_objects as go\n",
    "import plotly.figure_factory as ff\n",
    "%matplotlib inline"
   ]
  },
  {
   "cell_type": "code",
   "execution_count": 3,
   "metadata": {},
   "outputs": [],
   "source": [
    "poverty_data = pd.read_csv('povertyData.csv')"
   ]
  },
  {
   "cell_type": "code",
   "execution_count": 4,
   "metadata": {},
   "outputs": [
    {
     "data": {
      "text/html": [
       "<div>\n",
       "<style scoped>\n",
       "    .dataframe tbody tr th:only-of-type {\n",
       "        vertical-align: middle;\n",
       "    }\n",
       "\n",
       "    .dataframe tbody tr th {\n",
       "        vertical-align: top;\n",
       "    }\n",
       "\n",
       "    .dataframe thead th {\n",
       "        text-align: right;\n",
       "    }\n",
       "</style>\n",
       "<table border=\"1\" class=\"dataframe\">\n",
       "  <thead>\n",
       "    <tr style=\"text-align: right;\">\n",
       "      <th></th>\n",
       "      <th>2</th>\n",
       "      <th>FIPStxt</th>\n",
       "      <th>State</th>\n",
       "      <th>Area_Name</th>\n",
       "      <th>Rural-urban_Continuum_Code_2003</th>\n",
       "      <th>Urban_Influence_Code_2003</th>\n",
       "      <th>Rural-urban_Continuum_Code_2013</th>\n",
       "      <th>Urban_Influence_Code_2013</th>\n",
       "      <th>POVALL_2017</th>\n",
       "      <th>CI90LBAll_2017</th>\n",
       "      <th>...</th>\n",
       "      <th>CI90UB517P_2017</th>\n",
       "      <th>MEDHHINC_2017</th>\n",
       "      <th>CI90LBINC_2017</th>\n",
       "      <th>CI90UBINC_2017</th>\n",
       "      <th>POV04_2017</th>\n",
       "      <th>CI90LB04_2017</th>\n",
       "      <th>CI90UB04_2017</th>\n",
       "      <th>PCTPOV04_2017</th>\n",
       "      <th>CI90LB04P_2017</th>\n",
       "      <th>CI90UB04P_2017</th>\n",
       "    </tr>\n",
       "  </thead>\n",
       "  <tbody>\n",
       "    <tr>\n",
       "      <th>0</th>\n",
       "      <td>3</td>\n",
       "      <td>0</td>\n",
       "      <td>US</td>\n",
       "      <td>United States</td>\n",
       "      <td>NaN</td>\n",
       "      <td>NaN</td>\n",
       "      <td>NaN</td>\n",
       "      <td>NaN</td>\n",
       "      <td>42583651.0</td>\n",
       "      <td>42342619.0</td>\n",
       "      <td>...</td>\n",
       "      <td>17.5</td>\n",
       "      <td>60336.0</td>\n",
       "      <td>60250.0</td>\n",
       "      <td>60422.0</td>\n",
       "      <td>3932969.0</td>\n",
       "      <td>3880645.0</td>\n",
       "      <td>3985293.0</td>\n",
       "      <td>20.2</td>\n",
       "      <td>19.9</td>\n",
       "      <td>20.5</td>\n",
       "    </tr>\n",
       "    <tr>\n",
       "      <th>1</th>\n",
       "      <td>4</td>\n",
       "      <td>1000</td>\n",
       "      <td>AL</td>\n",
       "      <td>Alabama</td>\n",
       "      <td>NaN</td>\n",
       "      <td>NaN</td>\n",
       "      <td>NaN</td>\n",
       "      <td>NaN</td>\n",
       "      <td>802263.0</td>\n",
       "      <td>784517.0</td>\n",
       "      <td>...</td>\n",
       "      <td>23.8</td>\n",
       "      <td>48193.0</td>\n",
       "      <td>47451.0</td>\n",
       "      <td>48935.0</td>\n",
       "      <td>78986.0</td>\n",
       "      <td>75009.0</td>\n",
       "      <td>82963.0</td>\n",
       "      <td>27.7</td>\n",
       "      <td>26.3</td>\n",
       "      <td>29.1</td>\n",
       "    </tr>\n",
       "    <tr>\n",
       "      <th>2</th>\n",
       "      <td>5</td>\n",
       "      <td>1001</td>\n",
       "      <td>AL</td>\n",
       "      <td>Autauga County</td>\n",
       "      <td>2.0</td>\n",
       "      <td>2.0</td>\n",
       "      <td>2.0</td>\n",
       "      <td>2.0</td>\n",
       "      <td>7390.0</td>\n",
       "      <td>6147.0</td>\n",
       "      <td>...</td>\n",
       "      <td>22.1</td>\n",
       "      <td>58343.0</td>\n",
       "      <td>52121.0</td>\n",
       "      <td>64565.0</td>\n",
       "      <td>NaN</td>\n",
       "      <td>NaN</td>\n",
       "      <td>NaN</td>\n",
       "      <td>NaN</td>\n",
       "      <td>NaN</td>\n",
       "      <td>NaN</td>\n",
       "    </tr>\n",
       "    <tr>\n",
       "      <th>3</th>\n",
       "      <td>6</td>\n",
       "      <td>1003</td>\n",
       "      <td>AL</td>\n",
       "      <td>Baldwin County</td>\n",
       "      <td>4.0</td>\n",
       "      <td>5.0</td>\n",
       "      <td>3.0</td>\n",
       "      <td>2.0</td>\n",
       "      <td>21199.0</td>\n",
       "      <td>17444.0</td>\n",
       "      <td>...</td>\n",
       "      <td>17.9</td>\n",
       "      <td>56607.0</td>\n",
       "      <td>52439.0</td>\n",
       "      <td>60775.0</td>\n",
       "      <td>NaN</td>\n",
       "      <td>NaN</td>\n",
       "      <td>NaN</td>\n",
       "      <td>NaN</td>\n",
       "      <td>NaN</td>\n",
       "      <td>NaN</td>\n",
       "    </tr>\n",
       "    <tr>\n",
       "      <th>4</th>\n",
       "      <td>7</td>\n",
       "      <td>1005</td>\n",
       "      <td>AL</td>\n",
       "      <td>Barbour County</td>\n",
       "      <td>6.0</td>\n",
       "      <td>6.0</td>\n",
       "      <td>6.0</td>\n",
       "      <td>6.0</td>\n",
       "      <td>7414.0</td>\n",
       "      <td>6325.0</td>\n",
       "      <td>...</td>\n",
       "      <td>55.0</td>\n",
       "      <td>32490.0</td>\n",
       "      <td>29218.0</td>\n",
       "      <td>35762.0</td>\n",
       "      <td>NaN</td>\n",
       "      <td>NaN</td>\n",
       "      <td>NaN</td>\n",
       "      <td>NaN</td>\n",
       "      <td>NaN</td>\n",
       "      <td>NaN</td>\n",
       "    </tr>\n",
       "  </tbody>\n",
       "</table>\n",
       "<p>5 rows × 35 columns</p>\n",
       "</div>"
      ],
      "text/plain": [
       "   2  FIPStxt State       Area_Name  Rural-urban_Continuum_Code_2003  \\\n",
       "0  3        0    US   United States                              NaN   \n",
       "1  4     1000    AL         Alabama                              NaN   \n",
       "2  5     1001    AL  Autauga County                              2.0   \n",
       "3  6     1003    AL  Baldwin County                              4.0   \n",
       "4  7     1005    AL  Barbour County                              6.0   \n",
       "\n",
       "   Urban_Influence_Code_2003  Rural-urban_Continuum_Code_2013  \\\n",
       "0                        NaN                              NaN   \n",
       "1                        NaN                              NaN   \n",
       "2                        2.0                              2.0   \n",
       "3                        5.0                              3.0   \n",
       "4                        6.0                              6.0   \n",
       "\n",
       "   Urban_Influence_Code_2013  POVALL_2017  CI90LBAll_2017  ...  \\\n",
       "0                        NaN   42583651.0      42342619.0  ...   \n",
       "1                        NaN     802263.0        784517.0  ...   \n",
       "2                        2.0       7390.0          6147.0  ...   \n",
       "3                        2.0      21199.0         17444.0  ...   \n",
       "4                        6.0       7414.0          6325.0  ...   \n",
       "\n",
       "   CI90UB517P_2017  MEDHHINC_2017  CI90LBINC_2017  CI90UBINC_2017  POV04_2017  \\\n",
       "0             17.5        60336.0         60250.0         60422.0   3932969.0   \n",
       "1             23.8        48193.0         47451.0         48935.0     78986.0   \n",
       "2             22.1        58343.0         52121.0         64565.0         NaN   \n",
       "3             17.9        56607.0         52439.0         60775.0         NaN   \n",
       "4             55.0        32490.0         29218.0         35762.0         NaN   \n",
       "\n",
       "   CI90LB04_2017  CI90UB04_2017  PCTPOV04_2017  CI90LB04P_2017  CI90UB04P_2017  \n",
       "0      3880645.0      3985293.0           20.2            19.9            20.5  \n",
       "1        75009.0        82963.0           27.7            26.3            29.1  \n",
       "2            NaN            NaN            NaN             NaN             NaN  \n",
       "3            NaN            NaN            NaN             NaN             NaN  \n",
       "4            NaN            NaN            NaN             NaN             NaN  \n",
       "\n",
       "[5 rows x 35 columns]"
      ]
     },
     "execution_count": 4,
     "metadata": {},
     "output_type": "execute_result"
    }
   ],
   "source": [
    "poverty_data.head()"
   ]
  },
  {
   "cell_type": "code",
   "execution_count": 5,
   "metadata": {},
   "outputs": [
    {
     "data": {
      "text/plain": [
       "2                                     0\n",
       "FIPStxt                               0\n",
       "State                                 0\n",
       "Area_Name                             0\n",
       "Rural-urban_Continuum_Code_2003      57\n",
       "Urban_Influence_Code_2003            57\n",
       "Rural-urban_Continuum_Code_2013      52\n",
       "Urban_Influence_Code_2013            52\n",
       "POVALL_2017                           1\n",
       "CI90LBAll_2017                        1\n",
       "CI90UBALL_2017                        1\n",
       "PCTPOVALL_2017                        1\n",
       "CI90LBALLP_2017                       1\n",
       "CI90UBALLP_2017                       1\n",
       "POV017_2017                           1\n",
       "CI90LB017_2017                        1\n",
       "CI90UB017_2017                        1\n",
       "PCTPOV017_2017                        1\n",
       "CI90LB017P_2017                       1\n",
       "CI90UB017P_2017                       1\n",
       "POV517_2017                           1\n",
       "CI90LB517_2017                        1\n",
       "CI90UB517_2017                        1\n",
       "PCTPOV517_2017                        1\n",
       "CI90LB517P_2017                       1\n",
       "CI90UB517P_2017                       1\n",
       "MEDHHINC_2017                         1\n",
       "CI90LBINC_2017                        1\n",
       "CI90UBINC_2017                        1\n",
       "POV04_2017                         3142\n",
       "CI90LB04_2017                      3142\n",
       "CI90UB04_2017                      3142\n",
       "PCTPOV04_2017                      3142\n",
       "CI90LB04P_2017                     3142\n",
       "CI90UB04P_2017                     3142\n",
       "dtype: int64"
      ]
     },
     "execution_count": 5,
     "metadata": {},
     "output_type": "execute_result"
    }
   ],
   "source": [
    "#let's see columns with null values\n",
    "poverty_data.apply(lambda x: sum(x.isnull()), axis=0)"
   ]
  },
  {
   "cell_type": "code",
   "execution_count": 7,
   "metadata": {},
   "outputs": [
    {
     "data": {
      "text/html": [
       "<div>\n",
       "<style scoped>\n",
       "    .dataframe tbody tr th:only-of-type {\n",
       "        vertical-align: middle;\n",
       "    }\n",
       "\n",
       "    .dataframe tbody tr th {\n",
       "        vertical-align: top;\n",
       "    }\n",
       "\n",
       "    .dataframe thead th {\n",
       "        text-align: right;\n",
       "    }\n",
       "</style>\n",
       "<table border=\"1\" class=\"dataframe\">\n",
       "  <thead>\n",
       "    <tr style=\"text-align: right;\">\n",
       "      <th></th>\n",
       "      <th>2</th>\n",
       "      <th>FIPStxt</th>\n",
       "      <th>State</th>\n",
       "      <th>Area_Name</th>\n",
       "      <th>Rural-urban_Continuum_Code_2003</th>\n",
       "      <th>Urban_Influence_Code_2003</th>\n",
       "      <th>Rural-urban_Continuum_Code_2013</th>\n",
       "      <th>Urban_Influence_Code_2013</th>\n",
       "      <th>POVALL_2017</th>\n",
       "      <th>CI90LBAll_2017</th>\n",
       "      <th>...</th>\n",
       "      <th>CI90UB517P_2017</th>\n",
       "      <th>MEDHHINC_2017</th>\n",
       "      <th>CI90LBINC_2017</th>\n",
       "      <th>CI90UBINC_2017</th>\n",
       "      <th>POV04_2017</th>\n",
       "      <th>CI90LB04_2017</th>\n",
       "      <th>CI90UB04_2017</th>\n",
       "      <th>PCTPOV04_2017</th>\n",
       "      <th>CI90LB04P_2017</th>\n",
       "      <th>CI90UB04P_2017</th>\n",
       "    </tr>\n",
       "  </thead>\n",
       "  <tbody>\n",
       "    <tr>\n",
       "      <th>1</th>\n",
       "      <td>4</td>\n",
       "      <td>1000</td>\n",
       "      <td>AL</td>\n",
       "      <td>Alabama</td>\n",
       "      <td>NaN</td>\n",
       "      <td>NaN</td>\n",
       "      <td>NaN</td>\n",
       "      <td>NaN</td>\n",
       "      <td>802263.0</td>\n",
       "      <td>784517.0</td>\n",
       "      <td>...</td>\n",
       "      <td>23.8</td>\n",
       "      <td>48193.0</td>\n",
       "      <td>47451.0</td>\n",
       "      <td>48935.0</td>\n",
       "      <td>78986.0</td>\n",
       "      <td>75009.0</td>\n",
       "      <td>82963.0</td>\n",
       "      <td>27.7</td>\n",
       "      <td>26.3</td>\n",
       "      <td>29.1</td>\n",
       "    </tr>\n",
       "    <tr>\n",
       "      <th>69</th>\n",
       "      <td>72</td>\n",
       "      <td>2000</td>\n",
       "      <td>AK</td>\n",
       "      <td>Alaska</td>\n",
       "      <td>NaN</td>\n",
       "      <td>NaN</td>\n",
       "      <td>NaN</td>\n",
       "      <td>NaN</td>\n",
       "      <td>79428.0</td>\n",
       "      <td>75273.0</td>\n",
       "      <td>...</td>\n",
       "      <td>14.7</td>\n",
       "      <td>74058.0</td>\n",
       "      <td>72099.0</td>\n",
       "      <td>76017.0</td>\n",
       "      <td>8208.0</td>\n",
       "      <td>7145.0</td>\n",
       "      <td>9271.0</td>\n",
       "      <td>15.8</td>\n",
       "      <td>13.7</td>\n",
       "      <td>17.9</td>\n",
       "    </tr>\n",
       "    <tr>\n",
       "      <th>99</th>\n",
       "      <td>102</td>\n",
       "      <td>4000</td>\n",
       "      <td>AZ</td>\n",
       "      <td>Arizona</td>\n",
       "      <td>NaN</td>\n",
       "      <td>NaN</td>\n",
       "      <td>NaN</td>\n",
       "      <td>NaN</td>\n",
       "      <td>1023337.0</td>\n",
       "      <td>1002773.0</td>\n",
       "      <td>...</td>\n",
       "      <td>20.5</td>\n",
       "      <td>56508.0</td>\n",
       "      <td>55999.0</td>\n",
       "      <td>57017.0</td>\n",
       "      <td>99130.0</td>\n",
       "      <td>93773.0</td>\n",
       "      <td>104487.0</td>\n",
       "      <td>23.4</td>\n",
       "      <td>22.1</td>\n",
       "      <td>24.7</td>\n",
       "    </tr>\n",
       "    <tr>\n",
       "      <th>115</th>\n",
       "      <td>118</td>\n",
       "      <td>5000</td>\n",
       "      <td>AR</td>\n",
       "      <td>Arkansas</td>\n",
       "      <td>NaN</td>\n",
       "      <td>NaN</td>\n",
       "      <td>NaN</td>\n",
       "      <td>NaN</td>\n",
       "      <td>475883.0</td>\n",
       "      <td>463966.0</td>\n",
       "      <td>...</td>\n",
       "      <td>22.4</td>\n",
       "      <td>45916.0</td>\n",
       "      <td>45181.0</td>\n",
       "      <td>46651.0</td>\n",
       "      <td>46339.0</td>\n",
       "      <td>43141.0</td>\n",
       "      <td>49537.0</td>\n",
       "      <td>24.8</td>\n",
       "      <td>23.1</td>\n",
       "      <td>26.5</td>\n",
       "    </tr>\n",
       "    <tr>\n",
       "      <th>191</th>\n",
       "      <td>194</td>\n",
       "      <td>6000</td>\n",
       "      <td>CA</td>\n",
       "      <td>California</td>\n",
       "      <td>NaN</td>\n",
       "      <td>NaN</td>\n",
       "      <td>NaN</td>\n",
       "      <td>NaN</td>\n",
       "      <td>5164169.0</td>\n",
       "      <td>5111205.0</td>\n",
       "      <td>...</td>\n",
       "      <td>17.8</td>\n",
       "      <td>71785.0</td>\n",
       "      <td>71492.0</td>\n",
       "      <td>72078.0</td>\n",
       "      <td>453522.0</td>\n",
       "      <td>440023.0</td>\n",
       "      <td>467021.0</td>\n",
       "      <td>18.8</td>\n",
       "      <td>18.2</td>\n",
       "      <td>19.4</td>\n",
       "    </tr>\n",
       "  </tbody>\n",
       "</table>\n",
       "<p>5 rows × 35 columns</p>\n",
       "</div>"
      ],
      "text/plain": [
       "       2  FIPStxt State   Area_Name  Rural-urban_Continuum_Code_2003  \\\n",
       "1      4     1000    AL     Alabama                              NaN   \n",
       "69    72     2000    AK      Alaska                              NaN   \n",
       "99   102     4000    AZ     Arizona                              NaN   \n",
       "115  118     5000    AR    Arkansas                              NaN   \n",
       "191  194     6000    CA  California                              NaN   \n",
       "\n",
       "     Urban_Influence_Code_2003  Rural-urban_Continuum_Code_2013  \\\n",
       "1                          NaN                              NaN   \n",
       "69                         NaN                              NaN   \n",
       "99                         NaN                              NaN   \n",
       "115                        NaN                              NaN   \n",
       "191                        NaN                              NaN   \n",
       "\n",
       "     Urban_Influence_Code_2013  POVALL_2017  CI90LBAll_2017  ...  \\\n",
       "1                          NaN     802263.0        784517.0  ...   \n",
       "69                         NaN      79428.0         75273.0  ...   \n",
       "99                         NaN    1023337.0       1002773.0  ...   \n",
       "115                        NaN     475883.0        463966.0  ...   \n",
       "191                        NaN    5164169.0       5111205.0  ...   \n",
       "\n",
       "     CI90UB517P_2017  MEDHHINC_2017  CI90LBINC_2017  CI90UBINC_2017  \\\n",
       "1               23.8        48193.0         47451.0         48935.0   \n",
       "69              14.7        74058.0         72099.0         76017.0   \n",
       "99              20.5        56508.0         55999.0         57017.0   \n",
       "115             22.4        45916.0         45181.0         46651.0   \n",
       "191             17.8        71785.0         71492.0         72078.0   \n",
       "\n",
       "     POV04_2017  CI90LB04_2017  CI90UB04_2017  PCTPOV04_2017  CI90LB04P_2017  \\\n",
       "1       78986.0        75009.0        82963.0           27.7            26.3   \n",
       "69       8208.0         7145.0         9271.0           15.8            13.7   \n",
       "99      99130.0        93773.0       104487.0           23.4            22.1   \n",
       "115     46339.0        43141.0        49537.0           24.8            23.1   \n",
       "191    453522.0       440023.0       467021.0           18.8            18.2   \n",
       "\n",
       "     CI90UB04P_2017  \n",
       "1              29.1  \n",
       "69             17.9  \n",
       "99             24.7  \n",
       "115            26.5  \n",
       "191            19.4  \n",
       "\n",
       "[5 rows x 35 columns]"
      ]
     },
     "execution_count": 7,
     "metadata": {},
     "output_type": "execute_result"
    }
   ],
   "source": [
    "#get all state rows using Area_Name\n",
    "area_name = ['Alabama','Alaska','Arizona', 'Arkansas','California','Colorado','Connecticut','Delaware',\n",
    "          'Florida','Georgia','Hawaii','Idaho','Illinois','Indiana','Iowa','Kansas','Kentucky','Louisiana',\n",
    "          'Maine','Maryland','Massachusetts','Michigan','Minnesota','Mississippi','Missouri','Montana','Nebraska',\n",
    "          'Nevada','New Hampshire','New Jersey','New Mexico','New York','North Carolina','North Dakota','Ohio',\n",
    "          'Oklahoma','Oregon','Pennsylvania','Rhode Island','South Carolina','South Dakota','Tennessee','Texas',\n",
    "          'Utah','Vermont','Virginia','Washington','West Virginia','Wisconsin','Wyoming']\n",
    "states = poverty_data.loc[poverty_data['Area_Name'].isin(area_name)]\n",
    "states.head()"
   ]
  },
  {
   "cell_type": "code",
   "execution_count": 10,
   "metadata": {},
   "outputs": [
    {
     "data": {
      "text/plain": [
       "2                                   0\n",
       "FIPStxt                             0\n",
       "State                               0\n",
       "Area_Name                           0\n",
       "Rural-urban_Continuum_Code_2003    50\n",
       "Urban_Influence_Code_2003          50\n",
       "Rural-urban_Continuum_Code_2013    50\n",
       "Urban_Influence_Code_2013          50\n",
       "POVALL_2017                         0\n",
       "CI90LBAll_2017                      0\n",
       "CI90UBALL_2017                      0\n",
       "PCTPOVALL_2017                      0\n",
       "CI90LBALLP_2017                     0\n",
       "CI90UBALLP_2017                     0\n",
       "POV017_2017                         0\n",
       "CI90LB017_2017                      0\n",
       "CI90UB017_2017                      0\n",
       "PCTPOV017_2017                      0\n",
       "CI90LB017P_2017                     0\n",
       "CI90UB017P_2017                     0\n",
       "POV517_2017                         0\n",
       "CI90LB517_2017                      0\n",
       "CI90UB517_2017                      0\n",
       "PCTPOV517_2017                      0\n",
       "CI90LB517P_2017                     0\n",
       "CI90UB517P_2017                     0\n",
       "MEDHHINC_2017                       0\n",
       "CI90LBINC_2017                      0\n",
       "CI90UBINC_2017                      0\n",
       "POV04_2017                          0\n",
       "CI90LB04_2017                       0\n",
       "CI90UB04_2017                       0\n",
       "PCTPOV04_2017                       0\n",
       "CI90LB04P_2017                      0\n",
       "CI90UB04P_2017                      0\n",
       "dtype: int64"
      ]
     },
     "execution_count": 10,
     "metadata": {},
     "output_type": "execute_result"
    }
   ],
   "source": [
    "#let's see columns with null values\n",
    "states.apply(lambda x: sum(x.isnull()), axis=0)"
   ]
  },
  {
   "cell_type": "code",
   "execution_count": 12,
   "metadata": {},
   "outputs": [
    {
     "data": {
      "application/vnd.plotly.v1+json": {
       "config": {
        "plotlyServerURL": "https://plot.ly"
       },
       "data": [
        {
         "hoverlabel": {
          "namelength": 0
         },
         "hovertemplate": "State=%{x}<br>POVALL_2017=%{y}",
         "legendgroup": "",
         "line": {
          "color": "#636efa",
          "dash": "solid"
         },
         "mode": "lines",
         "name": "",
         "showlegend": false,
         "type": "scatter",
         "x": [
          "AL",
          "AK",
          "AZ",
          "AR",
          "CA",
          "CO",
          "CT",
          "DE",
          "FL",
          "GA",
          "HI",
          "ID",
          "IL",
          "IN",
          "IA",
          "KS",
          "KY",
          "LA",
          "ME",
          "MD",
          "MA",
          "MI",
          "MN",
          "MS",
          "MO",
          "MT",
          "NE",
          "NV",
          "NH",
          "NJ",
          "NM",
          "NY",
          "NC",
          "ND",
          "OH",
          "OK",
          "OR",
          "PA",
          "RI",
          "SC",
          "SD",
          "TN",
          "TX",
          "UT",
          "VT",
          "VA",
          "WA",
          "WV",
          "Wi",
          "WY"
         ],
         "xaxis": "x",
         "y": [
          802263,
          79428,
          1023337,
          475883,
          5164169,
          566118,
          338651,
          121592,
          2901876,
          1536069,
          132201,
          211937,
          1568670,
          860753,
          328629,
          335371,
          738563,
          893827,
          147413,
          556549,
          692943,
          1373358,
          517348,
          573717,
          793001,
          130616,
          198984,
          392857,
          100550,
          882132,
          388790,
          2735578,
          1468032,
          74057,
          1575401,
          600911,
          534846,
          1548557,
          125208,
          750359,
          107522,
          980394,
          4080377,
          296138,
          65068,
          876438,
          799675,
          326502,
          640174,
          61319
         ],
         "yaxis": "y"
        }
       ],
       "layout": {
        "height": 600,
        "legend": {
         "tracegroupgap": 0
        },
        "template": {
         "data": {
          "bar": [
           {
            "error_x": {
             "color": "#2a3f5f"
            },
            "error_y": {
             "color": "#2a3f5f"
            },
            "marker": {
             "line": {
              "color": "#E5ECF6",
              "width": 0.5
             }
            },
            "type": "bar"
           }
          ],
          "barpolar": [
           {
            "marker": {
             "line": {
              "color": "#E5ECF6",
              "width": 0.5
             }
            },
            "type": "barpolar"
           }
          ],
          "carpet": [
           {
            "aaxis": {
             "endlinecolor": "#2a3f5f",
             "gridcolor": "white",
             "linecolor": "white",
             "minorgridcolor": "white",
             "startlinecolor": "#2a3f5f"
            },
            "baxis": {
             "endlinecolor": "#2a3f5f",
             "gridcolor": "white",
             "linecolor": "white",
             "minorgridcolor": "white",
             "startlinecolor": "#2a3f5f"
            },
            "type": "carpet"
           }
          ],
          "choropleth": [
           {
            "colorbar": {
             "outlinewidth": 0,
             "ticks": ""
            },
            "type": "choropleth"
           }
          ],
          "contour": [
           {
            "colorbar": {
             "outlinewidth": 0,
             "ticks": ""
            },
            "colorscale": [
             [
              0,
              "#0d0887"
             ],
             [
              0.1111111111111111,
              "#46039f"
             ],
             [
              0.2222222222222222,
              "#7201a8"
             ],
             [
              0.3333333333333333,
              "#9c179e"
             ],
             [
              0.4444444444444444,
              "#bd3786"
             ],
             [
              0.5555555555555556,
              "#d8576b"
             ],
             [
              0.6666666666666666,
              "#ed7953"
             ],
             [
              0.7777777777777778,
              "#fb9f3a"
             ],
             [
              0.8888888888888888,
              "#fdca26"
             ],
             [
              1,
              "#f0f921"
             ]
            ],
            "type": "contour"
           }
          ],
          "contourcarpet": [
           {
            "colorbar": {
             "outlinewidth": 0,
             "ticks": ""
            },
            "type": "contourcarpet"
           }
          ],
          "heatmap": [
           {
            "colorbar": {
             "outlinewidth": 0,
             "ticks": ""
            },
            "colorscale": [
             [
              0,
              "#0d0887"
             ],
             [
              0.1111111111111111,
              "#46039f"
             ],
             [
              0.2222222222222222,
              "#7201a8"
             ],
             [
              0.3333333333333333,
              "#9c179e"
             ],
             [
              0.4444444444444444,
              "#bd3786"
             ],
             [
              0.5555555555555556,
              "#d8576b"
             ],
             [
              0.6666666666666666,
              "#ed7953"
             ],
             [
              0.7777777777777778,
              "#fb9f3a"
             ],
             [
              0.8888888888888888,
              "#fdca26"
             ],
             [
              1,
              "#f0f921"
             ]
            ],
            "type": "heatmap"
           }
          ],
          "heatmapgl": [
           {
            "colorbar": {
             "outlinewidth": 0,
             "ticks": ""
            },
            "colorscale": [
             [
              0,
              "#0d0887"
             ],
             [
              0.1111111111111111,
              "#46039f"
             ],
             [
              0.2222222222222222,
              "#7201a8"
             ],
             [
              0.3333333333333333,
              "#9c179e"
             ],
             [
              0.4444444444444444,
              "#bd3786"
             ],
             [
              0.5555555555555556,
              "#d8576b"
             ],
             [
              0.6666666666666666,
              "#ed7953"
             ],
             [
              0.7777777777777778,
              "#fb9f3a"
             ],
             [
              0.8888888888888888,
              "#fdca26"
             ],
             [
              1,
              "#f0f921"
             ]
            ],
            "type": "heatmapgl"
           }
          ],
          "histogram": [
           {
            "marker": {
             "colorbar": {
              "outlinewidth": 0,
              "ticks": ""
             }
            },
            "type": "histogram"
           }
          ],
          "histogram2d": [
           {
            "colorbar": {
             "outlinewidth": 0,
             "ticks": ""
            },
            "colorscale": [
             [
              0,
              "#0d0887"
             ],
             [
              0.1111111111111111,
              "#46039f"
             ],
             [
              0.2222222222222222,
              "#7201a8"
             ],
             [
              0.3333333333333333,
              "#9c179e"
             ],
             [
              0.4444444444444444,
              "#bd3786"
             ],
             [
              0.5555555555555556,
              "#d8576b"
             ],
             [
              0.6666666666666666,
              "#ed7953"
             ],
             [
              0.7777777777777778,
              "#fb9f3a"
             ],
             [
              0.8888888888888888,
              "#fdca26"
             ],
             [
              1,
              "#f0f921"
             ]
            ],
            "type": "histogram2d"
           }
          ],
          "histogram2dcontour": [
           {
            "colorbar": {
             "outlinewidth": 0,
             "ticks": ""
            },
            "colorscale": [
             [
              0,
              "#0d0887"
             ],
             [
              0.1111111111111111,
              "#46039f"
             ],
             [
              0.2222222222222222,
              "#7201a8"
             ],
             [
              0.3333333333333333,
              "#9c179e"
             ],
             [
              0.4444444444444444,
              "#bd3786"
             ],
             [
              0.5555555555555556,
              "#d8576b"
             ],
             [
              0.6666666666666666,
              "#ed7953"
             ],
             [
              0.7777777777777778,
              "#fb9f3a"
             ],
             [
              0.8888888888888888,
              "#fdca26"
             ],
             [
              1,
              "#f0f921"
             ]
            ],
            "type": "histogram2dcontour"
           }
          ],
          "mesh3d": [
           {
            "colorbar": {
             "outlinewidth": 0,
             "ticks": ""
            },
            "type": "mesh3d"
           }
          ],
          "parcoords": [
           {
            "line": {
             "colorbar": {
              "outlinewidth": 0,
              "ticks": ""
             }
            },
            "type": "parcoords"
           }
          ],
          "scatter": [
           {
            "marker": {
             "colorbar": {
              "outlinewidth": 0,
              "ticks": ""
             }
            },
            "type": "scatter"
           }
          ],
          "scatter3d": [
           {
            "line": {
             "colorbar": {
              "outlinewidth": 0,
              "ticks": ""
             }
            },
            "marker": {
             "colorbar": {
              "outlinewidth": 0,
              "ticks": ""
             }
            },
            "type": "scatter3d"
           }
          ],
          "scattercarpet": [
           {
            "marker": {
             "colorbar": {
              "outlinewidth": 0,
              "ticks": ""
             }
            },
            "type": "scattercarpet"
           }
          ],
          "scattergeo": [
           {
            "marker": {
             "colorbar": {
              "outlinewidth": 0,
              "ticks": ""
             }
            },
            "type": "scattergeo"
           }
          ],
          "scattergl": [
           {
            "marker": {
             "colorbar": {
              "outlinewidth": 0,
              "ticks": ""
             }
            },
            "type": "scattergl"
           }
          ],
          "scattermapbox": [
           {
            "marker": {
             "colorbar": {
              "outlinewidth": 0,
              "ticks": ""
             }
            },
            "type": "scattermapbox"
           }
          ],
          "scatterpolar": [
           {
            "marker": {
             "colorbar": {
              "outlinewidth": 0,
              "ticks": ""
             }
            },
            "type": "scatterpolar"
           }
          ],
          "scatterpolargl": [
           {
            "marker": {
             "colorbar": {
              "outlinewidth": 0,
              "ticks": ""
             }
            },
            "type": "scatterpolargl"
           }
          ],
          "scatterternary": [
           {
            "marker": {
             "colorbar": {
              "outlinewidth": 0,
              "ticks": ""
             }
            },
            "type": "scatterternary"
           }
          ],
          "surface": [
           {
            "colorbar": {
             "outlinewidth": 0,
             "ticks": ""
            },
            "colorscale": [
             [
              0,
              "#0d0887"
             ],
             [
              0.1111111111111111,
              "#46039f"
             ],
             [
              0.2222222222222222,
              "#7201a8"
             ],
             [
              0.3333333333333333,
              "#9c179e"
             ],
             [
              0.4444444444444444,
              "#bd3786"
             ],
             [
              0.5555555555555556,
              "#d8576b"
             ],
             [
              0.6666666666666666,
              "#ed7953"
             ],
             [
              0.7777777777777778,
              "#fb9f3a"
             ],
             [
              0.8888888888888888,
              "#fdca26"
             ],
             [
              1,
              "#f0f921"
             ]
            ],
            "type": "surface"
           }
          ],
          "table": [
           {
            "cells": {
             "fill": {
              "color": "#EBF0F8"
             },
             "line": {
              "color": "white"
             }
            },
            "header": {
             "fill": {
              "color": "#C8D4E3"
             },
             "line": {
              "color": "white"
             }
            },
            "type": "table"
           }
          ]
         },
         "layout": {
          "annotationdefaults": {
           "arrowcolor": "#2a3f5f",
           "arrowhead": 0,
           "arrowwidth": 1
          },
          "colorscale": {
           "diverging": [
            [
             0,
             "#8e0152"
            ],
            [
             0.1,
             "#c51b7d"
            ],
            [
             0.2,
             "#de77ae"
            ],
            [
             0.3,
             "#f1b6da"
            ],
            [
             0.4,
             "#fde0ef"
            ],
            [
             0.5,
             "#f7f7f7"
            ],
            [
             0.6,
             "#e6f5d0"
            ],
            [
             0.7,
             "#b8e186"
            ],
            [
             0.8,
             "#7fbc41"
            ],
            [
             0.9,
             "#4d9221"
            ],
            [
             1,
             "#276419"
            ]
           ],
           "sequential": [
            [
             0,
             "#0d0887"
            ],
            [
             0.1111111111111111,
             "#46039f"
            ],
            [
             0.2222222222222222,
             "#7201a8"
            ],
            [
             0.3333333333333333,
             "#9c179e"
            ],
            [
             0.4444444444444444,
             "#bd3786"
            ],
            [
             0.5555555555555556,
             "#d8576b"
            ],
            [
             0.6666666666666666,
             "#ed7953"
            ],
            [
             0.7777777777777778,
             "#fb9f3a"
            ],
            [
             0.8888888888888888,
             "#fdca26"
            ],
            [
             1,
             "#f0f921"
            ]
           ],
           "sequentialminus": [
            [
             0,
             "#0d0887"
            ],
            [
             0.1111111111111111,
             "#46039f"
            ],
            [
             0.2222222222222222,
             "#7201a8"
            ],
            [
             0.3333333333333333,
             "#9c179e"
            ],
            [
             0.4444444444444444,
             "#bd3786"
            ],
            [
             0.5555555555555556,
             "#d8576b"
            ],
            [
             0.6666666666666666,
             "#ed7953"
            ],
            [
             0.7777777777777778,
             "#fb9f3a"
            ],
            [
             0.8888888888888888,
             "#fdca26"
            ],
            [
             1,
             "#f0f921"
            ]
           ]
          },
          "colorway": [
           "#636efa",
           "#EF553B",
           "#00cc96",
           "#ab63fa",
           "#FFA15A",
           "#19d3f3",
           "#FF6692",
           "#B6E880",
           "#FF97FF",
           "#FECB52"
          ],
          "font": {
           "color": "#2a3f5f"
          },
          "geo": {
           "bgcolor": "white",
           "lakecolor": "white",
           "landcolor": "#E5ECF6",
           "showlakes": true,
           "showland": true,
           "subunitcolor": "white"
          },
          "hoverlabel": {
           "align": "left"
          },
          "hovermode": "closest",
          "mapbox": {
           "style": "light"
          },
          "paper_bgcolor": "white",
          "plot_bgcolor": "#E5ECF6",
          "polar": {
           "angularaxis": {
            "gridcolor": "white",
            "linecolor": "white",
            "ticks": ""
           },
           "bgcolor": "#E5ECF6",
           "radialaxis": {
            "gridcolor": "white",
            "linecolor": "white",
            "ticks": ""
           }
          },
          "scene": {
           "xaxis": {
            "backgroundcolor": "#E5ECF6",
            "gridcolor": "white",
            "gridwidth": 2,
            "linecolor": "white",
            "showbackground": true,
            "ticks": "",
            "zerolinecolor": "white"
           },
           "yaxis": {
            "backgroundcolor": "#E5ECF6",
            "gridcolor": "white",
            "gridwidth": 2,
            "linecolor": "white",
            "showbackground": true,
            "ticks": "",
            "zerolinecolor": "white"
           },
           "zaxis": {
            "backgroundcolor": "#E5ECF6",
            "gridcolor": "white",
            "gridwidth": 2,
            "linecolor": "white",
            "showbackground": true,
            "ticks": "",
            "zerolinecolor": "white"
           }
          },
          "shapedefaults": {
           "line": {
            "color": "#2a3f5f"
           }
          },
          "ternary": {
           "aaxis": {
            "gridcolor": "white",
            "linecolor": "white",
            "ticks": ""
           },
           "baxis": {
            "gridcolor": "white",
            "linecolor": "white",
            "ticks": ""
           },
           "bgcolor": "#E5ECF6",
           "caxis": {
            "gridcolor": "white",
            "linecolor": "white",
            "ticks": ""
           }
          },
          "title": {
           "x": 0.05
          },
          "xaxis": {
           "automargin": true,
           "gridcolor": "white",
           "linecolor": "white",
           "ticks": "",
           "zerolinecolor": "white",
           "zerolinewidth": 2
          },
          "yaxis": {
           "automargin": true,
           "gridcolor": "white",
           "linecolor": "white",
           "ticks": "",
           "zerolinecolor": "white",
           "zerolinewidth": 2
          }
         }
        },
        "title": {
         "text": "Poverty Estimates 2017"
        },
        "xaxis": {
         "anchor": "y",
         "domain": [
          0,
          0.98
         ],
         "title": {
          "text": "State"
         }
        },
        "yaxis": {
         "anchor": "x",
         "domain": [
          0,
          1
         ],
         "title": {
          "text": "POVALL_2017"
         }
        }
       }
      },
      "text/html": [
       "<div>\n",
       "        \n",
       "        \n",
       "            <div id=\"aa3f666f-0372-4344-9c39-c2a5dd2404f1\" class=\"plotly-graph-div\" style=\"height:600px; width:100%;\"></div>\n",
       "            <script type=\"text/javascript\">\n",
       "                require([\"plotly\"], function(Plotly) {\n",
       "                    window.PLOTLYENV=window.PLOTLYENV || {};\n",
       "                    \n",
       "                if (document.getElementById(\"aa3f666f-0372-4344-9c39-c2a5dd2404f1\")) {\n",
       "                    Plotly.newPlot(\n",
       "                        'aa3f666f-0372-4344-9c39-c2a5dd2404f1',\n",
       "                        [{\"hoverlabel\": {\"namelength\": 0}, \"hovertemplate\": \"State=%{x}<br>POVALL_2017=%{y}\", \"legendgroup\": \"\", \"line\": {\"color\": \"#636efa\", \"dash\": \"solid\"}, \"mode\": \"lines\", \"name\": \"\", \"showlegend\": false, \"type\": \"scatter\", \"x\": [\"AL\", \"AK\", \"AZ\", \"AR\", \"CA\", \"CO\", \"CT\", \"DE\", \"FL\", \"GA\", \"HI\", \"ID\", \"IL\", \"IN\", \"IA\", \"KS\", \"KY\", \"LA\", \"ME\", \"MD\", \"MA\", \"MI\", \"MN\", \"MS\", \"MO\", \"MT\", \"NE\", \"NV\", \"NH\", \"NJ\", \"NM\", \"NY\", \"NC\", \"ND\", \"OH\", \"OK\", \"OR\", \"PA\", \"RI\", \"SC\", \"SD\", \"TN\", \"TX\", \"UT\", \"VT\", \"VA\", \"WA\", \"WV\", \"Wi\", \"WY\"], \"xaxis\": \"x\", \"y\": [802263.0, 79428.0, 1023337.0, 475883.0, 5164169.0, 566118.0, 338651.0, 121592.0, 2901876.0, 1536069.0, 132201.0, 211937.0, 1568670.0, 860753.0, 328629.0, 335371.0, 738563.0, 893827.0, 147413.0, 556549.0, 692943.0, 1373358.0, 517348.0, 573717.0, 793001.0, 130616.0, 198984.0, 392857.0, 100550.0, 882132.0, 388790.0, 2735578.0, 1468032.0, 74057.0, 1575401.0, 600911.0, 534846.0, 1548557.0, 125208.0, 750359.0, 107522.0, 980394.0, 4080377.0, 296138.0, 65068.0, 876438.0, 799675.0, 326502.0, 640174.0, 61319.0], \"yaxis\": \"y\"}],\n",
       "                        {\"height\": 600, \"legend\": {\"tracegroupgap\": 0}, \"template\": {\"data\": {\"bar\": [{\"error_x\": {\"color\": \"#2a3f5f\"}, \"error_y\": {\"color\": \"#2a3f5f\"}, \"marker\": {\"line\": {\"color\": \"#E5ECF6\", \"width\": 0.5}}, \"type\": \"bar\"}], \"barpolar\": [{\"marker\": {\"line\": {\"color\": \"#E5ECF6\", \"width\": 0.5}}, \"type\": \"barpolar\"}], \"carpet\": [{\"aaxis\": {\"endlinecolor\": \"#2a3f5f\", \"gridcolor\": \"white\", \"linecolor\": \"white\", \"minorgridcolor\": \"white\", \"startlinecolor\": \"#2a3f5f\"}, \"baxis\": {\"endlinecolor\": \"#2a3f5f\", \"gridcolor\": \"white\", \"linecolor\": \"white\", \"minorgridcolor\": \"white\", \"startlinecolor\": \"#2a3f5f\"}, \"type\": \"carpet\"}], \"choropleth\": [{\"colorbar\": {\"outlinewidth\": 0, \"ticks\": \"\"}, \"type\": \"choropleth\"}], \"contour\": [{\"colorbar\": {\"outlinewidth\": 0, \"ticks\": \"\"}, \"colorscale\": [[0.0, \"#0d0887\"], [0.1111111111111111, \"#46039f\"], [0.2222222222222222, \"#7201a8\"], [0.3333333333333333, \"#9c179e\"], [0.4444444444444444, \"#bd3786\"], [0.5555555555555556, \"#d8576b\"], [0.6666666666666666, \"#ed7953\"], [0.7777777777777778, \"#fb9f3a\"], [0.8888888888888888, \"#fdca26\"], [1.0, \"#f0f921\"]], \"type\": \"contour\"}], \"contourcarpet\": [{\"colorbar\": {\"outlinewidth\": 0, \"ticks\": \"\"}, \"type\": \"contourcarpet\"}], \"heatmap\": [{\"colorbar\": {\"outlinewidth\": 0, \"ticks\": \"\"}, \"colorscale\": [[0.0, \"#0d0887\"], [0.1111111111111111, \"#46039f\"], [0.2222222222222222, \"#7201a8\"], [0.3333333333333333, \"#9c179e\"], [0.4444444444444444, \"#bd3786\"], [0.5555555555555556, \"#d8576b\"], [0.6666666666666666, \"#ed7953\"], [0.7777777777777778, \"#fb9f3a\"], [0.8888888888888888, \"#fdca26\"], [1.0, \"#f0f921\"]], \"type\": \"heatmap\"}], \"heatmapgl\": [{\"colorbar\": {\"outlinewidth\": 0, \"ticks\": \"\"}, \"colorscale\": [[0.0, \"#0d0887\"], [0.1111111111111111, \"#46039f\"], [0.2222222222222222, \"#7201a8\"], [0.3333333333333333, \"#9c179e\"], [0.4444444444444444, \"#bd3786\"], [0.5555555555555556, \"#d8576b\"], [0.6666666666666666, \"#ed7953\"], [0.7777777777777778, \"#fb9f3a\"], [0.8888888888888888, \"#fdca26\"], [1.0, \"#f0f921\"]], \"type\": \"heatmapgl\"}], \"histogram\": [{\"marker\": {\"colorbar\": {\"outlinewidth\": 0, \"ticks\": \"\"}}, \"type\": \"histogram\"}], \"histogram2d\": [{\"colorbar\": {\"outlinewidth\": 0, \"ticks\": \"\"}, \"colorscale\": [[0.0, \"#0d0887\"], [0.1111111111111111, \"#46039f\"], [0.2222222222222222, \"#7201a8\"], [0.3333333333333333, \"#9c179e\"], [0.4444444444444444, \"#bd3786\"], [0.5555555555555556, \"#d8576b\"], [0.6666666666666666, \"#ed7953\"], [0.7777777777777778, \"#fb9f3a\"], [0.8888888888888888, \"#fdca26\"], [1.0, \"#f0f921\"]], \"type\": \"histogram2d\"}], \"histogram2dcontour\": [{\"colorbar\": {\"outlinewidth\": 0, \"ticks\": \"\"}, \"colorscale\": [[0.0, \"#0d0887\"], [0.1111111111111111, \"#46039f\"], [0.2222222222222222, \"#7201a8\"], [0.3333333333333333, \"#9c179e\"], [0.4444444444444444, \"#bd3786\"], [0.5555555555555556, \"#d8576b\"], [0.6666666666666666, \"#ed7953\"], [0.7777777777777778, \"#fb9f3a\"], [0.8888888888888888, \"#fdca26\"], [1.0, \"#f0f921\"]], \"type\": \"histogram2dcontour\"}], \"mesh3d\": [{\"colorbar\": {\"outlinewidth\": 0, \"ticks\": \"\"}, \"type\": \"mesh3d\"}], \"parcoords\": [{\"line\": {\"colorbar\": {\"outlinewidth\": 0, \"ticks\": \"\"}}, \"type\": \"parcoords\"}], \"scatter\": [{\"marker\": {\"colorbar\": {\"outlinewidth\": 0, \"ticks\": \"\"}}, \"type\": \"scatter\"}], \"scatter3d\": [{\"line\": {\"colorbar\": {\"outlinewidth\": 0, \"ticks\": \"\"}}, \"marker\": {\"colorbar\": {\"outlinewidth\": 0, \"ticks\": \"\"}}, \"type\": \"scatter3d\"}], \"scattercarpet\": [{\"marker\": {\"colorbar\": {\"outlinewidth\": 0, \"ticks\": \"\"}}, \"type\": \"scattercarpet\"}], \"scattergeo\": [{\"marker\": {\"colorbar\": {\"outlinewidth\": 0, \"ticks\": \"\"}}, \"type\": \"scattergeo\"}], \"scattergl\": [{\"marker\": {\"colorbar\": {\"outlinewidth\": 0, \"ticks\": \"\"}}, \"type\": \"scattergl\"}], \"scattermapbox\": [{\"marker\": {\"colorbar\": {\"outlinewidth\": 0, \"ticks\": \"\"}}, \"type\": \"scattermapbox\"}], \"scatterpolar\": [{\"marker\": {\"colorbar\": {\"outlinewidth\": 0, \"ticks\": \"\"}}, \"type\": \"scatterpolar\"}], \"scatterpolargl\": [{\"marker\": {\"colorbar\": {\"outlinewidth\": 0, \"ticks\": \"\"}}, \"type\": \"scatterpolargl\"}], \"scatterternary\": [{\"marker\": {\"colorbar\": {\"outlinewidth\": 0, \"ticks\": \"\"}}, \"type\": \"scatterternary\"}], \"surface\": [{\"colorbar\": {\"outlinewidth\": 0, \"ticks\": \"\"}, \"colorscale\": [[0.0, \"#0d0887\"], [0.1111111111111111, \"#46039f\"], [0.2222222222222222, \"#7201a8\"], [0.3333333333333333, \"#9c179e\"], [0.4444444444444444, \"#bd3786\"], [0.5555555555555556, \"#d8576b\"], [0.6666666666666666, \"#ed7953\"], [0.7777777777777778, \"#fb9f3a\"], [0.8888888888888888, \"#fdca26\"], [1.0, \"#f0f921\"]], \"type\": \"surface\"}], \"table\": [{\"cells\": {\"fill\": {\"color\": \"#EBF0F8\"}, \"line\": {\"color\": \"white\"}}, \"header\": {\"fill\": {\"color\": \"#C8D4E3\"}, \"line\": {\"color\": \"white\"}}, \"type\": \"table\"}]}, \"layout\": {\"annotationdefaults\": {\"arrowcolor\": \"#2a3f5f\", \"arrowhead\": 0, \"arrowwidth\": 1}, \"colorscale\": {\"diverging\": [[0, \"#8e0152\"], [0.1, \"#c51b7d\"], [0.2, \"#de77ae\"], [0.3, \"#f1b6da\"], [0.4, \"#fde0ef\"], [0.5, \"#f7f7f7\"], [0.6, \"#e6f5d0\"], [0.7, \"#b8e186\"], [0.8, \"#7fbc41\"], [0.9, \"#4d9221\"], [1, \"#276419\"]], \"sequential\": [[0.0, \"#0d0887\"], [0.1111111111111111, \"#46039f\"], [0.2222222222222222, \"#7201a8\"], [0.3333333333333333, \"#9c179e\"], [0.4444444444444444, \"#bd3786\"], [0.5555555555555556, \"#d8576b\"], [0.6666666666666666, \"#ed7953\"], [0.7777777777777778, \"#fb9f3a\"], [0.8888888888888888, \"#fdca26\"], [1.0, \"#f0f921\"]], \"sequentialminus\": [[0.0, \"#0d0887\"], [0.1111111111111111, \"#46039f\"], [0.2222222222222222, \"#7201a8\"], [0.3333333333333333, \"#9c179e\"], [0.4444444444444444, \"#bd3786\"], [0.5555555555555556, \"#d8576b\"], [0.6666666666666666, \"#ed7953\"], [0.7777777777777778, \"#fb9f3a\"], [0.8888888888888888, \"#fdca26\"], [1.0, \"#f0f921\"]]}, \"colorway\": [\"#636efa\", \"#EF553B\", \"#00cc96\", \"#ab63fa\", \"#FFA15A\", \"#19d3f3\", \"#FF6692\", \"#B6E880\", \"#FF97FF\", \"#FECB52\"], \"font\": {\"color\": \"#2a3f5f\"}, \"geo\": {\"bgcolor\": \"white\", \"lakecolor\": \"white\", \"landcolor\": \"#E5ECF6\", \"showlakes\": true, \"showland\": true, \"subunitcolor\": \"white\"}, \"hoverlabel\": {\"align\": \"left\"}, \"hovermode\": \"closest\", \"mapbox\": {\"style\": \"light\"}, \"paper_bgcolor\": \"white\", \"plot_bgcolor\": \"#E5ECF6\", \"polar\": {\"angularaxis\": {\"gridcolor\": \"white\", \"linecolor\": \"white\", \"ticks\": \"\"}, \"bgcolor\": \"#E5ECF6\", \"radialaxis\": {\"gridcolor\": \"white\", \"linecolor\": \"white\", \"ticks\": \"\"}}, \"scene\": {\"xaxis\": {\"backgroundcolor\": \"#E5ECF6\", \"gridcolor\": \"white\", \"gridwidth\": 2, \"linecolor\": \"white\", \"showbackground\": true, \"ticks\": \"\", \"zerolinecolor\": \"white\"}, \"yaxis\": {\"backgroundcolor\": \"#E5ECF6\", \"gridcolor\": \"white\", \"gridwidth\": 2, \"linecolor\": \"white\", \"showbackground\": true, \"ticks\": \"\", \"zerolinecolor\": \"white\"}, \"zaxis\": {\"backgroundcolor\": \"#E5ECF6\", \"gridcolor\": \"white\", \"gridwidth\": 2, \"linecolor\": \"white\", \"showbackground\": true, \"ticks\": \"\", \"zerolinecolor\": \"white\"}}, \"shapedefaults\": {\"line\": {\"color\": \"#2a3f5f\"}}, \"ternary\": {\"aaxis\": {\"gridcolor\": \"white\", \"linecolor\": \"white\", \"ticks\": \"\"}, \"baxis\": {\"gridcolor\": \"white\", \"linecolor\": \"white\", \"ticks\": \"\"}, \"bgcolor\": \"#E5ECF6\", \"caxis\": {\"gridcolor\": \"white\", \"linecolor\": \"white\", \"ticks\": \"\"}}, \"title\": {\"x\": 0.05}, \"xaxis\": {\"automargin\": true, \"gridcolor\": \"white\", \"linecolor\": \"white\", \"ticks\": \"\", \"zerolinecolor\": \"white\", \"zerolinewidth\": 2}, \"yaxis\": {\"automargin\": true, \"gridcolor\": \"white\", \"linecolor\": \"white\", \"ticks\": \"\", \"zerolinecolor\": \"white\", \"zerolinewidth\": 2}}}, \"title\": {\"text\": \"Poverty Estimates 2017\"}, \"xaxis\": {\"anchor\": \"y\", \"domain\": [0.0, 0.98], \"title\": {\"text\": \"State\"}}, \"yaxis\": {\"anchor\": \"x\", \"domain\": [0.0, 1.0], \"title\": {\"text\": \"POVALL_2017\"}}},\n",
       "                        {\"responsive\": true}\n",
       "                    ).then(function(){\n",
       "                            \n",
       "var gd = document.getElementById('aa3f666f-0372-4344-9c39-c2a5dd2404f1');\n",
       "var x = new MutationObserver(function (mutations, observer) {{\n",
       "        var display = window.getComputedStyle(gd).display;\n",
       "        if (!display || display === 'none') {{\n",
       "            console.log([gd, 'removed!']);\n",
       "            Plotly.purge(gd);\n",
       "            observer.disconnect();\n",
       "        }}\n",
       "}});\n",
       "\n",
       "// Listen for the removal of the full notebook cells\n",
       "var notebookContainer = gd.closest('#notebook-container');\n",
       "if (notebookContainer) {{\n",
       "    x.observe(notebookContainer, {childList: true});\n",
       "}}\n",
       "\n",
       "// Listen for the clearing of the current output cell\n",
       "var outputEl = gd.closest('.output');\n",
       "if (outputEl) {{\n",
       "    x.observe(outputEl, {childList: true});\n",
       "}}\n",
       "\n",
       "                        })\n",
       "                };\n",
       "                });\n",
       "            </script>\n",
       "        </div>"
      ]
     },
     "metadata": {},
     "output_type": "display_data"
    }
   ],
   "source": [
    "poverty_data_2017 = px.line(states, x='State', y='POVALL_2017', title='Poverty Estimates 2017')\n",
    "poverty_data_2017.show()"
   ]
  },
  {
   "cell_type": "code",
   "execution_count": 29,
   "metadata": {},
   "outputs": [
    {
     "data": {
      "application/vnd.plotly.v1+json": {
       "config": {
        "plotlyServerURL": "https://plot.ly"
       },
       "data": [
        {
         "colorbar": {
          "title": {
           "text": "Poverty Estimates 2017"
          }
         },
         "colorscale": [
          [
           0,
           "rgb(247,252,245)"
          ],
          [
           0.125,
           "rgb(229,245,224)"
          ],
          [
           0.25,
           "rgb(199,233,192)"
          ],
          [
           0.375,
           "rgb(161,217,155)"
          ],
          [
           0.5,
           "rgb(116,196,118)"
          ],
          [
           0.625,
           "rgb(65,171,93)"
          ],
          [
           0.75,
           "rgb(35,139,69)"
          ],
          [
           0.875,
           "rgb(0,109,44)"
          ],
          [
           1,
           "rgb(0,68,27)"
          ]
         ],
         "locationmode": "USA-states",
         "locations": [
          "AL",
          "AK",
          "AZ",
          "AR",
          "CA",
          "CO",
          "CT",
          "DE",
          "FL",
          "GA",
          "HI",
          "ID",
          "IL",
          "IN",
          "IA",
          "KS",
          "KY",
          "LA",
          "ME",
          "MD",
          "MA",
          "MI",
          "MN",
          "MS",
          "MO",
          "MT",
          "NE",
          "NV",
          "NH",
          "NJ",
          "NM",
          "NY",
          "NC",
          "ND",
          "OH",
          "OK",
          "OR",
          "PA",
          "RI",
          "SC",
          "SD",
          "TN",
          "TX",
          "UT",
          "VT",
          "VA",
          "WA",
          "WV",
          "Wi",
          "WY"
         ],
         "reversescale": true,
         "text": [
          "Poverty Estimates 2017    802263.0 State:     Alabama",
          "Poverty Estimates 2017    79428.0 State:     Alaska",
          "Poverty Estimates 2017    1023337.0 State:     Arizona",
          "Poverty Estimates 2017    475883.0 State:     Arkansas",
          "Poverty Estimates 2017    5164169.0 State:     California",
          "Poverty Estimates 2017    566118.0 State:     Colorado",
          "Poverty Estimates 2017    338651.0 State:     Connecticut",
          "Poverty Estimates 2017    121592.0 State:     Delaware",
          "Poverty Estimates 2017    2901876.0 State:     Florida",
          "Poverty Estimates 2017    1536069.0 State:     Georgia",
          "Poverty Estimates 2017    132201.0 State:     Hawaii",
          "Poverty Estimates 2017    211937.0 State:     Idaho",
          "Poverty Estimates 2017    1568670.0 State:     Illinois",
          "Poverty Estimates 2017    860753.0 State:     Indiana",
          "Poverty Estimates 2017    328629.0 State:     Iowa",
          "Poverty Estimates 2017    335371.0 State:     Kansas",
          "Poverty Estimates 2017    738563.0 State:     Kentucky",
          "Poverty Estimates 2017    893827.0 State:     Louisiana",
          "Poverty Estimates 2017    147413.0 State:     Maine",
          "Poverty Estimates 2017    556549.0 State:     Maryland",
          "Poverty Estimates 2017    692943.0 State:     Massachusetts",
          "Poverty Estimates 2017    1373358.0 State:     Michigan",
          "Poverty Estimates 2017    517348.0 State:     Minnesota",
          "Poverty Estimates 2017    573717.0 State:     Mississippi",
          "Poverty Estimates 2017    793001.0 State:     Missouri",
          "Poverty Estimates 2017    130616.0 State:     Montana",
          "Poverty Estimates 2017    198984.0 State:     Nebraska",
          "Poverty Estimates 2017    392857.0 State:     Nevada",
          "Poverty Estimates 2017    100550.0 State:     New Hampshire",
          "Poverty Estimates 2017    882132.0 State:     New Jersey",
          "Poverty Estimates 2017    388790.0 State:     New Mexico",
          "Poverty Estimates 2017    2735578.0 State:     New York",
          "Poverty Estimates 2017    1468032.0 State:     North Carolina",
          "Poverty Estimates 2017    74057.0 State:     North Dakota",
          "Poverty Estimates 2017    1575401.0 State:     Ohio",
          "Poverty Estimates 2017    600911.0 State:     Oklahoma",
          "Poverty Estimates 2017    534846.0 State:     Oregon",
          "Poverty Estimates 2017    1548557.0 State:     Pennsylvania",
          "Poverty Estimates 2017    125208.0 State:     Rhode Island",
          "Poverty Estimates 2017    750359.0 State:     South Carolina",
          "Poverty Estimates 2017    107522.0 State:     South Dakota",
          "Poverty Estimates 2017    980394.0 State:     Tennessee",
          "Poverty Estimates 2017    4080377.0 State:     Texas",
          "Poverty Estimates 2017    296138.0 State:     Utah",
          "Poverty Estimates 2017    65068.0 State:     Vermont",
          "Poverty Estimates 2017    876438.0 State:     Virginia",
          "Poverty Estimates 2017    799675.0 State:     Washington",
          "Poverty Estimates 2017    326502.0 State:     West Virginia",
          "Poverty Estimates 2017    640174.0 State:     Wisconsin",
          "Poverty Estimates 2017    61319.0 State:     Wyoming"
         ],
         "type": "choropleth",
         "z": [
          802263,
          79428,
          1023337,
          475883,
          5164169,
          566118,
          338651,
          121592,
          2901876,
          1536069,
          132201,
          211937,
          1568670,
          860753,
          328629,
          335371,
          738563,
          893827,
          147413,
          556549,
          692943,
          1373358,
          517348,
          573717,
          793001,
          130616,
          198984,
          392857,
          100550,
          882132,
          388790,
          2735578,
          1468032,
          74057,
          1575401,
          600911,
          534846,
          1548557,
          125208,
          750359,
          107522,
          980394,
          4080377,
          296138,
          65068,
          876438,
          799675,
          326502,
          640174,
          61319
         ]
        }
       ],
       "layout": {
        "geo": {
         "lakecolor": "rgb(255,255,255)",
         "projection": {
          "type": "albers usa"
         },
         "scope": "usa",
         "showlakes": true
        },
        "template": {
         "data": {
          "bar": [
           {
            "error_x": {
             "color": "#2a3f5f"
            },
            "error_y": {
             "color": "#2a3f5f"
            },
            "marker": {
             "line": {
              "color": "#E5ECF6",
              "width": 0.5
             }
            },
            "type": "bar"
           }
          ],
          "barpolar": [
           {
            "marker": {
             "line": {
              "color": "#E5ECF6",
              "width": 0.5
             }
            },
            "type": "barpolar"
           }
          ],
          "carpet": [
           {
            "aaxis": {
             "endlinecolor": "#2a3f5f",
             "gridcolor": "white",
             "linecolor": "white",
             "minorgridcolor": "white",
             "startlinecolor": "#2a3f5f"
            },
            "baxis": {
             "endlinecolor": "#2a3f5f",
             "gridcolor": "white",
             "linecolor": "white",
             "minorgridcolor": "white",
             "startlinecolor": "#2a3f5f"
            },
            "type": "carpet"
           }
          ],
          "choropleth": [
           {
            "colorbar": {
             "outlinewidth": 0,
             "ticks": ""
            },
            "type": "choropleth"
           }
          ],
          "contour": [
           {
            "colorbar": {
             "outlinewidth": 0,
             "ticks": ""
            },
            "colorscale": [
             [
              0,
              "#0d0887"
             ],
             [
              0.1111111111111111,
              "#46039f"
             ],
             [
              0.2222222222222222,
              "#7201a8"
             ],
             [
              0.3333333333333333,
              "#9c179e"
             ],
             [
              0.4444444444444444,
              "#bd3786"
             ],
             [
              0.5555555555555556,
              "#d8576b"
             ],
             [
              0.6666666666666666,
              "#ed7953"
             ],
             [
              0.7777777777777778,
              "#fb9f3a"
             ],
             [
              0.8888888888888888,
              "#fdca26"
             ],
             [
              1,
              "#f0f921"
             ]
            ],
            "type": "contour"
           }
          ],
          "contourcarpet": [
           {
            "colorbar": {
             "outlinewidth": 0,
             "ticks": ""
            },
            "type": "contourcarpet"
           }
          ],
          "heatmap": [
           {
            "colorbar": {
             "outlinewidth": 0,
             "ticks": ""
            },
            "colorscale": [
             [
              0,
              "#0d0887"
             ],
             [
              0.1111111111111111,
              "#46039f"
             ],
             [
              0.2222222222222222,
              "#7201a8"
             ],
             [
              0.3333333333333333,
              "#9c179e"
             ],
             [
              0.4444444444444444,
              "#bd3786"
             ],
             [
              0.5555555555555556,
              "#d8576b"
             ],
             [
              0.6666666666666666,
              "#ed7953"
             ],
             [
              0.7777777777777778,
              "#fb9f3a"
             ],
             [
              0.8888888888888888,
              "#fdca26"
             ],
             [
              1,
              "#f0f921"
             ]
            ],
            "type": "heatmap"
           }
          ],
          "heatmapgl": [
           {
            "colorbar": {
             "outlinewidth": 0,
             "ticks": ""
            },
            "colorscale": [
             [
              0,
              "#0d0887"
             ],
             [
              0.1111111111111111,
              "#46039f"
             ],
             [
              0.2222222222222222,
              "#7201a8"
             ],
             [
              0.3333333333333333,
              "#9c179e"
             ],
             [
              0.4444444444444444,
              "#bd3786"
             ],
             [
              0.5555555555555556,
              "#d8576b"
             ],
             [
              0.6666666666666666,
              "#ed7953"
             ],
             [
              0.7777777777777778,
              "#fb9f3a"
             ],
             [
              0.8888888888888888,
              "#fdca26"
             ],
             [
              1,
              "#f0f921"
             ]
            ],
            "type": "heatmapgl"
           }
          ],
          "histogram": [
           {
            "marker": {
             "colorbar": {
              "outlinewidth": 0,
              "ticks": ""
             }
            },
            "type": "histogram"
           }
          ],
          "histogram2d": [
           {
            "colorbar": {
             "outlinewidth": 0,
             "ticks": ""
            },
            "colorscale": [
             [
              0,
              "#0d0887"
             ],
             [
              0.1111111111111111,
              "#46039f"
             ],
             [
              0.2222222222222222,
              "#7201a8"
             ],
             [
              0.3333333333333333,
              "#9c179e"
             ],
             [
              0.4444444444444444,
              "#bd3786"
             ],
             [
              0.5555555555555556,
              "#d8576b"
             ],
             [
              0.6666666666666666,
              "#ed7953"
             ],
             [
              0.7777777777777778,
              "#fb9f3a"
             ],
             [
              0.8888888888888888,
              "#fdca26"
             ],
             [
              1,
              "#f0f921"
             ]
            ],
            "type": "histogram2d"
           }
          ],
          "histogram2dcontour": [
           {
            "colorbar": {
             "outlinewidth": 0,
             "ticks": ""
            },
            "colorscale": [
             [
              0,
              "#0d0887"
             ],
             [
              0.1111111111111111,
              "#46039f"
             ],
             [
              0.2222222222222222,
              "#7201a8"
             ],
             [
              0.3333333333333333,
              "#9c179e"
             ],
             [
              0.4444444444444444,
              "#bd3786"
             ],
             [
              0.5555555555555556,
              "#d8576b"
             ],
             [
              0.6666666666666666,
              "#ed7953"
             ],
             [
              0.7777777777777778,
              "#fb9f3a"
             ],
             [
              0.8888888888888888,
              "#fdca26"
             ],
             [
              1,
              "#f0f921"
             ]
            ],
            "type": "histogram2dcontour"
           }
          ],
          "mesh3d": [
           {
            "colorbar": {
             "outlinewidth": 0,
             "ticks": ""
            },
            "type": "mesh3d"
           }
          ],
          "parcoords": [
           {
            "line": {
             "colorbar": {
              "outlinewidth": 0,
              "ticks": ""
             }
            },
            "type": "parcoords"
           }
          ],
          "scatter": [
           {
            "marker": {
             "colorbar": {
              "outlinewidth": 0,
              "ticks": ""
             }
            },
            "type": "scatter"
           }
          ],
          "scatter3d": [
           {
            "line": {
             "colorbar": {
              "outlinewidth": 0,
              "ticks": ""
             }
            },
            "marker": {
             "colorbar": {
              "outlinewidth": 0,
              "ticks": ""
             }
            },
            "type": "scatter3d"
           }
          ],
          "scattercarpet": [
           {
            "marker": {
             "colorbar": {
              "outlinewidth": 0,
              "ticks": ""
             }
            },
            "type": "scattercarpet"
           }
          ],
          "scattergeo": [
           {
            "marker": {
             "colorbar": {
              "outlinewidth": 0,
              "ticks": ""
             }
            },
            "type": "scattergeo"
           }
          ],
          "scattergl": [
           {
            "marker": {
             "colorbar": {
              "outlinewidth": 0,
              "ticks": ""
             }
            },
            "type": "scattergl"
           }
          ],
          "scattermapbox": [
           {
            "marker": {
             "colorbar": {
              "outlinewidth": 0,
              "ticks": ""
             }
            },
            "type": "scattermapbox"
           }
          ],
          "scatterpolar": [
           {
            "marker": {
             "colorbar": {
              "outlinewidth": 0,
              "ticks": ""
             }
            },
            "type": "scatterpolar"
           }
          ],
          "scatterpolargl": [
           {
            "marker": {
             "colorbar": {
              "outlinewidth": 0,
              "ticks": ""
             }
            },
            "type": "scatterpolargl"
           }
          ],
          "scatterternary": [
           {
            "marker": {
             "colorbar": {
              "outlinewidth": 0,
              "ticks": ""
             }
            },
            "type": "scatterternary"
           }
          ],
          "surface": [
           {
            "colorbar": {
             "outlinewidth": 0,
             "ticks": ""
            },
            "colorscale": [
             [
              0,
              "#0d0887"
             ],
             [
              0.1111111111111111,
              "#46039f"
             ],
             [
              0.2222222222222222,
              "#7201a8"
             ],
             [
              0.3333333333333333,
              "#9c179e"
             ],
             [
              0.4444444444444444,
              "#bd3786"
             ],
             [
              0.5555555555555556,
              "#d8576b"
             ],
             [
              0.6666666666666666,
              "#ed7953"
             ],
             [
              0.7777777777777778,
              "#fb9f3a"
             ],
             [
              0.8888888888888888,
              "#fdca26"
             ],
             [
              1,
              "#f0f921"
             ]
            ],
            "type": "surface"
           }
          ],
          "table": [
           {
            "cells": {
             "fill": {
              "color": "#EBF0F8"
             },
             "line": {
              "color": "white"
             }
            },
            "header": {
             "fill": {
              "color": "#C8D4E3"
             },
             "line": {
              "color": "white"
             }
            },
            "type": "table"
           }
          ]
         },
         "layout": {
          "annotationdefaults": {
           "arrowcolor": "#2a3f5f",
           "arrowhead": 0,
           "arrowwidth": 1
          },
          "colorscale": {
           "diverging": [
            [
             0,
             "#8e0152"
            ],
            [
             0.1,
             "#c51b7d"
            ],
            [
             0.2,
             "#de77ae"
            ],
            [
             0.3,
             "#f1b6da"
            ],
            [
             0.4,
             "#fde0ef"
            ],
            [
             0.5,
             "#f7f7f7"
            ],
            [
             0.6,
             "#e6f5d0"
            ],
            [
             0.7,
             "#b8e186"
            ],
            [
             0.8,
             "#7fbc41"
            ],
            [
             0.9,
             "#4d9221"
            ],
            [
             1,
             "#276419"
            ]
           ],
           "sequential": [
            [
             0,
             "#0d0887"
            ],
            [
             0.1111111111111111,
             "#46039f"
            ],
            [
             0.2222222222222222,
             "#7201a8"
            ],
            [
             0.3333333333333333,
             "#9c179e"
            ],
            [
             0.4444444444444444,
             "#bd3786"
            ],
            [
             0.5555555555555556,
             "#d8576b"
            ],
            [
             0.6666666666666666,
             "#ed7953"
            ],
            [
             0.7777777777777778,
             "#fb9f3a"
            ],
            [
             0.8888888888888888,
             "#fdca26"
            ],
            [
             1,
             "#f0f921"
            ]
           ],
           "sequentialminus": [
            [
             0,
             "#0d0887"
            ],
            [
             0.1111111111111111,
             "#46039f"
            ],
            [
             0.2222222222222222,
             "#7201a8"
            ],
            [
             0.3333333333333333,
             "#9c179e"
            ],
            [
             0.4444444444444444,
             "#bd3786"
            ],
            [
             0.5555555555555556,
             "#d8576b"
            ],
            [
             0.6666666666666666,
             "#ed7953"
            ],
            [
             0.7777777777777778,
             "#fb9f3a"
            ],
            [
             0.8888888888888888,
             "#fdca26"
            ],
            [
             1,
             "#f0f921"
            ]
           ]
          },
          "colorway": [
           "#636efa",
           "#EF553B",
           "#00cc96",
           "#ab63fa",
           "#FFA15A",
           "#19d3f3",
           "#FF6692",
           "#B6E880",
           "#FF97FF",
           "#FECB52"
          ],
          "font": {
           "color": "#2a3f5f"
          },
          "geo": {
           "bgcolor": "white",
           "lakecolor": "white",
           "landcolor": "#E5ECF6",
           "showlakes": true,
           "showland": true,
           "subunitcolor": "white"
          },
          "hoverlabel": {
           "align": "left"
          },
          "hovermode": "closest",
          "mapbox": {
           "style": "light"
          },
          "paper_bgcolor": "white",
          "plot_bgcolor": "#E5ECF6",
          "polar": {
           "angularaxis": {
            "gridcolor": "white",
            "linecolor": "white",
            "ticks": ""
           },
           "bgcolor": "#E5ECF6",
           "radialaxis": {
            "gridcolor": "white",
            "linecolor": "white",
            "ticks": ""
           }
          },
          "scene": {
           "xaxis": {
            "backgroundcolor": "#E5ECF6",
            "gridcolor": "white",
            "gridwidth": 2,
            "linecolor": "white",
            "showbackground": true,
            "ticks": "",
            "zerolinecolor": "white"
           },
           "yaxis": {
            "backgroundcolor": "#E5ECF6",
            "gridcolor": "white",
            "gridwidth": 2,
            "linecolor": "white",
            "showbackground": true,
            "ticks": "",
            "zerolinecolor": "white"
           },
           "zaxis": {
            "backgroundcolor": "#E5ECF6",
            "gridcolor": "white",
            "gridwidth": 2,
            "linecolor": "white",
            "showbackground": true,
            "ticks": "",
            "zerolinecolor": "white"
           }
          },
          "shapedefaults": {
           "line": {
            "color": "#2a3f5f"
           }
          },
          "ternary": {
           "aaxis": {
            "gridcolor": "white",
            "linecolor": "white",
            "ticks": ""
           },
           "baxis": {
            "gridcolor": "white",
            "linecolor": "white",
            "ticks": ""
           },
           "bgcolor": "#E5ECF6",
           "caxis": {
            "gridcolor": "white",
            "linecolor": "white",
            "ticks": ""
           }
          },
          "title": {
           "x": 0.05
          },
          "xaxis": {
           "automargin": true,
           "gridcolor": "white",
           "linecolor": "white",
           "ticks": "",
           "zerolinecolor": "white",
           "zerolinewidth": 2
          },
          "yaxis": {
           "automargin": true,
           "gridcolor": "white",
           "linecolor": "white",
           "ticks": "",
           "zerolinecolor": "white",
           "zerolinewidth": 2
          }
         }
        },
        "title": {
         "text": "Poverty Estimates 2017"
        }
       }
      },
      "text/html": [
       "<div>\n",
       "        \n",
       "        \n",
       "            <div id=\"2104f6d3-5562-45a8-82fe-674828273358\" class=\"plotly-graph-div\" style=\"height:525px; width:100%;\"></div>\n",
       "            <script type=\"text/javascript\">\n",
       "                require([\"plotly\"], function(Plotly) {\n",
       "                    window.PLOTLYENV=window.PLOTLYENV || {};\n",
       "                    \n",
       "                if (document.getElementById(\"2104f6d3-5562-45a8-82fe-674828273358\")) {\n",
       "                    Plotly.newPlot(\n",
       "                        '2104f6d3-5562-45a8-82fe-674828273358',\n",
       "                        [{\"colorbar\": {\"title\": {\"text\": \"Poverty Estimates 2017\"}}, \"colorscale\": [[0.0, \"rgb(247,252,245)\"], [0.125, \"rgb(229,245,224)\"], [0.25, \"rgb(199,233,192)\"], [0.375, \"rgb(161,217,155)\"], [0.5, \"rgb(116,196,118)\"], [0.625, \"rgb(65,171,93)\"], [0.75, \"rgb(35,139,69)\"], [0.875, \"rgb(0,109,44)\"], [1.0, \"rgb(0,68,27)\"]], \"locationmode\": \"USA-states\", \"locations\": [\"AL\", \"AK\", \"AZ\", \"AR\", \"CA\", \"CO\", \"CT\", \"DE\", \"FL\", \"GA\", \"HI\", \"ID\", \"IL\", \"IN\", \"IA\", \"KS\", \"KY\", \"LA\", \"ME\", \"MD\", \"MA\", \"MI\", \"MN\", \"MS\", \"MO\", \"MT\", \"NE\", \"NV\", \"NH\", \"NJ\", \"NM\", \"NY\", \"NC\", \"ND\", \"OH\", \"OK\", \"OR\", \"PA\", \"RI\", \"SC\", \"SD\", \"TN\", \"TX\", \"UT\", \"VT\", \"VA\", \"WA\", \"WV\", \"Wi\", \"WY\"], \"reversescale\": true, \"text\": [\"Poverty Estimates 2017    802263.0 State:     Alabama\", \"Poverty Estimates 2017    79428.0 State:     Alaska\", \"Poverty Estimates 2017    1023337.0 State:     Arizona\", \"Poverty Estimates 2017    475883.0 State:     Arkansas\", \"Poverty Estimates 2017    5164169.0 State:     California\", \"Poverty Estimates 2017    566118.0 State:     Colorado\", \"Poverty Estimates 2017    338651.0 State:     Connecticut\", \"Poverty Estimates 2017    121592.0 State:     Delaware\", \"Poverty Estimates 2017    2901876.0 State:     Florida\", \"Poverty Estimates 2017    1536069.0 State:     Georgia\", \"Poverty Estimates 2017    132201.0 State:     Hawaii\", \"Poverty Estimates 2017    211937.0 State:     Idaho\", \"Poverty Estimates 2017    1568670.0 State:     Illinois\", \"Poverty Estimates 2017    860753.0 State:     Indiana\", \"Poverty Estimates 2017    328629.0 State:     Iowa\", \"Poverty Estimates 2017    335371.0 State:     Kansas\", \"Poverty Estimates 2017    738563.0 State:     Kentucky\", \"Poverty Estimates 2017    893827.0 State:     Louisiana\", \"Poverty Estimates 2017    147413.0 State:     Maine\", \"Poverty Estimates 2017    556549.0 State:     Maryland\", \"Poverty Estimates 2017    692943.0 State:     Massachusetts\", \"Poverty Estimates 2017    1373358.0 State:     Michigan\", \"Poverty Estimates 2017    517348.0 State:     Minnesota\", \"Poverty Estimates 2017    573717.0 State:     Mississippi\", \"Poverty Estimates 2017    793001.0 State:     Missouri\", \"Poverty Estimates 2017    130616.0 State:     Montana\", \"Poverty Estimates 2017    198984.0 State:     Nebraska\", \"Poverty Estimates 2017    392857.0 State:     Nevada\", \"Poverty Estimates 2017    100550.0 State:     New Hampshire\", \"Poverty Estimates 2017    882132.0 State:     New Jersey\", \"Poverty Estimates 2017    388790.0 State:     New Mexico\", \"Poverty Estimates 2017    2735578.0 State:     New York\", \"Poverty Estimates 2017    1468032.0 State:     North Carolina\", \"Poverty Estimates 2017    74057.0 State:     North Dakota\", \"Poverty Estimates 2017    1575401.0 State:     Ohio\", \"Poverty Estimates 2017    600911.0 State:     Oklahoma\", \"Poverty Estimates 2017    534846.0 State:     Oregon\", \"Poverty Estimates 2017    1548557.0 State:     Pennsylvania\", \"Poverty Estimates 2017    125208.0 State:     Rhode Island\", \"Poverty Estimates 2017    750359.0 State:     South Carolina\", \"Poverty Estimates 2017    107522.0 State:     South Dakota\", \"Poverty Estimates 2017    980394.0 State:     Tennessee\", \"Poverty Estimates 2017    4080377.0 State:     Texas\", \"Poverty Estimates 2017    296138.0 State:     Utah\", \"Poverty Estimates 2017    65068.0 State:     Vermont\", \"Poverty Estimates 2017    876438.0 State:     Virginia\", \"Poverty Estimates 2017    799675.0 State:     Washington\", \"Poverty Estimates 2017    326502.0 State:     West Virginia\", \"Poverty Estimates 2017    640174.0 State:     Wisconsin\", \"Poverty Estimates 2017    61319.0 State:     Wyoming\"], \"type\": \"choropleth\", \"z\": [802263.0, 79428.0, 1023337.0, 475883.0, 5164169.0, 566118.0, 338651.0, 121592.0, 2901876.0, 1536069.0, 132201.0, 211937.0, 1568670.0, 860753.0, 328629.0, 335371.0, 738563.0, 893827.0, 147413.0, 556549.0, 692943.0, 1373358.0, 517348.0, 573717.0, 793001.0, 130616.0, 198984.0, 392857.0, 100550.0, 882132.0, 388790.0, 2735578.0, 1468032.0, 74057.0, 1575401.0, 600911.0, 534846.0, 1548557.0, 125208.0, 750359.0, 107522.0, 980394.0, 4080377.0, 296138.0, 65068.0, 876438.0, 799675.0, 326502.0, 640174.0, 61319.0]}],\n",
       "                        {\"geo\": {\"lakecolor\": \"rgb(255,255,255)\", \"projection\": {\"type\": \"albers usa\"}, \"scope\": \"usa\", \"showlakes\": true}, \"template\": {\"data\": {\"bar\": [{\"error_x\": {\"color\": \"#2a3f5f\"}, \"error_y\": {\"color\": \"#2a3f5f\"}, \"marker\": {\"line\": {\"color\": \"#E5ECF6\", \"width\": 0.5}}, \"type\": \"bar\"}], \"barpolar\": [{\"marker\": {\"line\": {\"color\": \"#E5ECF6\", \"width\": 0.5}}, \"type\": \"barpolar\"}], \"carpet\": [{\"aaxis\": {\"endlinecolor\": \"#2a3f5f\", \"gridcolor\": \"white\", \"linecolor\": \"white\", \"minorgridcolor\": \"white\", \"startlinecolor\": \"#2a3f5f\"}, \"baxis\": {\"endlinecolor\": \"#2a3f5f\", \"gridcolor\": \"white\", \"linecolor\": \"white\", \"minorgridcolor\": \"white\", \"startlinecolor\": \"#2a3f5f\"}, \"type\": \"carpet\"}], \"choropleth\": [{\"colorbar\": {\"outlinewidth\": 0, \"ticks\": \"\"}, \"type\": \"choropleth\"}], \"contour\": [{\"colorbar\": {\"outlinewidth\": 0, \"ticks\": \"\"}, \"colorscale\": [[0.0, \"#0d0887\"], [0.1111111111111111, \"#46039f\"], [0.2222222222222222, \"#7201a8\"], [0.3333333333333333, \"#9c179e\"], [0.4444444444444444, \"#bd3786\"], [0.5555555555555556, \"#d8576b\"], [0.6666666666666666, \"#ed7953\"], [0.7777777777777778, \"#fb9f3a\"], [0.8888888888888888, \"#fdca26\"], [1.0, \"#f0f921\"]], \"type\": \"contour\"}], \"contourcarpet\": [{\"colorbar\": {\"outlinewidth\": 0, \"ticks\": \"\"}, \"type\": \"contourcarpet\"}], \"heatmap\": [{\"colorbar\": {\"outlinewidth\": 0, \"ticks\": \"\"}, \"colorscale\": [[0.0, \"#0d0887\"], [0.1111111111111111, \"#46039f\"], [0.2222222222222222, \"#7201a8\"], [0.3333333333333333, \"#9c179e\"], [0.4444444444444444, \"#bd3786\"], [0.5555555555555556, \"#d8576b\"], [0.6666666666666666, \"#ed7953\"], [0.7777777777777778, \"#fb9f3a\"], [0.8888888888888888, \"#fdca26\"], [1.0, \"#f0f921\"]], \"type\": \"heatmap\"}], \"heatmapgl\": [{\"colorbar\": {\"outlinewidth\": 0, \"ticks\": \"\"}, \"colorscale\": [[0.0, \"#0d0887\"], [0.1111111111111111, \"#46039f\"], [0.2222222222222222, \"#7201a8\"], [0.3333333333333333, \"#9c179e\"], [0.4444444444444444, \"#bd3786\"], [0.5555555555555556, \"#d8576b\"], [0.6666666666666666, \"#ed7953\"], [0.7777777777777778, \"#fb9f3a\"], [0.8888888888888888, \"#fdca26\"], [1.0, \"#f0f921\"]], \"type\": \"heatmapgl\"}], \"histogram\": [{\"marker\": {\"colorbar\": {\"outlinewidth\": 0, \"ticks\": \"\"}}, \"type\": \"histogram\"}], \"histogram2d\": [{\"colorbar\": {\"outlinewidth\": 0, \"ticks\": \"\"}, \"colorscale\": [[0.0, \"#0d0887\"], [0.1111111111111111, \"#46039f\"], [0.2222222222222222, \"#7201a8\"], [0.3333333333333333, \"#9c179e\"], [0.4444444444444444, \"#bd3786\"], [0.5555555555555556, \"#d8576b\"], [0.6666666666666666, \"#ed7953\"], [0.7777777777777778, \"#fb9f3a\"], [0.8888888888888888, \"#fdca26\"], [1.0, \"#f0f921\"]], \"type\": \"histogram2d\"}], \"histogram2dcontour\": [{\"colorbar\": {\"outlinewidth\": 0, \"ticks\": \"\"}, \"colorscale\": [[0.0, \"#0d0887\"], [0.1111111111111111, \"#46039f\"], [0.2222222222222222, \"#7201a8\"], [0.3333333333333333, \"#9c179e\"], [0.4444444444444444, \"#bd3786\"], [0.5555555555555556, \"#d8576b\"], [0.6666666666666666, \"#ed7953\"], [0.7777777777777778, \"#fb9f3a\"], [0.8888888888888888, \"#fdca26\"], [1.0, \"#f0f921\"]], \"type\": \"histogram2dcontour\"}], \"mesh3d\": [{\"colorbar\": {\"outlinewidth\": 0, \"ticks\": \"\"}, \"type\": \"mesh3d\"}], \"parcoords\": [{\"line\": {\"colorbar\": {\"outlinewidth\": 0, \"ticks\": \"\"}}, \"type\": \"parcoords\"}], \"scatter\": [{\"marker\": {\"colorbar\": {\"outlinewidth\": 0, \"ticks\": \"\"}}, \"type\": \"scatter\"}], \"scatter3d\": [{\"line\": {\"colorbar\": {\"outlinewidth\": 0, \"ticks\": \"\"}}, \"marker\": {\"colorbar\": {\"outlinewidth\": 0, \"ticks\": \"\"}}, \"type\": \"scatter3d\"}], \"scattercarpet\": [{\"marker\": {\"colorbar\": {\"outlinewidth\": 0, \"ticks\": \"\"}}, \"type\": \"scattercarpet\"}], \"scattergeo\": [{\"marker\": {\"colorbar\": {\"outlinewidth\": 0, \"ticks\": \"\"}}, \"type\": \"scattergeo\"}], \"scattergl\": [{\"marker\": {\"colorbar\": {\"outlinewidth\": 0, \"ticks\": \"\"}}, \"type\": \"scattergl\"}], \"scattermapbox\": [{\"marker\": {\"colorbar\": {\"outlinewidth\": 0, \"ticks\": \"\"}}, \"type\": \"scattermapbox\"}], \"scatterpolar\": [{\"marker\": {\"colorbar\": {\"outlinewidth\": 0, \"ticks\": \"\"}}, \"type\": \"scatterpolar\"}], \"scatterpolargl\": [{\"marker\": {\"colorbar\": {\"outlinewidth\": 0, \"ticks\": \"\"}}, \"type\": \"scatterpolargl\"}], \"scatterternary\": [{\"marker\": {\"colorbar\": {\"outlinewidth\": 0, \"ticks\": \"\"}}, \"type\": \"scatterternary\"}], \"surface\": [{\"colorbar\": {\"outlinewidth\": 0, \"ticks\": \"\"}, \"colorscale\": [[0.0, \"#0d0887\"], [0.1111111111111111, \"#46039f\"], [0.2222222222222222, \"#7201a8\"], [0.3333333333333333, \"#9c179e\"], [0.4444444444444444, \"#bd3786\"], [0.5555555555555556, \"#d8576b\"], [0.6666666666666666, \"#ed7953\"], [0.7777777777777778, \"#fb9f3a\"], [0.8888888888888888, \"#fdca26\"], [1.0, \"#f0f921\"]], \"type\": \"surface\"}], \"table\": [{\"cells\": {\"fill\": {\"color\": \"#EBF0F8\"}, \"line\": {\"color\": \"white\"}}, \"header\": {\"fill\": {\"color\": \"#C8D4E3\"}, \"line\": {\"color\": \"white\"}}, \"type\": \"table\"}]}, \"layout\": {\"annotationdefaults\": {\"arrowcolor\": \"#2a3f5f\", \"arrowhead\": 0, \"arrowwidth\": 1}, \"colorscale\": {\"diverging\": [[0, \"#8e0152\"], [0.1, \"#c51b7d\"], [0.2, \"#de77ae\"], [0.3, \"#f1b6da\"], [0.4, \"#fde0ef\"], [0.5, \"#f7f7f7\"], [0.6, \"#e6f5d0\"], [0.7, \"#b8e186\"], [0.8, \"#7fbc41\"], [0.9, \"#4d9221\"], [1, \"#276419\"]], \"sequential\": [[0.0, \"#0d0887\"], [0.1111111111111111, \"#46039f\"], [0.2222222222222222, \"#7201a8\"], [0.3333333333333333, \"#9c179e\"], [0.4444444444444444, \"#bd3786\"], [0.5555555555555556, \"#d8576b\"], [0.6666666666666666, \"#ed7953\"], [0.7777777777777778, \"#fb9f3a\"], [0.8888888888888888, \"#fdca26\"], [1.0, \"#f0f921\"]], \"sequentialminus\": [[0.0, \"#0d0887\"], [0.1111111111111111, \"#46039f\"], [0.2222222222222222, \"#7201a8\"], [0.3333333333333333, \"#9c179e\"], [0.4444444444444444, \"#bd3786\"], [0.5555555555555556, \"#d8576b\"], [0.6666666666666666, \"#ed7953\"], [0.7777777777777778, \"#fb9f3a\"], [0.8888888888888888, \"#fdca26\"], [1.0, \"#f0f921\"]]}, \"colorway\": [\"#636efa\", \"#EF553B\", \"#00cc96\", \"#ab63fa\", \"#FFA15A\", \"#19d3f3\", \"#FF6692\", \"#B6E880\", \"#FF97FF\", \"#FECB52\"], \"font\": {\"color\": \"#2a3f5f\"}, \"geo\": {\"bgcolor\": \"white\", \"lakecolor\": \"white\", \"landcolor\": \"#E5ECF6\", \"showlakes\": true, \"showland\": true, \"subunitcolor\": \"white\"}, \"hoverlabel\": {\"align\": \"left\"}, \"hovermode\": \"closest\", \"mapbox\": {\"style\": \"light\"}, \"paper_bgcolor\": \"white\", \"plot_bgcolor\": \"#E5ECF6\", \"polar\": {\"angularaxis\": {\"gridcolor\": \"white\", \"linecolor\": \"white\", \"ticks\": \"\"}, \"bgcolor\": \"#E5ECF6\", \"radialaxis\": {\"gridcolor\": \"white\", \"linecolor\": \"white\", \"ticks\": \"\"}}, \"scene\": {\"xaxis\": {\"backgroundcolor\": \"#E5ECF6\", \"gridcolor\": \"white\", \"gridwidth\": 2, \"linecolor\": \"white\", \"showbackground\": true, \"ticks\": \"\", \"zerolinecolor\": \"white\"}, \"yaxis\": {\"backgroundcolor\": \"#E5ECF6\", \"gridcolor\": \"white\", \"gridwidth\": 2, \"linecolor\": \"white\", \"showbackground\": true, \"ticks\": \"\", \"zerolinecolor\": \"white\"}, \"zaxis\": {\"backgroundcolor\": \"#E5ECF6\", \"gridcolor\": \"white\", \"gridwidth\": 2, \"linecolor\": \"white\", \"showbackground\": true, \"ticks\": \"\", \"zerolinecolor\": \"white\"}}, \"shapedefaults\": {\"line\": {\"color\": \"#2a3f5f\"}}, \"ternary\": {\"aaxis\": {\"gridcolor\": \"white\", \"linecolor\": \"white\", \"ticks\": \"\"}, \"baxis\": {\"gridcolor\": \"white\", \"linecolor\": \"white\", \"ticks\": \"\"}, \"bgcolor\": \"#E5ECF6\", \"caxis\": {\"gridcolor\": \"white\", \"linecolor\": \"white\", \"ticks\": \"\"}}, \"title\": {\"x\": 0.05}, \"xaxis\": {\"automargin\": true, \"gridcolor\": \"white\", \"linecolor\": \"white\", \"ticks\": \"\", \"zerolinecolor\": \"white\", \"zerolinewidth\": 2}, \"yaxis\": {\"automargin\": true, \"gridcolor\": \"white\", \"linecolor\": \"white\", \"ticks\": \"\", \"zerolinecolor\": \"white\", \"zerolinewidth\": 2}}}, \"title\": {\"text\": \"Poverty Estimates 2017\"}},\n",
       "                        {\"responsive\": true}\n",
       "                    ).then(function(){\n",
       "                            \n",
       "var gd = document.getElementById('2104f6d3-5562-45a8-82fe-674828273358');\n",
       "var x = new MutationObserver(function (mutations, observer) {{\n",
       "        var display = window.getComputedStyle(gd).display;\n",
       "        if (!display || display === 'none') {{\n",
       "            console.log([gd, 'removed!']);\n",
       "            Plotly.purge(gd);\n",
       "            observer.disconnect();\n",
       "        }}\n",
       "}});\n",
       "\n",
       "// Listen for the removal of the full notebook cells\n",
       "var notebookContainer = gd.closest('#notebook-container');\n",
       "if (notebookContainer) {{\n",
       "    x.observe(notebookContainer, {childList: true});\n",
       "}}\n",
       "\n",
       "// Listen for the clearing of the current output cell\n",
       "var outputEl = gd.closest('.output');\n",
       "if (outputEl) {{\n",
       "    x.observe(outputEl, {childList: true});\n",
       "}}\n",
       "\n",
       "                        })\n",
       "                };\n",
       "                });\n",
       "            </script>\n",
       "        </div>"
      ]
     },
     "metadata": {},
     "output_type": "display_data"
    }
   ],
   "source": [
    "states['text'] = \"Poverty Estimates 2017\"+\"\\\n",
    "    \"+ states[\"POVALL_2017\"].astype(str) + \" \" +\"State:\" +\" \\\n",
    "    \"+ states[\"Area_Name\"]\n",
    "\n",
    "fig = go.Figure(data=go.Choropleth(\n",
    "    locations=states['State'], # Spatial coordinates\n",
    "    z = states[\"POVALL_2017\"].astype(float), # Data to be color-coded\n",
    "    locationmode = 'USA-states', # set of locations match entries in `locations`\n",
    "    colorscale = 'greens',\n",
    "    text = states['text'],\n",
    "    colorbar_title = \"Poverty Estimates 2017\",\n",
    "    reversescale = True\n",
    "))\n",
    "\n",
    "\n",
    "fig.update_layout(\n",
    "    title_text= \"Poverty Estimates 2017\",\n",
    "    geo = dict(\n",
    "        scope='usa',\n",
    "        projection=go.layout.geo.Projection(type = 'albers usa'),\n",
    "        showlakes=True, # lakes\n",
    "        lakecolor='rgb(255,255,255)'),\n",
    ")\n",
    "\n",
    "fig.show()"
   ]
  },
  {
   "cell_type": "code",
   "execution_count": 20,
   "metadata": {},
   "outputs": [
    {
     "data": {
      "text/html": [
       "<div>\n",
       "<style scoped>\n",
       "    .dataframe tbody tr th:only-of-type {\n",
       "        vertical-align: middle;\n",
       "    }\n",
       "\n",
       "    .dataframe tbody tr th {\n",
       "        vertical-align: top;\n",
       "    }\n",
       "\n",
       "    .dataframe thead th {\n",
       "        text-align: right;\n",
       "    }\n",
       "</style>\n",
       "<table border=\"1\" class=\"dataframe\">\n",
       "  <thead>\n",
       "    <tr style=\"text-align: right;\">\n",
       "      <th></th>\n",
       "      <th>2</th>\n",
       "      <th>FIPStxt</th>\n",
       "      <th>State</th>\n",
       "      <th>Area_Name</th>\n",
       "      <th>Rural-urban_Continuum_Code_2003</th>\n",
       "      <th>Urban_Influence_Code_2003</th>\n",
       "      <th>Rural-urban_Continuum_Code_2013</th>\n",
       "      <th>Urban_Influence_Code_2013</th>\n",
       "      <th>POVALL_2017</th>\n",
       "      <th>CI90LBAll_2017</th>\n",
       "      <th>...</th>\n",
       "      <th>MEDHHINC_2017</th>\n",
       "      <th>CI90LBINC_2017</th>\n",
       "      <th>CI90UBINC_2017</th>\n",
       "      <th>POV04_2017</th>\n",
       "      <th>CI90LB04_2017</th>\n",
       "      <th>CI90UB04_2017</th>\n",
       "      <th>PCTPOV04_2017</th>\n",
       "      <th>CI90LB04P_2017</th>\n",
       "      <th>CI90UB04P_2017</th>\n",
       "      <th>text</th>\n",
       "    </tr>\n",
       "  </thead>\n",
       "  <tbody>\n",
       "    <tr>\n",
       "      <th>1</th>\n",
       "      <td>4</td>\n",
       "      <td>1000</td>\n",
       "      <td>AL</td>\n",
       "      <td>Alabama</td>\n",
       "      <td>NaN</td>\n",
       "      <td>NaN</td>\n",
       "      <td>NaN</td>\n",
       "      <td>NaN</td>\n",
       "      <td>802263.0</td>\n",
       "      <td>784517.0</td>\n",
       "      <td>...</td>\n",
       "      <td>48193.0</td>\n",
       "      <td>47451.0</td>\n",
       "      <td>48935.0</td>\n",
       "      <td>78986.0</td>\n",
       "      <td>75009.0</td>\n",
       "      <td>82963.0</td>\n",
       "      <td>27.7</td>\n",
       "      <td>26.3</td>\n",
       "      <td>29.1</td>\n",
       "      <td>Poverty Estimates 2017    802263.0 State:     ...</td>\n",
       "    </tr>\n",
       "    <tr>\n",
       "      <th>69</th>\n",
       "      <td>72</td>\n",
       "      <td>2000</td>\n",
       "      <td>AK</td>\n",
       "      <td>Alaska</td>\n",
       "      <td>NaN</td>\n",
       "      <td>NaN</td>\n",
       "      <td>NaN</td>\n",
       "      <td>NaN</td>\n",
       "      <td>79428.0</td>\n",
       "      <td>75273.0</td>\n",
       "      <td>...</td>\n",
       "      <td>74058.0</td>\n",
       "      <td>72099.0</td>\n",
       "      <td>76017.0</td>\n",
       "      <td>8208.0</td>\n",
       "      <td>7145.0</td>\n",
       "      <td>9271.0</td>\n",
       "      <td>15.8</td>\n",
       "      <td>13.7</td>\n",
       "      <td>17.9</td>\n",
       "      <td>Poverty Estimates 2017    79428.0 State:     A...</td>\n",
       "    </tr>\n",
       "    <tr>\n",
       "      <th>99</th>\n",
       "      <td>102</td>\n",
       "      <td>4000</td>\n",
       "      <td>AZ</td>\n",
       "      <td>Arizona</td>\n",
       "      <td>NaN</td>\n",
       "      <td>NaN</td>\n",
       "      <td>NaN</td>\n",
       "      <td>NaN</td>\n",
       "      <td>1023337.0</td>\n",
       "      <td>1002773.0</td>\n",
       "      <td>...</td>\n",
       "      <td>56508.0</td>\n",
       "      <td>55999.0</td>\n",
       "      <td>57017.0</td>\n",
       "      <td>99130.0</td>\n",
       "      <td>93773.0</td>\n",
       "      <td>104487.0</td>\n",
       "      <td>23.4</td>\n",
       "      <td>22.1</td>\n",
       "      <td>24.7</td>\n",
       "      <td>Poverty Estimates 2017    1023337.0 State:    ...</td>\n",
       "    </tr>\n",
       "    <tr>\n",
       "      <th>115</th>\n",
       "      <td>118</td>\n",
       "      <td>5000</td>\n",
       "      <td>AR</td>\n",
       "      <td>Arkansas</td>\n",
       "      <td>NaN</td>\n",
       "      <td>NaN</td>\n",
       "      <td>NaN</td>\n",
       "      <td>NaN</td>\n",
       "      <td>475883.0</td>\n",
       "      <td>463966.0</td>\n",
       "      <td>...</td>\n",
       "      <td>45916.0</td>\n",
       "      <td>45181.0</td>\n",
       "      <td>46651.0</td>\n",
       "      <td>46339.0</td>\n",
       "      <td>43141.0</td>\n",
       "      <td>49537.0</td>\n",
       "      <td>24.8</td>\n",
       "      <td>23.1</td>\n",
       "      <td>26.5</td>\n",
       "      <td>Poverty Estimates 2017    475883.0 State:     ...</td>\n",
       "    </tr>\n",
       "    <tr>\n",
       "      <th>191</th>\n",
       "      <td>194</td>\n",
       "      <td>6000</td>\n",
       "      <td>CA</td>\n",
       "      <td>California</td>\n",
       "      <td>NaN</td>\n",
       "      <td>NaN</td>\n",
       "      <td>NaN</td>\n",
       "      <td>NaN</td>\n",
       "      <td>5164169.0</td>\n",
       "      <td>5111205.0</td>\n",
       "      <td>...</td>\n",
       "      <td>71785.0</td>\n",
       "      <td>71492.0</td>\n",
       "      <td>72078.0</td>\n",
       "      <td>453522.0</td>\n",
       "      <td>440023.0</td>\n",
       "      <td>467021.0</td>\n",
       "      <td>18.8</td>\n",
       "      <td>18.2</td>\n",
       "      <td>19.4</td>\n",
       "      <td>Poverty Estimates 2017    5164169.0 State:    ...</td>\n",
       "    </tr>\n",
       "    <tr>\n",
       "      <th>250</th>\n",
       "      <td>253</td>\n",
       "      <td>8000</td>\n",
       "      <td>CO</td>\n",
       "      <td>Colorado</td>\n",
       "      <td>NaN</td>\n",
       "      <td>NaN</td>\n",
       "      <td>NaN</td>\n",
       "      <td>NaN</td>\n",
       "      <td>566118.0</td>\n",
       "      <td>552126.0</td>\n",
       "      <td>...</td>\n",
       "      <td>69113.0</td>\n",
       "      <td>68361.0</td>\n",
       "      <td>69865.0</td>\n",
       "      <td>44196.0</td>\n",
       "      <td>40042.0</td>\n",
       "      <td>48350.0</td>\n",
       "      <td>13.5</td>\n",
       "      <td>12.2</td>\n",
       "      <td>14.8</td>\n",
       "      <td>Poverty Estimates 2017    566118.0 State:     ...</td>\n",
       "    </tr>\n",
       "    <tr>\n",
       "      <th>315</th>\n",
       "      <td>318</td>\n",
       "      <td>9000</td>\n",
       "      <td>CT</td>\n",
       "      <td>Connecticut</td>\n",
       "      <td>NaN</td>\n",
       "      <td>NaN</td>\n",
       "      <td>NaN</td>\n",
       "      <td>NaN</td>\n",
       "      <td>338651.0</td>\n",
       "      <td>326360.0</td>\n",
       "      <td>...</td>\n",
       "      <td>74428.0</td>\n",
       "      <td>73203.0</td>\n",
       "      <td>75653.0</td>\n",
       "      <td>25638.0</td>\n",
       "      <td>22687.0</td>\n",
       "      <td>28589.0</td>\n",
       "      <td>14.2</td>\n",
       "      <td>12.6</td>\n",
       "      <td>15.8</td>\n",
       "      <td>Poverty Estimates 2017    338651.0 State:     ...</td>\n",
       "    </tr>\n",
       "    <tr>\n",
       "      <th>324</th>\n",
       "      <td>327</td>\n",
       "      <td>10000</td>\n",
       "      <td>DE</td>\n",
       "      <td>Delaware</td>\n",
       "      <td>NaN</td>\n",
       "      <td>NaN</td>\n",
       "      <td>NaN</td>\n",
       "      <td>NaN</td>\n",
       "      <td>121592.0</td>\n",
       "      <td>116181.0</td>\n",
       "      <td>...</td>\n",
       "      <td>64085.0</td>\n",
       "      <td>62201.0</td>\n",
       "      <td>65969.0</td>\n",
       "      <td>11176.0</td>\n",
       "      <td>9870.0</td>\n",
       "      <td>12482.0</td>\n",
       "      <td>21.3</td>\n",
       "      <td>18.8</td>\n",
       "      <td>23.8</td>\n",
       "      <td>Poverty Estimates 2017    121592.0 State:     ...</td>\n",
       "    </tr>\n",
       "    <tr>\n",
       "      <th>330</th>\n",
       "      <td>333</td>\n",
       "      <td>12000</td>\n",
       "      <td>FL</td>\n",
       "      <td>Florida</td>\n",
       "      <td>NaN</td>\n",
       "      <td>NaN</td>\n",
       "      <td>NaN</td>\n",
       "      <td>NaN</td>\n",
       "      <td>2901876.0</td>\n",
       "      <td>2860804.0</td>\n",
       "      <td>...</td>\n",
       "      <td>52582.0</td>\n",
       "      <td>52221.0</td>\n",
       "      <td>52943.0</td>\n",
       "      <td>244308.0</td>\n",
       "      <td>234289.0</td>\n",
       "      <td>254327.0</td>\n",
       "      <td>22.0</td>\n",
       "      <td>21.1</td>\n",
       "      <td>22.9</td>\n",
       "      <td>Poverty Estimates 2017    2901876.0 State:    ...</td>\n",
       "    </tr>\n",
       "    <tr>\n",
       "      <th>398</th>\n",
       "      <td>401</td>\n",
       "      <td>13000</td>\n",
       "      <td>GA</td>\n",
       "      <td>Georgia</td>\n",
       "      <td>NaN</td>\n",
       "      <td>NaN</td>\n",
       "      <td>NaN</td>\n",
       "      <td>NaN</td>\n",
       "      <td>1536069.0</td>\n",
       "      <td>1503877.0</td>\n",
       "      <td>...</td>\n",
       "      <td>56117.0</td>\n",
       "      <td>55555.0</td>\n",
       "      <td>56679.0</td>\n",
       "      <td>153380.0</td>\n",
       "      <td>145103.0</td>\n",
       "      <td>161657.0</td>\n",
       "      <td>23.8</td>\n",
       "      <td>22.5</td>\n",
       "      <td>25.1</td>\n",
       "      <td>Poverty Estimates 2017    1536069.0 State:    ...</td>\n",
       "    </tr>\n",
       "    <tr>\n",
       "      <th>558</th>\n",
       "      <td>561</td>\n",
       "      <td>15000</td>\n",
       "      <td>HI</td>\n",
       "      <td>Hawaii</td>\n",
       "      <td>NaN</td>\n",
       "      <td>NaN</td>\n",
       "      <td>NaN</td>\n",
       "      <td>NaN</td>\n",
       "      <td>132201.0</td>\n",
       "      <td>126481.0</td>\n",
       "      <td>...</td>\n",
       "      <td>77936.0</td>\n",
       "      <td>76340.0</td>\n",
       "      <td>79532.0</td>\n",
       "      <td>11596.0</td>\n",
       "      <td>9898.0</td>\n",
       "      <td>13294.0</td>\n",
       "      <td>13.3</td>\n",
       "      <td>11.4</td>\n",
       "      <td>15.2</td>\n",
       "      <td>Poverty Estimates 2017    132201.0 State:     ...</td>\n",
       "    </tr>\n",
       "    <tr>\n",
       "      <th>564</th>\n",
       "      <td>567</td>\n",
       "      <td>16000</td>\n",
       "      <td>ID</td>\n",
       "      <td>Idaho</td>\n",
       "      <td>NaN</td>\n",
       "      <td>NaN</td>\n",
       "      <td>NaN</td>\n",
       "      <td>NaN</td>\n",
       "      <td>211937.0</td>\n",
       "      <td>203631.0</td>\n",
       "      <td>...</td>\n",
       "      <td>52280.0</td>\n",
       "      <td>51448.0</td>\n",
       "      <td>53112.0</td>\n",
       "      <td>20008.0</td>\n",
       "      <td>17900.0</td>\n",
       "      <td>22116.0</td>\n",
       "      <td>17.5</td>\n",
       "      <td>15.7</td>\n",
       "      <td>19.3</td>\n",
       "      <td>Poverty Estimates 2017    211937.0 State:     ...</td>\n",
       "    </tr>\n",
       "    <tr>\n",
       "      <th>609</th>\n",
       "      <td>612</td>\n",
       "      <td>17000</td>\n",
       "      <td>IL</td>\n",
       "      <td>Illinois</td>\n",
       "      <td>NaN</td>\n",
       "      <td>NaN</td>\n",
       "      <td>NaN</td>\n",
       "      <td>NaN</td>\n",
       "      <td>1568670.0</td>\n",
       "      <td>1543257.0</td>\n",
       "      <td>...</td>\n",
       "      <td>63044.0</td>\n",
       "      <td>62509.0</td>\n",
       "      <td>63579.0</td>\n",
       "      <td>142481.0</td>\n",
       "      <td>134834.0</td>\n",
       "      <td>150128.0</td>\n",
       "      <td>18.8</td>\n",
       "      <td>17.8</td>\n",
       "      <td>19.8</td>\n",
       "      <td>Poverty Estimates 2017    1568670.0 State:    ...</td>\n",
       "    </tr>\n",
       "    <tr>\n",
       "      <th>712</th>\n",
       "      <td>715</td>\n",
       "      <td>18000</td>\n",
       "      <td>IN</td>\n",
       "      <td>Indiana</td>\n",
       "      <td>NaN</td>\n",
       "      <td>NaN</td>\n",
       "      <td>NaN</td>\n",
       "      <td>NaN</td>\n",
       "      <td>860753.0</td>\n",
       "      <td>841903.0</td>\n",
       "      <td>...</td>\n",
       "      <td>54134.0</td>\n",
       "      <td>53493.0</td>\n",
       "      <td>54775.0</td>\n",
       "      <td>83000.0</td>\n",
       "      <td>78256.0</td>\n",
       "      <td>87744.0</td>\n",
       "      <td>20.4</td>\n",
       "      <td>19.2</td>\n",
       "      <td>21.6</td>\n",
       "      <td>Poverty Estimates 2017    860753.0 State:     ...</td>\n",
       "    </tr>\n",
       "    <tr>\n",
       "      <th>805</th>\n",
       "      <td>808</td>\n",
       "      <td>19000</td>\n",
       "      <td>IA</td>\n",
       "      <td>Iowa</td>\n",
       "      <td>NaN</td>\n",
       "      <td>NaN</td>\n",
       "      <td>NaN</td>\n",
       "      <td>NaN</td>\n",
       "      <td>328629.0</td>\n",
       "      <td>319716.0</td>\n",
       "      <td>...</td>\n",
       "      <td>58706.0</td>\n",
       "      <td>57889.0</td>\n",
       "      <td>59523.0</td>\n",
       "      <td>29970.0</td>\n",
       "      <td>27513.0</td>\n",
       "      <td>32427.0</td>\n",
       "      <td>15.4</td>\n",
       "      <td>14.1</td>\n",
       "      <td>16.7</td>\n",
       "      <td>Poverty Estimates 2017    328629.0 State:     ...</td>\n",
       "    </tr>\n",
       "    <tr>\n",
       "      <th>905</th>\n",
       "      <td>908</td>\n",
       "      <td>20000</td>\n",
       "      <td>KS</td>\n",
       "      <td>Kansas</td>\n",
       "      <td>NaN</td>\n",
       "      <td>NaN</td>\n",
       "      <td>NaN</td>\n",
       "      <td>NaN</td>\n",
       "      <td>335371.0</td>\n",
       "      <td>325420.0</td>\n",
       "      <td>...</td>\n",
       "      <td>56382.0</td>\n",
       "      <td>55700.0</td>\n",
       "      <td>57064.0</td>\n",
       "      <td>31443.0</td>\n",
       "      <td>28724.0</td>\n",
       "      <td>34162.0</td>\n",
       "      <td>16.7</td>\n",
       "      <td>15.3</td>\n",
       "      <td>18.1</td>\n",
       "      <td>Poverty Estimates 2017    335371.0 State:     ...</td>\n",
       "    </tr>\n",
       "    <tr>\n",
       "      <th>1011</th>\n",
       "      <td>1014</td>\n",
       "      <td>21000</td>\n",
       "      <td>KY</td>\n",
       "      <td>Kentucky</td>\n",
       "      <td>NaN</td>\n",
       "      <td>NaN</td>\n",
       "      <td>NaN</td>\n",
       "      <td>NaN</td>\n",
       "      <td>738563.0</td>\n",
       "      <td>723378.0</td>\n",
       "      <td>...</td>\n",
       "      <td>48332.0</td>\n",
       "      <td>47716.0</td>\n",
       "      <td>48948.0</td>\n",
       "      <td>66607.0</td>\n",
       "      <td>62866.0</td>\n",
       "      <td>70348.0</td>\n",
       "      <td>24.8</td>\n",
       "      <td>23.4</td>\n",
       "      <td>26.2</td>\n",
       "      <td>Poverty Estimates 2017    738563.0 State:     ...</td>\n",
       "    </tr>\n",
       "    <tr>\n",
       "      <th>1132</th>\n",
       "      <td>1135</td>\n",
       "      <td>22000</td>\n",
       "      <td>LA</td>\n",
       "      <td>Louisiana</td>\n",
       "      <td>NaN</td>\n",
       "      <td>NaN</td>\n",
       "      <td>NaN</td>\n",
       "      <td>NaN</td>\n",
       "      <td>893827.0</td>\n",
       "      <td>875670.0</td>\n",
       "      <td>...</td>\n",
       "      <td>46283.0</td>\n",
       "      <td>45663.0</td>\n",
       "      <td>46903.0</td>\n",
       "      <td>95740.0</td>\n",
       "      <td>91062.0</td>\n",
       "      <td>100418.0</td>\n",
       "      <td>31.3</td>\n",
       "      <td>29.8</td>\n",
       "      <td>32.8</td>\n",
       "      <td>Poverty Estimates 2017    893827.0 State:     ...</td>\n",
       "    </tr>\n",
       "    <tr>\n",
       "      <th>1197</th>\n",
       "      <td>1200</td>\n",
       "      <td>23000</td>\n",
       "      <td>ME</td>\n",
       "      <td>Maine</td>\n",
       "      <td>NaN</td>\n",
       "      <td>NaN</td>\n",
       "      <td>NaN</td>\n",
       "      <td>NaN</td>\n",
       "      <td>147413.0</td>\n",
       "      <td>141958.0</td>\n",
       "      <td>...</td>\n",
       "      <td>55980.0</td>\n",
       "      <td>54896.0</td>\n",
       "      <td>57064.0</td>\n",
       "      <td>9522.0</td>\n",
       "      <td>8477.0</td>\n",
       "      <td>10567.0</td>\n",
       "      <td>15.2</td>\n",
       "      <td>13.5</td>\n",
       "      <td>16.9</td>\n",
       "      <td>Poverty Estimates 2017    147413.0 State:     ...</td>\n",
       "    </tr>\n",
       "    <tr>\n",
       "      <th>1214</th>\n",
       "      <td>1217</td>\n",
       "      <td>24000</td>\n",
       "      <td>MD</td>\n",
       "      <td>Maryland</td>\n",
       "      <td>NaN</td>\n",
       "      <td>NaN</td>\n",
       "      <td>NaN</td>\n",
       "      <td>NaN</td>\n",
       "      <td>556549.0</td>\n",
       "      <td>541127.0</td>\n",
       "      <td>...</td>\n",
       "      <td>80711.0</td>\n",
       "      <td>80023.0</td>\n",
       "      <td>81399.0</td>\n",
       "      <td>48728.0</td>\n",
       "      <td>45000.0</td>\n",
       "      <td>52456.0</td>\n",
       "      <td>13.5</td>\n",
       "      <td>12.5</td>\n",
       "      <td>14.5</td>\n",
       "      <td>Poverty Estimates 2017    556549.0 State:     ...</td>\n",
       "    </tr>\n",
       "    <tr>\n",
       "      <th>1239</th>\n",
       "      <td>1242</td>\n",
       "      <td>25000</td>\n",
       "      <td>MA</td>\n",
       "      <td>Massachusetts</td>\n",
       "      <td>NaN</td>\n",
       "      <td>NaN</td>\n",
       "      <td>NaN</td>\n",
       "      <td>NaN</td>\n",
       "      <td>692943.0</td>\n",
       "      <td>675076.0</td>\n",
       "      <td>...</td>\n",
       "      <td>77385.0</td>\n",
       "      <td>76519.0</td>\n",
       "      <td>78251.0</td>\n",
       "      <td>51167.0</td>\n",
       "      <td>46523.0</td>\n",
       "      <td>55811.0</td>\n",
       "      <td>14.5</td>\n",
       "      <td>13.2</td>\n",
       "      <td>15.8</td>\n",
       "      <td>Poverty Estimates 2017    692943.0 State:     ...</td>\n",
       "    </tr>\n",
       "    <tr>\n",
       "      <th>1254</th>\n",
       "      <td>1257</td>\n",
       "      <td>26000</td>\n",
       "      <td>MI</td>\n",
       "      <td>Michigan</td>\n",
       "      <td>NaN</td>\n",
       "      <td>NaN</td>\n",
       "      <td>NaN</td>\n",
       "      <td>NaN</td>\n",
       "      <td>1373358.0</td>\n",
       "      <td>1351618.0</td>\n",
       "      <td>...</td>\n",
       "      <td>54840.0</td>\n",
       "      <td>54405.0</td>\n",
       "      <td>55275.0</td>\n",
       "      <td>130222.0</td>\n",
       "      <td>124403.0</td>\n",
       "      <td>136041.0</td>\n",
       "      <td>23.4</td>\n",
       "      <td>22.4</td>\n",
       "      <td>24.4</td>\n",
       "      <td>Poverty Estimates 2017    1373358.0 State:    ...</td>\n",
       "    </tr>\n",
       "    <tr>\n",
       "      <th>1338</th>\n",
       "      <td>1341</td>\n",
       "      <td>27000</td>\n",
       "      <td>MN</td>\n",
       "      <td>Minnesota</td>\n",
       "      <td>NaN</td>\n",
       "      <td>NaN</td>\n",
       "      <td>NaN</td>\n",
       "      <td>NaN</td>\n",
       "      <td>517348.0</td>\n",
       "      <td>505806.0</td>\n",
       "      <td>...</td>\n",
       "      <td>68364.0</td>\n",
       "      <td>67722.0</td>\n",
       "      <td>69006.0</td>\n",
       "      <td>43319.0</td>\n",
       "      <td>39712.0</td>\n",
       "      <td>46926.0</td>\n",
       "      <td>12.5</td>\n",
       "      <td>11.5</td>\n",
       "      <td>13.5</td>\n",
       "      <td>Poverty Estimates 2017    517348.0 State:     ...</td>\n",
       "    </tr>\n",
       "    <tr>\n",
       "      <th>1426</th>\n",
       "      <td>1429</td>\n",
       "      <td>28000</td>\n",
       "      <td>MS</td>\n",
       "      <td>Mississippi</td>\n",
       "      <td>NaN</td>\n",
       "      <td>NaN</td>\n",
       "      <td>NaN</td>\n",
       "      <td>NaN</td>\n",
       "      <td>573717.0</td>\n",
       "      <td>561749.0</td>\n",
       "      <td>...</td>\n",
       "      <td>43595.0</td>\n",
       "      <td>42773.0</td>\n",
       "      <td>44417.0</td>\n",
       "      <td>52336.0</td>\n",
       "      <td>48981.0</td>\n",
       "      <td>55691.0</td>\n",
       "      <td>28.6</td>\n",
       "      <td>26.8</td>\n",
       "      <td>30.4</td>\n",
       "      <td>Poverty Estimates 2017    573717.0 State:     ...</td>\n",
       "    </tr>\n",
       "    <tr>\n",
       "      <th>1509</th>\n",
       "      <td>1512</td>\n",
       "      <td>29000</td>\n",
       "      <td>MO</td>\n",
       "      <td>Missouri</td>\n",
       "      <td>NaN</td>\n",
       "      <td>NaN</td>\n",
       "      <td>NaN</td>\n",
       "      <td>NaN</td>\n",
       "      <td>793001.0</td>\n",
       "      <td>776721.0</td>\n",
       "      <td>...</td>\n",
       "      <td>53506.0</td>\n",
       "      <td>52890.0</td>\n",
       "      <td>54122.0</td>\n",
       "      <td>74279.0</td>\n",
       "      <td>69539.0</td>\n",
       "      <td>79019.0</td>\n",
       "      <td>20.4</td>\n",
       "      <td>19.1</td>\n",
       "      <td>21.7</td>\n",
       "      <td>Poverty Estimates 2017    793001.0 State:     ...</td>\n",
       "    </tr>\n",
       "    <tr>\n",
       "      <th>1625</th>\n",
       "      <td>1628</td>\n",
       "      <td>30000</td>\n",
       "      <td>MT</td>\n",
       "      <td>Montana</td>\n",
       "      <td>NaN</td>\n",
       "      <td>NaN</td>\n",
       "      <td>NaN</td>\n",
       "      <td>NaN</td>\n",
       "      <td>130616.0</td>\n",
       "      <td>125024.0</td>\n",
       "      <td>...</td>\n",
       "      <td>53262.0</td>\n",
       "      <td>51987.0</td>\n",
       "      <td>54537.0</td>\n",
       "      <td>11864.0</td>\n",
       "      <td>10638.0</td>\n",
       "      <td>13090.0</td>\n",
       "      <td>19.3</td>\n",
       "      <td>17.3</td>\n",
       "      <td>21.3</td>\n",
       "      <td>Poverty Estimates 2017    130616.0 State:     ...</td>\n",
       "    </tr>\n",
       "    <tr>\n",
       "      <th>1682</th>\n",
       "      <td>1685</td>\n",
       "      <td>31000</td>\n",
       "      <td>NE</td>\n",
       "      <td>Nebraska</td>\n",
       "      <td>NaN</td>\n",
       "      <td>NaN</td>\n",
       "      <td>NaN</td>\n",
       "      <td>NaN</td>\n",
       "      <td>198984.0</td>\n",
       "      <td>191439.0</td>\n",
       "      <td>...</td>\n",
       "      <td>59913.0</td>\n",
       "      <td>58959.0</td>\n",
       "      <td>60867.0</td>\n",
       "      <td>19275.0</td>\n",
       "      <td>17401.0</td>\n",
       "      <td>21149.0</td>\n",
       "      <td>14.9</td>\n",
       "      <td>13.5</td>\n",
       "      <td>16.3</td>\n",
       "      <td>Poverty Estimates 2017    198984.0 State:     ...</td>\n",
       "    </tr>\n",
       "    <tr>\n",
       "      <th>1776</th>\n",
       "      <td>1779</td>\n",
       "      <td>32000</td>\n",
       "      <td>NV</td>\n",
       "      <td>Nevada</td>\n",
       "      <td>NaN</td>\n",
       "      <td>NaN</td>\n",
       "      <td>NaN</td>\n",
       "      <td>NaN</td>\n",
       "      <td>392857.0</td>\n",
       "      <td>379792.0</td>\n",
       "      <td>...</td>\n",
       "      <td>57932.0</td>\n",
       "      <td>57032.0</td>\n",
       "      <td>58832.0</td>\n",
       "      <td>38686.0</td>\n",
       "      <td>35608.0</td>\n",
       "      <td>41764.0</td>\n",
       "      <td>21.3</td>\n",
       "      <td>19.6</td>\n",
       "      <td>23.0</td>\n",
       "      <td>Poverty Estimates 2017    392857.0 State:     ...</td>\n",
       "    </tr>\n",
       "    <tr>\n",
       "      <th>1794</th>\n",
       "      <td>1797</td>\n",
       "      <td>33000</td>\n",
       "      <td>NH</td>\n",
       "      <td>New Hampshire</td>\n",
       "      <td>NaN</td>\n",
       "      <td>NaN</td>\n",
       "      <td>NaN</td>\n",
       "      <td>NaN</td>\n",
       "      <td>100550.0</td>\n",
       "      <td>95275.0</td>\n",
       "      <td>...</td>\n",
       "      <td>73638.0</td>\n",
       "      <td>72173.0</td>\n",
       "      <td>75103.0</td>\n",
       "      <td>6744.0</td>\n",
       "      <td>5633.0</td>\n",
       "      <td>7855.0</td>\n",
       "      <td>10.8</td>\n",
       "      <td>9.0</td>\n",
       "      <td>12.6</td>\n",
       "      <td>Poverty Estimates 2017    100550.0 State:     ...</td>\n",
       "    </tr>\n",
       "    <tr>\n",
       "      <th>1805</th>\n",
       "      <td>1808</td>\n",
       "      <td>34000</td>\n",
       "      <td>NJ</td>\n",
       "      <td>New Jersey</td>\n",
       "      <td>NaN</td>\n",
       "      <td>NaN</td>\n",
       "      <td>NaN</td>\n",
       "      <td>NaN</td>\n",
       "      <td>882132.0</td>\n",
       "      <td>862408.0</td>\n",
       "      <td>...</td>\n",
       "      <td>80106.0</td>\n",
       "      <td>79451.0</td>\n",
       "      <td>80761.0</td>\n",
       "      <td>77659.0</td>\n",
       "      <td>71868.0</td>\n",
       "      <td>83450.0</td>\n",
       "      <td>15.2</td>\n",
       "      <td>14.1</td>\n",
       "      <td>16.3</td>\n",
       "      <td>Poverty Estimates 2017    882132.0 State:     ...</td>\n",
       "    </tr>\n",
       "    <tr>\n",
       "      <th>1827</th>\n",
       "      <td>1830</td>\n",
       "      <td>35000</td>\n",
       "      <td>NM</td>\n",
       "      <td>New Mexico</td>\n",
       "      <td>NaN</td>\n",
       "      <td>NaN</td>\n",
       "      <td>NaN</td>\n",
       "      <td>NaN</td>\n",
       "      <td>388790.0</td>\n",
       "      <td>378032.0</td>\n",
       "      <td>...</td>\n",
       "      <td>47086.0</td>\n",
       "      <td>45974.0</td>\n",
       "      <td>48198.0</td>\n",
       "      <td>35257.0</td>\n",
       "      <td>32493.0</td>\n",
       "      <td>38021.0</td>\n",
       "      <td>28.4</td>\n",
       "      <td>26.2</td>\n",
       "      <td>30.6</td>\n",
       "      <td>Poverty Estimates 2017    388790.0 State:     ...</td>\n",
       "    </tr>\n",
       "    <tr>\n",
       "      <th>1861</th>\n",
       "      <td>1864</td>\n",
       "      <td>36000</td>\n",
       "      <td>NY</td>\n",
       "      <td>New York</td>\n",
       "      <td>NaN</td>\n",
       "      <td>NaN</td>\n",
       "      <td>NaN</td>\n",
       "      <td>NaN</td>\n",
       "      <td>2735578.0</td>\n",
       "      <td>2700018.0</td>\n",
       "      <td>...</td>\n",
       "      <td>64783.0</td>\n",
       "      <td>64283.0</td>\n",
       "      <td>65283.0</td>\n",
       "      <td>240184.0</td>\n",
       "      <td>229203.0</td>\n",
       "      <td>251165.0</td>\n",
       "      <td>21.2</td>\n",
       "      <td>20.2</td>\n",
       "      <td>22.2</td>\n",
       "      <td>Poverty Estimates 2017    2735578.0 State:    ...</td>\n",
       "    </tr>\n",
       "    <tr>\n",
       "      <th>1924</th>\n",
       "      <td>1927</td>\n",
       "      <td>37000</td>\n",
       "      <td>NC</td>\n",
       "      <td>North Carolina</td>\n",
       "      <td>NaN</td>\n",
       "      <td>NaN</td>\n",
       "      <td>NaN</td>\n",
       "      <td>NaN</td>\n",
       "      <td>1468032.0</td>\n",
       "      <td>1442873.0</td>\n",
       "      <td>...</td>\n",
       "      <td>52797.0</td>\n",
       "      <td>52295.0</td>\n",
       "      <td>53299.0</td>\n",
       "      <td>140316.0</td>\n",
       "      <td>133819.0</td>\n",
       "      <td>146813.0</td>\n",
       "      <td>23.5</td>\n",
       "      <td>22.4</td>\n",
       "      <td>24.6</td>\n",
       "      <td>Poverty Estimates 2017    1468032.0 State:    ...</td>\n",
       "    </tr>\n",
       "    <tr>\n",
       "      <th>2025</th>\n",
       "      <td>2028</td>\n",
       "      <td>38000</td>\n",
       "      <td>ND</td>\n",
       "      <td>North Dakota</td>\n",
       "      <td>NaN</td>\n",
       "      <td>NaN</td>\n",
       "      <td>NaN</td>\n",
       "      <td>NaN</td>\n",
       "      <td>74057.0</td>\n",
       "      <td>70249.0</td>\n",
       "      <td>...</td>\n",
       "      <td>62400.0</td>\n",
       "      <td>61392.0</td>\n",
       "      <td>63408.0</td>\n",
       "      <td>6759.0</td>\n",
       "      <td>5831.0</td>\n",
       "      <td>7687.0</td>\n",
       "      <td>12.8</td>\n",
       "      <td>11.0</td>\n",
       "      <td>14.6</td>\n",
       "      <td>Poverty Estimates 2017    74057.0 State:     N...</td>\n",
       "    </tr>\n",
       "    <tr>\n",
       "      <th>2079</th>\n",
       "      <td>2082</td>\n",
       "      <td>39000</td>\n",
       "      <td>OH</td>\n",
       "      <td>Ohio</td>\n",
       "      <td>NaN</td>\n",
       "      <td>NaN</td>\n",
       "      <td>NaN</td>\n",
       "      <td>NaN</td>\n",
       "      <td>1575401.0</td>\n",
       "      <td>1551281.0</td>\n",
       "      <td>...</td>\n",
       "      <td>54077.0</td>\n",
       "      <td>53670.0</td>\n",
       "      <td>54484.0</td>\n",
       "      <td>155522.0</td>\n",
       "      <td>148753.0</td>\n",
       "      <td>162291.0</td>\n",
       "      <td>22.8</td>\n",
       "      <td>21.8</td>\n",
       "      <td>23.8</td>\n",
       "      <td>Poverty Estimates 2017    1575401.0 State:    ...</td>\n",
       "    </tr>\n",
       "    <tr>\n",
       "      <th>2168</th>\n",
       "      <td>2171</td>\n",
       "      <td>40000</td>\n",
       "      <td>OK</td>\n",
       "      <td>Oklahoma</td>\n",
       "      <td>NaN</td>\n",
       "      <td>NaN</td>\n",
       "      <td>NaN</td>\n",
       "      <td>NaN</td>\n",
       "      <td>600911.0</td>\n",
       "      <td>589591.0</td>\n",
       "      <td>...</td>\n",
       "      <td>50051.0</td>\n",
       "      <td>49487.0</td>\n",
       "      <td>50615.0</td>\n",
       "      <td>59699.0</td>\n",
       "      <td>56255.0</td>\n",
       "      <td>63143.0</td>\n",
       "      <td>23.4</td>\n",
       "      <td>22.1</td>\n",
       "      <td>24.7</td>\n",
       "      <td>Poverty Estimates 2017    600911.0 State:     ...</td>\n",
       "    </tr>\n",
       "    <tr>\n",
       "      <th>2246</th>\n",
       "      <td>2249</td>\n",
       "      <td>41000</td>\n",
       "      <td>OR</td>\n",
       "      <td>Oregon</td>\n",
       "      <td>NaN</td>\n",
       "      <td>NaN</td>\n",
       "      <td>NaN</td>\n",
       "      <td>NaN</td>\n",
       "      <td>534846.0</td>\n",
       "      <td>521125.0</td>\n",
       "      <td>...</td>\n",
       "      <td>60123.0</td>\n",
       "      <td>59356.0</td>\n",
       "      <td>60890.0</td>\n",
       "      <td>42628.0</td>\n",
       "      <td>39150.0</td>\n",
       "      <td>46106.0</td>\n",
       "      <td>18.6</td>\n",
       "      <td>17.1</td>\n",
       "      <td>20.1</td>\n",
       "      <td>Poverty Estimates 2017    534846.0 State:     ...</td>\n",
       "    </tr>\n",
       "    <tr>\n",
       "      <th>2283</th>\n",
       "      <td>2286</td>\n",
       "      <td>42000</td>\n",
       "      <td>PA</td>\n",
       "      <td>Pennsylvania</td>\n",
       "      <td>NaN</td>\n",
       "      <td>NaN</td>\n",
       "      <td>NaN</td>\n",
       "      <td>NaN</td>\n",
       "      <td>1548557.0</td>\n",
       "      <td>1524709.0</td>\n",
       "      <td>...</td>\n",
       "      <td>59165.0</td>\n",
       "      <td>58728.0</td>\n",
       "      <td>59602.0</td>\n",
       "      <td>134116.0</td>\n",
       "      <td>127343.0</td>\n",
       "      <td>140889.0</td>\n",
       "      <td>19.4</td>\n",
       "      <td>18.4</td>\n",
       "      <td>20.4</td>\n",
       "      <td>Poverty Estimates 2017    1548557.0 State:    ...</td>\n",
       "    </tr>\n",
       "    <tr>\n",
       "      <th>2351</th>\n",
       "      <td>2354</td>\n",
       "      <td>44000</td>\n",
       "      <td>RI</td>\n",
       "      <td>Rhode Island</td>\n",
       "      <td>NaN</td>\n",
       "      <td>NaN</td>\n",
       "      <td>NaN</td>\n",
       "      <td>NaN</td>\n",
       "      <td>125208.0</td>\n",
       "      <td>118956.0</td>\n",
       "      <td>...</td>\n",
       "      <td>62923.0</td>\n",
       "      <td>61349.0</td>\n",
       "      <td>64497.0</td>\n",
       "      <td>10766.0</td>\n",
       "      <td>9514.0</td>\n",
       "      <td>12018.0</td>\n",
       "      <td>20.2</td>\n",
       "      <td>17.8</td>\n",
       "      <td>22.6</td>\n",
       "      <td>Poverty Estimates 2017    125208.0 State:     ...</td>\n",
       "    </tr>\n",
       "    <tr>\n",
       "      <th>2357</th>\n",
       "      <td>2360</td>\n",
       "      <td>45000</td>\n",
       "      <td>SC</td>\n",
       "      <td>South Carolina</td>\n",
       "      <td>NaN</td>\n",
       "      <td>NaN</td>\n",
       "      <td>NaN</td>\n",
       "      <td>NaN</td>\n",
       "      <td>750359.0</td>\n",
       "      <td>735356.0</td>\n",
       "      <td>...</td>\n",
       "      <td>50675.0</td>\n",
       "      <td>50151.0</td>\n",
       "      <td>51199.0</td>\n",
       "      <td>69188.0</td>\n",
       "      <td>65427.0</td>\n",
       "      <td>72949.0</td>\n",
       "      <td>24.1</td>\n",
       "      <td>22.8</td>\n",
       "      <td>25.4</td>\n",
       "      <td>Poverty Estimates 2017    750359.0 State:     ...</td>\n",
       "    </tr>\n",
       "    <tr>\n",
       "      <th>2404</th>\n",
       "      <td>2407</td>\n",
       "      <td>46000</td>\n",
       "      <td>SD</td>\n",
       "      <td>South Dakota</td>\n",
       "      <td>NaN</td>\n",
       "      <td>NaN</td>\n",
       "      <td>NaN</td>\n",
       "      <td>NaN</td>\n",
       "      <td>107522.0</td>\n",
       "      <td>103234.0</td>\n",
       "      <td>...</td>\n",
       "      <td>56871.0</td>\n",
       "      <td>55674.0</td>\n",
       "      <td>58068.0</td>\n",
       "      <td>10579.0</td>\n",
       "      <td>9486.0</td>\n",
       "      <td>11672.0</td>\n",
       "      <td>17.7</td>\n",
       "      <td>15.9</td>\n",
       "      <td>19.5</td>\n",
       "      <td>Poverty Estimates 2017    107522.0 State:     ...</td>\n",
       "    </tr>\n",
       "    <tr>\n",
       "      <th>2471</th>\n",
       "      <td>2474</td>\n",
       "      <td>47000</td>\n",
       "      <td>TN</td>\n",
       "      <td>Tennessee</td>\n",
       "      <td>NaN</td>\n",
       "      <td>NaN</td>\n",
       "      <td>NaN</td>\n",
       "      <td>NaN</td>\n",
       "      <td>980394.0</td>\n",
       "      <td>961862.0</td>\n",
       "      <td>...</td>\n",
       "      <td>51319.0</td>\n",
       "      <td>50914.0</td>\n",
       "      <td>51724.0</td>\n",
       "      <td>94225.0</td>\n",
       "      <td>89428.0</td>\n",
       "      <td>99022.0</td>\n",
       "      <td>23.6</td>\n",
       "      <td>22.4</td>\n",
       "      <td>24.8</td>\n",
       "      <td>Poverty Estimates 2017    980394.0 State:     ...</td>\n",
       "    </tr>\n",
       "    <tr>\n",
       "      <th>2567</th>\n",
       "      <td>2570</td>\n",
       "      <td>48000</td>\n",
       "      <td>TX</td>\n",
       "      <td>Texas</td>\n",
       "      <td>NaN</td>\n",
       "      <td>NaN</td>\n",
       "      <td>NaN</td>\n",
       "      <td>NaN</td>\n",
       "      <td>4080377.0</td>\n",
       "      <td>4036102.0</td>\n",
       "      <td>...</td>\n",
       "      <td>59195.0</td>\n",
       "      <td>58712.0</td>\n",
       "      <td>59678.0</td>\n",
       "      <td>454312.0</td>\n",
       "      <td>439905.0</td>\n",
       "      <td>468719.0</td>\n",
       "      <td>22.8</td>\n",
       "      <td>22.1</td>\n",
       "      <td>23.5</td>\n",
       "      <td>Poverty Estimates 2017    4080377.0 State:    ...</td>\n",
       "    </tr>\n",
       "    <tr>\n",
       "      <th>2822</th>\n",
       "      <td>2825</td>\n",
       "      <td>49000</td>\n",
       "      <td>UT</td>\n",
       "      <td>Utah</td>\n",
       "      <td>NaN</td>\n",
       "      <td>NaN</td>\n",
       "      <td>NaN</td>\n",
       "      <td>NaN</td>\n",
       "      <td>296138.0</td>\n",
       "      <td>284801.0</td>\n",
       "      <td>...</td>\n",
       "      <td>68395.0</td>\n",
       "      <td>67267.0</td>\n",
       "      <td>69523.0</td>\n",
       "      <td>30591.0</td>\n",
       "      <td>27509.0</td>\n",
       "      <td>33673.0</td>\n",
       "      <td>12.2</td>\n",
       "      <td>11.0</td>\n",
       "      <td>13.4</td>\n",
       "      <td>Poverty Estimates 2017    296138.0 State:     ...</td>\n",
       "    </tr>\n",
       "    <tr>\n",
       "      <th>2852</th>\n",
       "      <td>2855</td>\n",
       "      <td>50000</td>\n",
       "      <td>VT</td>\n",
       "      <td>Vermont</td>\n",
       "      <td>NaN</td>\n",
       "      <td>NaN</td>\n",
       "      <td>NaN</td>\n",
       "      <td>NaN</td>\n",
       "      <td>65068.0</td>\n",
       "      <td>61032.0</td>\n",
       "      <td>...</td>\n",
       "      <td>58271.0</td>\n",
       "      <td>56580.0</td>\n",
       "      <td>59962.0</td>\n",
       "      <td>4145.0</td>\n",
       "      <td>3444.0</td>\n",
       "      <td>4846.0</td>\n",
       "      <td>14.0</td>\n",
       "      <td>11.6</td>\n",
       "      <td>16.4</td>\n",
       "      <td>Poverty Estimates 2017    65068.0 State:     V...</td>\n",
       "    </tr>\n",
       "    <tr>\n",
       "      <th>2867</th>\n",
       "      <td>2870</td>\n",
       "      <td>51000</td>\n",
       "      <td>VA</td>\n",
       "      <td>Virginia</td>\n",
       "      <td>NaN</td>\n",
       "      <td>NaN</td>\n",
       "      <td>NaN</td>\n",
       "      <td>NaN</td>\n",
       "      <td>876438.0</td>\n",
       "      <td>856763.0</td>\n",
       "      <td>...</td>\n",
       "      <td>71518.0</td>\n",
       "      <td>70983.0</td>\n",
       "      <td>72053.0</td>\n",
       "      <td>73601.0</td>\n",
       "      <td>68258.0</td>\n",
       "      <td>78944.0</td>\n",
       "      <td>14.7</td>\n",
       "      <td>13.6</td>\n",
       "      <td>15.8</td>\n",
       "      <td>Poverty Estimates 2017    876438.0 State:     ...</td>\n",
       "    </tr>\n",
       "    <tr>\n",
       "      <th>3001</th>\n",
       "      <td>3004</td>\n",
       "      <td>53000</td>\n",
       "      <td>WA</td>\n",
       "      <td>Washington</td>\n",
       "      <td>NaN</td>\n",
       "      <td>NaN</td>\n",
       "      <td>NaN</td>\n",
       "      <td>NaN</td>\n",
       "      <td>799675.0</td>\n",
       "      <td>781803.0</td>\n",
       "      <td>...</td>\n",
       "      <td>70942.0</td>\n",
       "      <td>70369.0</td>\n",
       "      <td>71515.0</td>\n",
       "      <td>65010.0</td>\n",
       "      <td>60616.0</td>\n",
       "      <td>69404.0</td>\n",
       "      <td>14.6</td>\n",
       "      <td>13.6</td>\n",
       "      <td>15.6</td>\n",
       "      <td>Poverty Estimates 2017    799675.0 State:     ...</td>\n",
       "    </tr>\n",
       "    <tr>\n",
       "      <th>3041</th>\n",
       "      <td>3044</td>\n",
       "      <td>54000</td>\n",
       "      <td>WV</td>\n",
       "      <td>West Virginia</td>\n",
       "      <td>NaN</td>\n",
       "      <td>NaN</td>\n",
       "      <td>NaN</td>\n",
       "      <td>NaN</td>\n",
       "      <td>326502.0</td>\n",
       "      <td>316875.0</td>\n",
       "      <td>...</td>\n",
       "      <td>43238.0</td>\n",
       "      <td>41975.0</td>\n",
       "      <td>44501.0</td>\n",
       "      <td>27396.0</td>\n",
       "      <td>25303.0</td>\n",
       "      <td>29489.0</td>\n",
       "      <td>28.8</td>\n",
       "      <td>26.6</td>\n",
       "      <td>31.0</td>\n",
       "      <td>Poverty Estimates 2017    326502.0 State:     ...</td>\n",
       "    </tr>\n",
       "    <tr>\n",
       "      <th>3097</th>\n",
       "      <td>3100</td>\n",
       "      <td>55000</td>\n",
       "      <td>Wi</td>\n",
       "      <td>Wisconsin</td>\n",
       "      <td>NaN</td>\n",
       "      <td>NaN</td>\n",
       "      <td>NaN</td>\n",
       "      <td>NaN</td>\n",
       "      <td>640174.0</td>\n",
       "      <td>627066.0</td>\n",
       "      <td>...</td>\n",
       "      <td>59300.0</td>\n",
       "      <td>58725.0</td>\n",
       "      <td>59875.0</td>\n",
       "      <td>52307.0</td>\n",
       "      <td>48640.0</td>\n",
       "      <td>55974.0</td>\n",
       "      <td>16.0</td>\n",
       "      <td>14.9</td>\n",
       "      <td>17.1</td>\n",
       "      <td>Poverty Estimates 2017    640174.0 State:     ...</td>\n",
       "    </tr>\n",
       "    <tr>\n",
       "      <th>3170</th>\n",
       "      <td>3173</td>\n",
       "      <td>56000</td>\n",
       "      <td>WY</td>\n",
       "      <td>Wyoming</td>\n",
       "      <td>NaN</td>\n",
       "      <td>NaN</td>\n",
       "      <td>NaN</td>\n",
       "      <td>NaN</td>\n",
       "      <td>61319.0</td>\n",
       "      <td>57678.0</td>\n",
       "      <td>...</td>\n",
       "      <td>61279.0</td>\n",
       "      <td>59760.0</td>\n",
       "      <td>62798.0</td>\n",
       "      <td>5392.0</td>\n",
       "      <td>4568.0</td>\n",
       "      <td>6216.0</td>\n",
       "      <td>15.0</td>\n",
       "      <td>12.7</td>\n",
       "      <td>17.3</td>\n",
       "      <td>Poverty Estimates 2017    61319.0 State:     W...</td>\n",
       "    </tr>\n",
       "  </tbody>\n",
       "</table>\n",
       "<p>50 rows × 36 columns</p>\n",
       "</div>"
      ],
      "text/plain": [
       "         2  FIPStxt State       Area_Name  Rural-urban_Continuum_Code_2003  \\\n",
       "1        4     1000    AL         Alabama                              NaN   \n",
       "69      72     2000    AK          Alaska                              NaN   \n",
       "99     102     4000    AZ         Arizona                              NaN   \n",
       "115    118     5000    AR        Arkansas                              NaN   \n",
       "191    194     6000    CA      California                              NaN   \n",
       "250    253     8000    CO        Colorado                              NaN   \n",
       "315    318     9000    CT     Connecticut                              NaN   \n",
       "324    327    10000    DE        Delaware                              NaN   \n",
       "330    333    12000    FL         Florida                              NaN   \n",
       "398    401    13000    GA         Georgia                              NaN   \n",
       "558    561    15000    HI          Hawaii                              NaN   \n",
       "564    567    16000    ID           Idaho                              NaN   \n",
       "609    612    17000    IL        Illinois                              NaN   \n",
       "712    715    18000    IN         Indiana                              NaN   \n",
       "805    808    19000    IA            Iowa                              NaN   \n",
       "905    908    20000    KS          Kansas                              NaN   \n",
       "1011  1014    21000    KY        Kentucky                              NaN   \n",
       "1132  1135    22000    LA       Louisiana                              NaN   \n",
       "1197  1200    23000    ME           Maine                              NaN   \n",
       "1214  1217    24000    MD        Maryland                              NaN   \n",
       "1239  1242    25000    MA   Massachusetts                              NaN   \n",
       "1254  1257    26000    MI        Michigan                              NaN   \n",
       "1338  1341    27000    MN       Minnesota                              NaN   \n",
       "1426  1429    28000    MS     Mississippi                              NaN   \n",
       "1509  1512    29000    MO        Missouri                              NaN   \n",
       "1625  1628    30000    MT         Montana                              NaN   \n",
       "1682  1685    31000    NE        Nebraska                              NaN   \n",
       "1776  1779    32000    NV          Nevada                              NaN   \n",
       "1794  1797    33000    NH   New Hampshire                              NaN   \n",
       "1805  1808    34000    NJ      New Jersey                              NaN   \n",
       "1827  1830    35000    NM      New Mexico                              NaN   \n",
       "1861  1864    36000    NY        New York                              NaN   \n",
       "1924  1927    37000    NC  North Carolina                              NaN   \n",
       "2025  2028    38000    ND    North Dakota                              NaN   \n",
       "2079  2082    39000    OH            Ohio                              NaN   \n",
       "2168  2171    40000    OK        Oklahoma                              NaN   \n",
       "2246  2249    41000    OR          Oregon                              NaN   \n",
       "2283  2286    42000    PA    Pennsylvania                              NaN   \n",
       "2351  2354    44000    RI    Rhode Island                              NaN   \n",
       "2357  2360    45000    SC  South Carolina                              NaN   \n",
       "2404  2407    46000    SD    South Dakota                              NaN   \n",
       "2471  2474    47000    TN       Tennessee                              NaN   \n",
       "2567  2570    48000    TX           Texas                              NaN   \n",
       "2822  2825    49000    UT            Utah                              NaN   \n",
       "2852  2855    50000    VT         Vermont                              NaN   \n",
       "2867  2870    51000    VA        Virginia                              NaN   \n",
       "3001  3004    53000    WA      Washington                              NaN   \n",
       "3041  3044    54000    WV   West Virginia                              NaN   \n",
       "3097  3100    55000    Wi       Wisconsin                              NaN   \n",
       "3170  3173    56000    WY         Wyoming                              NaN   \n",
       "\n",
       "      Urban_Influence_Code_2003  Rural-urban_Continuum_Code_2013  \\\n",
       "1                           NaN                              NaN   \n",
       "69                          NaN                              NaN   \n",
       "99                          NaN                              NaN   \n",
       "115                         NaN                              NaN   \n",
       "191                         NaN                              NaN   \n",
       "250                         NaN                              NaN   \n",
       "315                         NaN                              NaN   \n",
       "324                         NaN                              NaN   \n",
       "330                         NaN                              NaN   \n",
       "398                         NaN                              NaN   \n",
       "558                         NaN                              NaN   \n",
       "564                         NaN                              NaN   \n",
       "609                         NaN                              NaN   \n",
       "712                         NaN                              NaN   \n",
       "805                         NaN                              NaN   \n",
       "905                         NaN                              NaN   \n",
       "1011                        NaN                              NaN   \n",
       "1132                        NaN                              NaN   \n",
       "1197                        NaN                              NaN   \n",
       "1214                        NaN                              NaN   \n",
       "1239                        NaN                              NaN   \n",
       "1254                        NaN                              NaN   \n",
       "1338                        NaN                              NaN   \n",
       "1426                        NaN                              NaN   \n",
       "1509                        NaN                              NaN   \n",
       "1625                        NaN                              NaN   \n",
       "1682                        NaN                              NaN   \n",
       "1776                        NaN                              NaN   \n",
       "1794                        NaN                              NaN   \n",
       "1805                        NaN                              NaN   \n",
       "1827                        NaN                              NaN   \n",
       "1861                        NaN                              NaN   \n",
       "1924                        NaN                              NaN   \n",
       "2025                        NaN                              NaN   \n",
       "2079                        NaN                              NaN   \n",
       "2168                        NaN                              NaN   \n",
       "2246                        NaN                              NaN   \n",
       "2283                        NaN                              NaN   \n",
       "2351                        NaN                              NaN   \n",
       "2357                        NaN                              NaN   \n",
       "2404                        NaN                              NaN   \n",
       "2471                        NaN                              NaN   \n",
       "2567                        NaN                              NaN   \n",
       "2822                        NaN                              NaN   \n",
       "2852                        NaN                              NaN   \n",
       "2867                        NaN                              NaN   \n",
       "3001                        NaN                              NaN   \n",
       "3041                        NaN                              NaN   \n",
       "3097                        NaN                              NaN   \n",
       "3170                        NaN                              NaN   \n",
       "\n",
       "      Urban_Influence_Code_2013  POVALL_2017  CI90LBAll_2017  ...  \\\n",
       "1                           NaN     802263.0        784517.0  ...   \n",
       "69                          NaN      79428.0         75273.0  ...   \n",
       "99                          NaN    1023337.0       1002773.0  ...   \n",
       "115                         NaN     475883.0        463966.0  ...   \n",
       "191                         NaN    5164169.0       5111205.0  ...   \n",
       "250                         NaN     566118.0        552126.0  ...   \n",
       "315                         NaN     338651.0        326360.0  ...   \n",
       "324                         NaN     121592.0        116181.0  ...   \n",
       "330                         NaN    2901876.0       2860804.0  ...   \n",
       "398                         NaN    1536069.0       1503877.0  ...   \n",
       "558                         NaN     132201.0        126481.0  ...   \n",
       "564                         NaN     211937.0        203631.0  ...   \n",
       "609                         NaN    1568670.0       1543257.0  ...   \n",
       "712                         NaN     860753.0        841903.0  ...   \n",
       "805                         NaN     328629.0        319716.0  ...   \n",
       "905                         NaN     335371.0        325420.0  ...   \n",
       "1011                        NaN     738563.0        723378.0  ...   \n",
       "1132                        NaN     893827.0        875670.0  ...   \n",
       "1197                        NaN     147413.0        141958.0  ...   \n",
       "1214                        NaN     556549.0        541127.0  ...   \n",
       "1239                        NaN     692943.0        675076.0  ...   \n",
       "1254                        NaN    1373358.0       1351618.0  ...   \n",
       "1338                        NaN     517348.0        505806.0  ...   \n",
       "1426                        NaN     573717.0        561749.0  ...   \n",
       "1509                        NaN     793001.0        776721.0  ...   \n",
       "1625                        NaN     130616.0        125024.0  ...   \n",
       "1682                        NaN     198984.0        191439.0  ...   \n",
       "1776                        NaN     392857.0        379792.0  ...   \n",
       "1794                        NaN     100550.0         95275.0  ...   \n",
       "1805                        NaN     882132.0        862408.0  ...   \n",
       "1827                        NaN     388790.0        378032.0  ...   \n",
       "1861                        NaN    2735578.0       2700018.0  ...   \n",
       "1924                        NaN    1468032.0       1442873.0  ...   \n",
       "2025                        NaN      74057.0         70249.0  ...   \n",
       "2079                        NaN    1575401.0       1551281.0  ...   \n",
       "2168                        NaN     600911.0        589591.0  ...   \n",
       "2246                        NaN     534846.0        521125.0  ...   \n",
       "2283                        NaN    1548557.0       1524709.0  ...   \n",
       "2351                        NaN     125208.0        118956.0  ...   \n",
       "2357                        NaN     750359.0        735356.0  ...   \n",
       "2404                        NaN     107522.0        103234.0  ...   \n",
       "2471                        NaN     980394.0        961862.0  ...   \n",
       "2567                        NaN    4080377.0       4036102.0  ...   \n",
       "2822                        NaN     296138.0        284801.0  ...   \n",
       "2852                        NaN      65068.0         61032.0  ...   \n",
       "2867                        NaN     876438.0        856763.0  ...   \n",
       "3001                        NaN     799675.0        781803.0  ...   \n",
       "3041                        NaN     326502.0        316875.0  ...   \n",
       "3097                        NaN     640174.0        627066.0  ...   \n",
       "3170                        NaN      61319.0         57678.0  ...   \n",
       "\n",
       "      MEDHHINC_2017  CI90LBINC_2017  CI90UBINC_2017  POV04_2017  \\\n",
       "1           48193.0         47451.0         48935.0     78986.0   \n",
       "69          74058.0         72099.0         76017.0      8208.0   \n",
       "99          56508.0         55999.0         57017.0     99130.0   \n",
       "115         45916.0         45181.0         46651.0     46339.0   \n",
       "191         71785.0         71492.0         72078.0    453522.0   \n",
       "250         69113.0         68361.0         69865.0     44196.0   \n",
       "315         74428.0         73203.0         75653.0     25638.0   \n",
       "324         64085.0         62201.0         65969.0     11176.0   \n",
       "330         52582.0         52221.0         52943.0    244308.0   \n",
       "398         56117.0         55555.0         56679.0    153380.0   \n",
       "558         77936.0         76340.0         79532.0     11596.0   \n",
       "564         52280.0         51448.0         53112.0     20008.0   \n",
       "609         63044.0         62509.0         63579.0    142481.0   \n",
       "712         54134.0         53493.0         54775.0     83000.0   \n",
       "805         58706.0         57889.0         59523.0     29970.0   \n",
       "905         56382.0         55700.0         57064.0     31443.0   \n",
       "1011        48332.0         47716.0         48948.0     66607.0   \n",
       "1132        46283.0         45663.0         46903.0     95740.0   \n",
       "1197        55980.0         54896.0         57064.0      9522.0   \n",
       "1214        80711.0         80023.0         81399.0     48728.0   \n",
       "1239        77385.0         76519.0         78251.0     51167.0   \n",
       "1254        54840.0         54405.0         55275.0    130222.0   \n",
       "1338        68364.0         67722.0         69006.0     43319.0   \n",
       "1426        43595.0         42773.0         44417.0     52336.0   \n",
       "1509        53506.0         52890.0         54122.0     74279.0   \n",
       "1625        53262.0         51987.0         54537.0     11864.0   \n",
       "1682        59913.0         58959.0         60867.0     19275.0   \n",
       "1776        57932.0         57032.0         58832.0     38686.0   \n",
       "1794        73638.0         72173.0         75103.0      6744.0   \n",
       "1805        80106.0         79451.0         80761.0     77659.0   \n",
       "1827        47086.0         45974.0         48198.0     35257.0   \n",
       "1861        64783.0         64283.0         65283.0    240184.0   \n",
       "1924        52797.0         52295.0         53299.0    140316.0   \n",
       "2025        62400.0         61392.0         63408.0      6759.0   \n",
       "2079        54077.0         53670.0         54484.0    155522.0   \n",
       "2168        50051.0         49487.0         50615.0     59699.0   \n",
       "2246        60123.0         59356.0         60890.0     42628.0   \n",
       "2283        59165.0         58728.0         59602.0    134116.0   \n",
       "2351        62923.0         61349.0         64497.0     10766.0   \n",
       "2357        50675.0         50151.0         51199.0     69188.0   \n",
       "2404        56871.0         55674.0         58068.0     10579.0   \n",
       "2471        51319.0         50914.0         51724.0     94225.0   \n",
       "2567        59195.0         58712.0         59678.0    454312.0   \n",
       "2822        68395.0         67267.0         69523.0     30591.0   \n",
       "2852        58271.0         56580.0         59962.0      4145.0   \n",
       "2867        71518.0         70983.0         72053.0     73601.0   \n",
       "3001        70942.0         70369.0         71515.0     65010.0   \n",
       "3041        43238.0         41975.0         44501.0     27396.0   \n",
       "3097        59300.0         58725.0         59875.0     52307.0   \n",
       "3170        61279.0         59760.0         62798.0      5392.0   \n",
       "\n",
       "      CI90LB04_2017  CI90UB04_2017  PCTPOV04_2017  CI90LB04P_2017  \\\n",
       "1           75009.0        82963.0           27.7            26.3   \n",
       "69           7145.0         9271.0           15.8            13.7   \n",
       "99          93773.0       104487.0           23.4            22.1   \n",
       "115         43141.0        49537.0           24.8            23.1   \n",
       "191        440023.0       467021.0           18.8            18.2   \n",
       "250         40042.0        48350.0           13.5            12.2   \n",
       "315         22687.0        28589.0           14.2            12.6   \n",
       "324          9870.0        12482.0           21.3            18.8   \n",
       "330        234289.0       254327.0           22.0            21.1   \n",
       "398        145103.0       161657.0           23.8            22.5   \n",
       "558          9898.0        13294.0           13.3            11.4   \n",
       "564         17900.0        22116.0           17.5            15.7   \n",
       "609        134834.0       150128.0           18.8            17.8   \n",
       "712         78256.0        87744.0           20.4            19.2   \n",
       "805         27513.0        32427.0           15.4            14.1   \n",
       "905         28724.0        34162.0           16.7            15.3   \n",
       "1011        62866.0        70348.0           24.8            23.4   \n",
       "1132        91062.0       100418.0           31.3            29.8   \n",
       "1197         8477.0        10567.0           15.2            13.5   \n",
       "1214        45000.0        52456.0           13.5            12.5   \n",
       "1239        46523.0        55811.0           14.5            13.2   \n",
       "1254       124403.0       136041.0           23.4            22.4   \n",
       "1338        39712.0        46926.0           12.5            11.5   \n",
       "1426        48981.0        55691.0           28.6            26.8   \n",
       "1509        69539.0        79019.0           20.4            19.1   \n",
       "1625        10638.0        13090.0           19.3            17.3   \n",
       "1682        17401.0        21149.0           14.9            13.5   \n",
       "1776        35608.0        41764.0           21.3            19.6   \n",
       "1794         5633.0         7855.0           10.8             9.0   \n",
       "1805        71868.0        83450.0           15.2            14.1   \n",
       "1827        32493.0        38021.0           28.4            26.2   \n",
       "1861       229203.0       251165.0           21.2            20.2   \n",
       "1924       133819.0       146813.0           23.5            22.4   \n",
       "2025         5831.0         7687.0           12.8            11.0   \n",
       "2079       148753.0       162291.0           22.8            21.8   \n",
       "2168        56255.0        63143.0           23.4            22.1   \n",
       "2246        39150.0        46106.0           18.6            17.1   \n",
       "2283       127343.0       140889.0           19.4            18.4   \n",
       "2351         9514.0        12018.0           20.2            17.8   \n",
       "2357        65427.0        72949.0           24.1            22.8   \n",
       "2404         9486.0        11672.0           17.7            15.9   \n",
       "2471        89428.0        99022.0           23.6            22.4   \n",
       "2567       439905.0       468719.0           22.8            22.1   \n",
       "2822        27509.0        33673.0           12.2            11.0   \n",
       "2852         3444.0         4846.0           14.0            11.6   \n",
       "2867        68258.0        78944.0           14.7            13.6   \n",
       "3001        60616.0        69404.0           14.6            13.6   \n",
       "3041        25303.0        29489.0           28.8            26.6   \n",
       "3097        48640.0        55974.0           16.0            14.9   \n",
       "3170         4568.0         6216.0           15.0            12.7   \n",
       "\n",
       "      CI90UB04P_2017                                               text  \n",
       "1               29.1  Poverty Estimates 2017    802263.0 State:     ...  \n",
       "69              17.9  Poverty Estimates 2017    79428.0 State:     A...  \n",
       "99              24.7  Poverty Estimates 2017    1023337.0 State:    ...  \n",
       "115             26.5  Poverty Estimates 2017    475883.0 State:     ...  \n",
       "191             19.4  Poverty Estimates 2017    5164169.0 State:    ...  \n",
       "250             14.8  Poverty Estimates 2017    566118.0 State:     ...  \n",
       "315             15.8  Poverty Estimates 2017    338651.0 State:     ...  \n",
       "324             23.8  Poverty Estimates 2017    121592.0 State:     ...  \n",
       "330             22.9  Poverty Estimates 2017    2901876.0 State:    ...  \n",
       "398             25.1  Poverty Estimates 2017    1536069.0 State:    ...  \n",
       "558             15.2  Poverty Estimates 2017    132201.0 State:     ...  \n",
       "564             19.3  Poverty Estimates 2017    211937.0 State:     ...  \n",
       "609             19.8  Poverty Estimates 2017    1568670.0 State:    ...  \n",
       "712             21.6  Poverty Estimates 2017    860753.0 State:     ...  \n",
       "805             16.7  Poverty Estimates 2017    328629.0 State:     ...  \n",
       "905             18.1  Poverty Estimates 2017    335371.0 State:     ...  \n",
       "1011            26.2  Poverty Estimates 2017    738563.0 State:     ...  \n",
       "1132            32.8  Poverty Estimates 2017    893827.0 State:     ...  \n",
       "1197            16.9  Poverty Estimates 2017    147413.0 State:     ...  \n",
       "1214            14.5  Poverty Estimates 2017    556549.0 State:     ...  \n",
       "1239            15.8  Poverty Estimates 2017    692943.0 State:     ...  \n",
       "1254            24.4  Poverty Estimates 2017    1373358.0 State:    ...  \n",
       "1338            13.5  Poverty Estimates 2017    517348.0 State:     ...  \n",
       "1426            30.4  Poverty Estimates 2017    573717.0 State:     ...  \n",
       "1509            21.7  Poverty Estimates 2017    793001.0 State:     ...  \n",
       "1625            21.3  Poverty Estimates 2017    130616.0 State:     ...  \n",
       "1682            16.3  Poverty Estimates 2017    198984.0 State:     ...  \n",
       "1776            23.0  Poverty Estimates 2017    392857.0 State:     ...  \n",
       "1794            12.6  Poverty Estimates 2017    100550.0 State:     ...  \n",
       "1805            16.3  Poverty Estimates 2017    882132.0 State:     ...  \n",
       "1827            30.6  Poverty Estimates 2017    388790.0 State:     ...  \n",
       "1861            22.2  Poverty Estimates 2017    2735578.0 State:    ...  \n",
       "1924            24.6  Poverty Estimates 2017    1468032.0 State:    ...  \n",
       "2025            14.6  Poverty Estimates 2017    74057.0 State:     N...  \n",
       "2079            23.8  Poverty Estimates 2017    1575401.0 State:    ...  \n",
       "2168            24.7  Poverty Estimates 2017    600911.0 State:     ...  \n",
       "2246            20.1  Poverty Estimates 2017    534846.0 State:     ...  \n",
       "2283            20.4  Poverty Estimates 2017    1548557.0 State:    ...  \n",
       "2351            22.6  Poverty Estimates 2017    125208.0 State:     ...  \n",
       "2357            25.4  Poverty Estimates 2017    750359.0 State:     ...  \n",
       "2404            19.5  Poverty Estimates 2017    107522.0 State:     ...  \n",
       "2471            24.8  Poverty Estimates 2017    980394.0 State:     ...  \n",
       "2567            23.5  Poverty Estimates 2017    4080377.0 State:    ...  \n",
       "2822            13.4  Poverty Estimates 2017    296138.0 State:     ...  \n",
       "2852            16.4  Poverty Estimates 2017    65068.0 State:     V...  \n",
       "2867            15.8  Poverty Estimates 2017    876438.0 State:     ...  \n",
       "3001            15.6  Poverty Estimates 2017    799675.0 State:     ...  \n",
       "3041            31.0  Poverty Estimates 2017    326502.0 State:     ...  \n",
       "3097            17.1  Poverty Estimates 2017    640174.0 State:     ...  \n",
       "3170            17.3  Poverty Estimates 2017    61319.0 State:     W...  \n",
       "\n",
       "[50 rows x 36 columns]"
      ]
     },
     "execution_count": 20,
     "metadata": {},
     "output_type": "execute_result"
    }
   ],
   "source": [
    "states"
   ]
  },
  {
   "cell_type": "code",
   "execution_count": 27,
   "metadata": {},
   "outputs": [],
   "source": [
    "poverty_data = pd.read_csv('povertyData.csv')"
   ]
  },
  {
   "cell_type": "code",
   "execution_count": 28,
   "metadata": {},
   "outputs": [
    {
     "data": {
      "text/html": [
       "<div>\n",
       "<style scoped>\n",
       "    .dataframe tbody tr th:only-of-type {\n",
       "        vertical-align: middle;\n",
       "    }\n",
       "\n",
       "    .dataframe tbody tr th {\n",
       "        vertical-align: top;\n",
       "    }\n",
       "\n",
       "    .dataframe thead th {\n",
       "        text-align: right;\n",
       "    }\n",
       "</style>\n",
       "<table border=\"1\" class=\"dataframe\">\n",
       "  <thead>\n",
       "    <tr style=\"text-align: right;\">\n",
       "      <th></th>\n",
       "      <th>2</th>\n",
       "      <th>FIPStxt</th>\n",
       "      <th>State</th>\n",
       "      <th>Area_Name</th>\n",
       "      <th>Rural-urban_Continuum_Code_2003</th>\n",
       "      <th>Urban_Influence_Code_2003</th>\n",
       "      <th>Rural-urban_Continuum_Code_2013</th>\n",
       "      <th>Urban_Influence_Code_2013</th>\n",
       "      <th>POVALL_2017</th>\n",
       "      <th>CI90LBAll_2017</th>\n",
       "      <th>...</th>\n",
       "      <th>CI90UB517P_2017</th>\n",
       "      <th>MEDHHINC_2017</th>\n",
       "      <th>CI90LBINC_2017</th>\n",
       "      <th>CI90UBINC_2017</th>\n",
       "      <th>POV04_2017</th>\n",
       "      <th>CI90LB04_2017</th>\n",
       "      <th>CI90UB04_2017</th>\n",
       "      <th>PCTPOV04_2017</th>\n",
       "      <th>CI90LB04P_2017</th>\n",
       "      <th>CI90UB04P_2017</th>\n",
       "    </tr>\n",
       "  </thead>\n",
       "  <tbody>\n",
       "    <tr>\n",
       "      <th>0</th>\n",
       "      <td>3</td>\n",
       "      <td>0</td>\n",
       "      <td>US</td>\n",
       "      <td>United States</td>\n",
       "      <td>NaN</td>\n",
       "      <td>NaN</td>\n",
       "      <td>NaN</td>\n",
       "      <td>NaN</td>\n",
       "      <td>42583651.0</td>\n",
       "      <td>42342619.0</td>\n",
       "      <td>...</td>\n",
       "      <td>17.5</td>\n",
       "      <td>60336.0</td>\n",
       "      <td>60250.0</td>\n",
       "      <td>60422.0</td>\n",
       "      <td>3932969.0</td>\n",
       "      <td>3880645.0</td>\n",
       "      <td>3985293.0</td>\n",
       "      <td>20.2</td>\n",
       "      <td>19.9</td>\n",
       "      <td>20.5</td>\n",
       "    </tr>\n",
       "    <tr>\n",
       "      <th>1</th>\n",
       "      <td>4</td>\n",
       "      <td>1000</td>\n",
       "      <td>AL</td>\n",
       "      <td>Alabama</td>\n",
       "      <td>NaN</td>\n",
       "      <td>NaN</td>\n",
       "      <td>NaN</td>\n",
       "      <td>NaN</td>\n",
       "      <td>802263.0</td>\n",
       "      <td>784517.0</td>\n",
       "      <td>...</td>\n",
       "      <td>23.8</td>\n",
       "      <td>48193.0</td>\n",
       "      <td>47451.0</td>\n",
       "      <td>48935.0</td>\n",
       "      <td>78986.0</td>\n",
       "      <td>75009.0</td>\n",
       "      <td>82963.0</td>\n",
       "      <td>27.7</td>\n",
       "      <td>26.3</td>\n",
       "      <td>29.1</td>\n",
       "    </tr>\n",
       "    <tr>\n",
       "      <th>2</th>\n",
       "      <td>5</td>\n",
       "      <td>1001</td>\n",
       "      <td>AL</td>\n",
       "      <td>Autauga County</td>\n",
       "      <td>2.0</td>\n",
       "      <td>2.0</td>\n",
       "      <td>2.0</td>\n",
       "      <td>2.0</td>\n",
       "      <td>7390.0</td>\n",
       "      <td>6147.0</td>\n",
       "      <td>...</td>\n",
       "      <td>22.1</td>\n",
       "      <td>58343.0</td>\n",
       "      <td>52121.0</td>\n",
       "      <td>64565.0</td>\n",
       "      <td>NaN</td>\n",
       "      <td>NaN</td>\n",
       "      <td>NaN</td>\n",
       "      <td>NaN</td>\n",
       "      <td>NaN</td>\n",
       "      <td>NaN</td>\n",
       "    </tr>\n",
       "    <tr>\n",
       "      <th>3</th>\n",
       "      <td>6</td>\n",
       "      <td>1003</td>\n",
       "      <td>AL</td>\n",
       "      <td>Baldwin County</td>\n",
       "      <td>4.0</td>\n",
       "      <td>5.0</td>\n",
       "      <td>3.0</td>\n",
       "      <td>2.0</td>\n",
       "      <td>21199.0</td>\n",
       "      <td>17444.0</td>\n",
       "      <td>...</td>\n",
       "      <td>17.9</td>\n",
       "      <td>56607.0</td>\n",
       "      <td>52439.0</td>\n",
       "      <td>60775.0</td>\n",
       "      <td>NaN</td>\n",
       "      <td>NaN</td>\n",
       "      <td>NaN</td>\n",
       "      <td>NaN</td>\n",
       "      <td>NaN</td>\n",
       "      <td>NaN</td>\n",
       "    </tr>\n",
       "    <tr>\n",
       "      <th>4</th>\n",
       "      <td>7</td>\n",
       "      <td>1005</td>\n",
       "      <td>AL</td>\n",
       "      <td>Barbour County</td>\n",
       "      <td>6.0</td>\n",
       "      <td>6.0</td>\n",
       "      <td>6.0</td>\n",
       "      <td>6.0</td>\n",
       "      <td>7414.0</td>\n",
       "      <td>6325.0</td>\n",
       "      <td>...</td>\n",
       "      <td>55.0</td>\n",
       "      <td>32490.0</td>\n",
       "      <td>29218.0</td>\n",
       "      <td>35762.0</td>\n",
       "      <td>NaN</td>\n",
       "      <td>NaN</td>\n",
       "      <td>NaN</td>\n",
       "      <td>NaN</td>\n",
       "      <td>NaN</td>\n",
       "      <td>NaN</td>\n",
       "    </tr>\n",
       "    <tr>\n",
       "      <th>5</th>\n",
       "      <td>8</td>\n",
       "      <td>1007</td>\n",
       "      <td>AL</td>\n",
       "      <td>Bibb County</td>\n",
       "      <td>1.0</td>\n",
       "      <td>1.0</td>\n",
       "      <td>1.0</td>\n",
       "      <td>1.0</td>\n",
       "      <td>4137.0</td>\n",
       "      <td>3187.0</td>\n",
       "      <td>...</td>\n",
       "      <td>33.8</td>\n",
       "      <td>45795.0</td>\n",
       "      <td>40924.0</td>\n",
       "      <td>50666.0</td>\n",
       "      <td>NaN</td>\n",
       "      <td>NaN</td>\n",
       "      <td>NaN</td>\n",
       "      <td>NaN</td>\n",
       "      <td>NaN</td>\n",
       "      <td>NaN</td>\n",
       "    </tr>\n",
       "    <tr>\n",
       "      <th>6</th>\n",
       "      <td>9</td>\n",
       "      <td>1009</td>\n",
       "      <td>AL</td>\n",
       "      <td>Blount County</td>\n",
       "      <td>1.0</td>\n",
       "      <td>1.0</td>\n",
       "      <td>1.0</td>\n",
       "      <td>1.0</td>\n",
       "      <td>7343.0</td>\n",
       "      <td>5805.0</td>\n",
       "      <td>...</td>\n",
       "      <td>22.3</td>\n",
       "      <td>48253.0</td>\n",
       "      <td>43784.0</td>\n",
       "      <td>52722.0</td>\n",
       "      <td>NaN</td>\n",
       "      <td>NaN</td>\n",
       "      <td>NaN</td>\n",
       "      <td>NaN</td>\n",
       "      <td>NaN</td>\n",
       "      <td>NaN</td>\n",
       "    </tr>\n",
       "    <tr>\n",
       "      <th>7</th>\n",
       "      <td>10</td>\n",
       "      <td>1011</td>\n",
       "      <td>AL</td>\n",
       "      <td>Bullock County</td>\n",
       "      <td>6.0</td>\n",
       "      <td>6.0</td>\n",
       "      <td>6.0</td>\n",
       "      <td>6.0</td>\n",
       "      <td>2956.0</td>\n",
       "      <td>2316.0</td>\n",
       "      <td>...</td>\n",
       "      <td>60.4</td>\n",
       "      <td>29113.0</td>\n",
       "      <td>25929.0</td>\n",
       "      <td>32297.0</td>\n",
       "      <td>NaN</td>\n",
       "      <td>NaN</td>\n",
       "      <td>NaN</td>\n",
       "      <td>NaN</td>\n",
       "      <td>NaN</td>\n",
       "      <td>NaN</td>\n",
       "    </tr>\n",
       "    <tr>\n",
       "      <th>8</th>\n",
       "      <td>11</td>\n",
       "      <td>1013</td>\n",
       "      <td>AL</td>\n",
       "      <td>Butler County</td>\n",
       "      <td>6.0</td>\n",
       "      <td>6.0</td>\n",
       "      <td>6.0</td>\n",
       "      <td>6.0</td>\n",
       "      <td>4154.0</td>\n",
       "      <td>3155.0</td>\n",
       "      <td>...</td>\n",
       "      <td>40.6</td>\n",
       "      <td>36842.0</td>\n",
       "      <td>33405.0</td>\n",
       "      <td>40279.0</td>\n",
       "      <td>NaN</td>\n",
       "      <td>NaN</td>\n",
       "      <td>NaN</td>\n",
       "      <td>NaN</td>\n",
       "      <td>NaN</td>\n",
       "      <td>NaN</td>\n",
       "    </tr>\n",
       "    <tr>\n",
       "      <th>9</th>\n",
       "      <td>12</td>\n",
       "      <td>1015</td>\n",
       "      <td>AL</td>\n",
       "      <td>Calhoun County</td>\n",
       "      <td>3.0</td>\n",
       "      <td>2.0</td>\n",
       "      <td>3.0</td>\n",
       "      <td>2.0</td>\n",
       "      <td>19832.0</td>\n",
       "      <td>16938.0</td>\n",
       "      <td>...</td>\n",
       "      <td>27.5</td>\n",
       "      <td>45937.0</td>\n",
       "      <td>43419.0</td>\n",
       "      <td>48455.0</td>\n",
       "      <td>NaN</td>\n",
       "      <td>NaN</td>\n",
       "      <td>NaN</td>\n",
       "      <td>NaN</td>\n",
       "      <td>NaN</td>\n",
       "      <td>NaN</td>\n",
       "    </tr>\n",
       "    <tr>\n",
       "      <th>10</th>\n",
       "      <td>13</td>\n",
       "      <td>1017</td>\n",
       "      <td>AL</td>\n",
       "      <td>Chambers County</td>\n",
       "      <td>6.0</td>\n",
       "      <td>5.0</td>\n",
       "      <td>6.0</td>\n",
       "      <td>5.0</td>\n",
       "      <td>6036.0</td>\n",
       "      <td>4653.0</td>\n",
       "      <td>...</td>\n",
       "      <td>38.5</td>\n",
       "      <td>36883.0</td>\n",
       "      <td>33288.0</td>\n",
       "      <td>40478.0</td>\n",
       "      <td>NaN</td>\n",
       "      <td>NaN</td>\n",
       "      <td>NaN</td>\n",
       "      <td>NaN</td>\n",
       "      <td>NaN</td>\n",
       "      <td>NaN</td>\n",
       "    </tr>\n",
       "    <tr>\n",
       "      <th>11</th>\n",
       "      <td>14</td>\n",
       "      <td>1019</td>\n",
       "      <td>AL</td>\n",
       "      <td>Cherokee County</td>\n",
       "      <td>8.0</td>\n",
       "      <td>6.0</td>\n",
       "      <td>6.0</td>\n",
       "      <td>6.0</td>\n",
       "      <td>4381.0</td>\n",
       "      <td>3453.0</td>\n",
       "      <td>...</td>\n",
       "      <td>29.5</td>\n",
       "      <td>44842.0</td>\n",
       "      <td>40581.0</td>\n",
       "      <td>49103.0</td>\n",
       "      <td>NaN</td>\n",
       "      <td>NaN</td>\n",
       "      <td>NaN</td>\n",
       "      <td>NaN</td>\n",
       "      <td>NaN</td>\n",
       "      <td>NaN</td>\n",
       "    </tr>\n",
       "    <tr>\n",
       "      <th>12</th>\n",
       "      <td>15</td>\n",
       "      <td>1021</td>\n",
       "      <td>AL</td>\n",
       "      <td>Chilton County</td>\n",
       "      <td>1.0</td>\n",
       "      <td>1.0</td>\n",
       "      <td>1.0</td>\n",
       "      <td>1.0</td>\n",
       "      <td>7303.0</td>\n",
       "      <td>5921.0</td>\n",
       "      <td>...</td>\n",
       "      <td>27.3</td>\n",
       "      <td>46405.0</td>\n",
       "      <td>41678.0</td>\n",
       "      <td>51132.0</td>\n",
       "      <td>NaN</td>\n",
       "      <td>NaN</td>\n",
       "      <td>NaN</td>\n",
       "      <td>NaN</td>\n",
       "      <td>NaN</td>\n",
       "      <td>NaN</td>\n",
       "    </tr>\n",
       "    <tr>\n",
       "      <th>13</th>\n",
       "      <td>16</td>\n",
       "      <td>1023</td>\n",
       "      <td>AL</td>\n",
       "      <td>Choctaw County</td>\n",
       "      <td>9.0</td>\n",
       "      <td>10.0</td>\n",
       "      <td>9.0</td>\n",
       "      <td>10.0</td>\n",
       "      <td>3031.0</td>\n",
       "      <td>2436.0</td>\n",
       "      <td>...</td>\n",
       "      <td>41.9</td>\n",
       "      <td>36711.0</td>\n",
       "      <td>32917.0</td>\n",
       "      <td>40505.0</td>\n",
       "      <td>NaN</td>\n",
       "      <td>NaN</td>\n",
       "      <td>NaN</td>\n",
       "      <td>NaN</td>\n",
       "      <td>NaN</td>\n",
       "      <td>NaN</td>\n",
       "    </tr>\n",
       "    <tr>\n",
       "      <th>14</th>\n",
       "      <td>17</td>\n",
       "      <td>1025</td>\n",
       "      <td>AL</td>\n",
       "      <td>Clarke County</td>\n",
       "      <td>7.0</td>\n",
       "      <td>11.0</td>\n",
       "      <td>7.0</td>\n",
       "      <td>11.0</td>\n",
       "      <td>5541.0</td>\n",
       "      <td>4561.0</td>\n",
       "      <td>...</td>\n",
       "      <td>39.8</td>\n",
       "      <td>36719.0</td>\n",
       "      <td>32871.0</td>\n",
       "      <td>40567.0</td>\n",
       "      <td>NaN</td>\n",
       "      <td>NaN</td>\n",
       "      <td>NaN</td>\n",
       "      <td>NaN</td>\n",
       "      <td>NaN</td>\n",
       "      <td>NaN</td>\n",
       "    </tr>\n",
       "    <tr>\n",
       "      <th>15</th>\n",
       "      <td>18</td>\n",
       "      <td>1027</td>\n",
       "      <td>AL</td>\n",
       "      <td>Clay County</td>\n",
       "      <td>9.0</td>\n",
       "      <td>10.0</td>\n",
       "      <td>9.0</td>\n",
       "      <td>10.0</td>\n",
       "      <td>2363.0</td>\n",
       "      <td>1876.0</td>\n",
       "      <td>...</td>\n",
       "      <td>30.5</td>\n",
       "      <td>39642.0</td>\n",
       "      <td>35350.0</td>\n",
       "      <td>43934.0</td>\n",
       "      <td>NaN</td>\n",
       "      <td>NaN</td>\n",
       "      <td>NaN</td>\n",
       "      <td>NaN</td>\n",
       "      <td>NaN</td>\n",
       "      <td>NaN</td>\n",
       "    </tr>\n",
       "    <tr>\n",
       "      <th>16</th>\n",
       "      <td>19</td>\n",
       "      <td>1029</td>\n",
       "      <td>AL</td>\n",
       "      <td>Cleburne County</td>\n",
       "      <td>8.0</td>\n",
       "      <td>4.0</td>\n",
       "      <td>8.0</td>\n",
       "      <td>4.0</td>\n",
       "      <td>2365.0</td>\n",
       "      <td>1871.0</td>\n",
       "      <td>...</td>\n",
       "      <td>26.6</td>\n",
       "      <td>45480.0</td>\n",
       "      <td>40661.0</td>\n",
       "      <td>50299.0</td>\n",
       "      <td>NaN</td>\n",
       "      <td>NaN</td>\n",
       "      <td>NaN</td>\n",
       "      <td>NaN</td>\n",
       "      <td>NaN</td>\n",
       "      <td>NaN</td>\n",
       "    </tr>\n",
       "    <tr>\n",
       "      <th>17</th>\n",
       "      <td>20</td>\n",
       "      <td>1031</td>\n",
       "      <td>AL</td>\n",
       "      <td>Coffee County</td>\n",
       "      <td>6.0</td>\n",
       "      <td>5.0</td>\n",
       "      <td>4.0</td>\n",
       "      <td>5.0</td>\n",
       "      <td>7954.0</td>\n",
       "      <td>6754.0</td>\n",
       "      <td>...</td>\n",
       "      <td>26.3</td>\n",
       "      <td>51998.0</td>\n",
       "      <td>48378.0</td>\n",
       "      <td>55618.0</td>\n",
       "      <td>NaN</td>\n",
       "      <td>NaN</td>\n",
       "      <td>NaN</td>\n",
       "      <td>NaN</td>\n",
       "      <td>NaN</td>\n",
       "      <td>NaN</td>\n",
       "    </tr>\n",
       "    <tr>\n",
       "      <th>18</th>\n",
       "      <td>21</td>\n",
       "      <td>1033</td>\n",
       "      <td>AL</td>\n",
       "      <td>Colbert County</td>\n",
       "      <td>3.0</td>\n",
       "      <td>2.0</td>\n",
       "      <td>3.0</td>\n",
       "      <td>2.0</td>\n",
       "      <td>8324.0</td>\n",
       "      <td>6720.0</td>\n",
       "      <td>...</td>\n",
       "      <td>27.6</td>\n",
       "      <td>46100.0</td>\n",
       "      <td>42010.0</td>\n",
       "      <td>50190.0</td>\n",
       "      <td>NaN</td>\n",
       "      <td>NaN</td>\n",
       "      <td>NaN</td>\n",
       "      <td>NaN</td>\n",
       "      <td>NaN</td>\n",
       "      <td>NaN</td>\n",
       "    </tr>\n",
       "    <tr>\n",
       "      <th>19</th>\n",
       "      <td>22</td>\n",
       "      <td>1035</td>\n",
       "      <td>AL</td>\n",
       "      <td>Conecuh County</td>\n",
       "      <td>9.0</td>\n",
       "      <td>11.0</td>\n",
       "      <td>7.0</td>\n",
       "      <td>11.0</td>\n",
       "      <td>2939.0</td>\n",
       "      <td>2146.0</td>\n",
       "      <td>...</td>\n",
       "      <td>53.1</td>\n",
       "      <td>30796.0</td>\n",
       "      <td>27534.0</td>\n",
       "      <td>34058.0</td>\n",
       "      <td>NaN</td>\n",
       "      <td>NaN</td>\n",
       "      <td>NaN</td>\n",
       "      <td>NaN</td>\n",
       "      <td>NaN</td>\n",
       "      <td>NaN</td>\n",
       "    </tr>\n",
       "    <tr>\n",
       "      <th>20</th>\n",
       "      <td>23</td>\n",
       "      <td>1037</td>\n",
       "      <td>AL</td>\n",
       "      <td>Coosa County</td>\n",
       "      <td>8.0</td>\n",
       "      <td>7.0</td>\n",
       "      <td>8.0</td>\n",
       "      <td>3.0</td>\n",
       "      <td>1823.0</td>\n",
       "      <td>1374.0</td>\n",
       "      <td>...</td>\n",
       "      <td>33.7</td>\n",
       "      <td>42442.0</td>\n",
       "      <td>38888.0</td>\n",
       "      <td>45996.0</td>\n",
       "      <td>NaN</td>\n",
       "      <td>NaN</td>\n",
       "      <td>NaN</td>\n",
       "      <td>NaN</td>\n",
       "      <td>NaN</td>\n",
       "      <td>NaN</td>\n",
       "    </tr>\n",
       "    <tr>\n",
       "      <th>21</th>\n",
       "      <td>24</td>\n",
       "      <td>1039</td>\n",
       "      <td>AL</td>\n",
       "      <td>Covington County</td>\n",
       "      <td>7.0</td>\n",
       "      <td>9.0</td>\n",
       "      <td>6.0</td>\n",
       "      <td>6.0</td>\n",
       "      <td>6447.0</td>\n",
       "      <td>5153.0</td>\n",
       "      <td>...</td>\n",
       "      <td>32.2</td>\n",
       "      <td>39093.0</td>\n",
       "      <td>35979.0</td>\n",
       "      <td>42207.0</td>\n",
       "      <td>NaN</td>\n",
       "      <td>NaN</td>\n",
       "      <td>NaN</td>\n",
       "      <td>NaN</td>\n",
       "      <td>NaN</td>\n",
       "      <td>NaN</td>\n",
       "    </tr>\n",
       "    <tr>\n",
       "      <th>22</th>\n",
       "      <td>25</td>\n",
       "      <td>1041</td>\n",
       "      <td>AL</td>\n",
       "      <td>Crenshaw County</td>\n",
       "      <td>8.0</td>\n",
       "      <td>6.0</td>\n",
       "      <td>8.0</td>\n",
       "      <td>6.0</td>\n",
       "      <td>2722.0</td>\n",
       "      <td>2091.0</td>\n",
       "      <td>...</td>\n",
       "      <td>33.3</td>\n",
       "      <td>38419.0</td>\n",
       "      <td>34662.0</td>\n",
       "      <td>42176.0</td>\n",
       "      <td>NaN</td>\n",
       "      <td>NaN</td>\n",
       "      <td>NaN</td>\n",
       "      <td>NaN</td>\n",
       "      <td>NaN</td>\n",
       "      <td>NaN</td>\n",
       "    </tr>\n",
       "    <tr>\n",
       "      <th>23</th>\n",
       "      <td>26</td>\n",
       "      <td>1043</td>\n",
       "      <td>AL</td>\n",
       "      <td>Cullman County</td>\n",
       "      <td>6.0</td>\n",
       "      <td>3.0</td>\n",
       "      <td>4.0</td>\n",
       "      <td>3.0</td>\n",
       "      <td>11256.0</td>\n",
       "      <td>9196.0</td>\n",
       "      <td>...</td>\n",
       "      <td>23.1</td>\n",
       "      <td>45925.0</td>\n",
       "      <td>41985.0</td>\n",
       "      <td>49865.0</td>\n",
       "      <td>NaN</td>\n",
       "      <td>NaN</td>\n",
       "      <td>NaN</td>\n",
       "      <td>NaN</td>\n",
       "      <td>NaN</td>\n",
       "      <td>NaN</td>\n",
       "    </tr>\n",
       "    <tr>\n",
       "      <th>24</th>\n",
       "      <td>27</td>\n",
       "      <td>1045</td>\n",
       "      <td>AL</td>\n",
       "      <td>Dale County</td>\n",
       "      <td>4.0</td>\n",
       "      <td>5.0</td>\n",
       "      <td>4.0</td>\n",
       "      <td>5.0</td>\n",
       "      <td>8528.0</td>\n",
       "      <td>7097.0</td>\n",
       "      <td>...</td>\n",
       "      <td>30.1</td>\n",
       "      <td>42572.0</td>\n",
       "      <td>38719.0</td>\n",
       "      <td>46425.0</td>\n",
       "      <td>NaN</td>\n",
       "      <td>NaN</td>\n",
       "      <td>NaN</td>\n",
       "      <td>NaN</td>\n",
       "      <td>NaN</td>\n",
       "      <td>NaN</td>\n",
       "    </tr>\n",
       "    <tr>\n",
       "      <th>25</th>\n",
       "      <td>28</td>\n",
       "      <td>1047</td>\n",
       "      <td>AL</td>\n",
       "      <td>Dallas County</td>\n",
       "      <td>4.0</td>\n",
       "      <td>5.0</td>\n",
       "      <td>4.0</td>\n",
       "      <td>5.0</td>\n",
       "      <td>10796.0</td>\n",
       "      <td>8516.0</td>\n",
       "      <td>...</td>\n",
       "      <td>50.4</td>\n",
       "      <td>31329.0</td>\n",
       "      <td>28590.0</td>\n",
       "      <td>34068.0</td>\n",
       "      <td>NaN</td>\n",
       "      <td>NaN</td>\n",
       "      <td>NaN</td>\n",
       "      <td>NaN</td>\n",
       "      <td>NaN</td>\n",
       "      <td>NaN</td>\n",
       "    </tr>\n",
       "    <tr>\n",
       "      <th>26</th>\n",
       "      <td>29</td>\n",
       "      <td>1049</td>\n",
       "      <td>AL</td>\n",
       "      <td>DeKalb County</td>\n",
       "      <td>6.0</td>\n",
       "      <td>6.0</td>\n",
       "      <td>6.0</td>\n",
       "      <td>6.0</td>\n",
       "      <td>13785.0</td>\n",
       "      <td>11467.0</td>\n",
       "      <td>...</td>\n",
       "      <td>32.1</td>\n",
       "      <td>39906.0</td>\n",
       "      <td>36346.0</td>\n",
       "      <td>43466.0</td>\n",
       "      <td>NaN</td>\n",
       "      <td>NaN</td>\n",
       "      <td>NaN</td>\n",
       "      <td>NaN</td>\n",
       "      <td>NaN</td>\n",
       "      <td>NaN</td>\n",
       "    </tr>\n",
       "    <tr>\n",
       "      <th>27</th>\n",
       "      <td>30</td>\n",
       "      <td>1051</td>\n",
       "      <td>AL</td>\n",
       "      <td>Elmore County</td>\n",
       "      <td>2.0</td>\n",
       "      <td>2.0</td>\n",
       "      <td>2.0</td>\n",
       "      <td>2.0</td>\n",
       "      <td>9151.0</td>\n",
       "      <td>7348.0</td>\n",
       "      <td>...</td>\n",
       "      <td>20.3</td>\n",
       "      <td>59652.0</td>\n",
       "      <td>55049.0</td>\n",
       "      <td>64255.0</td>\n",
       "      <td>NaN</td>\n",
       "      <td>NaN</td>\n",
       "      <td>NaN</td>\n",
       "      <td>NaN</td>\n",
       "      <td>NaN</td>\n",
       "      <td>NaN</td>\n",
       "    </tr>\n",
       "    <tr>\n",
       "      <th>28</th>\n",
       "      <td>31</td>\n",
       "      <td>1053</td>\n",
       "      <td>AL</td>\n",
       "      <td>Escambia County</td>\n",
       "      <td>6.0</td>\n",
       "      <td>6.0</td>\n",
       "      <td>6.0</td>\n",
       "      <td>6.0</td>\n",
       "      <td>7971.0</td>\n",
       "      <td>6481.0</td>\n",
       "      <td>...</td>\n",
       "      <td>38.6</td>\n",
       "      <td>37870.0</td>\n",
       "      <td>34989.0</td>\n",
       "      <td>40751.0</td>\n",
       "      <td>NaN</td>\n",
       "      <td>NaN</td>\n",
       "      <td>NaN</td>\n",
       "      <td>NaN</td>\n",
       "      <td>NaN</td>\n",
       "      <td>NaN</td>\n",
       "    </tr>\n",
       "    <tr>\n",
       "      <th>29</th>\n",
       "      <td>32</td>\n",
       "      <td>1055</td>\n",
       "      <td>AL</td>\n",
       "      <td>Etowah County</td>\n",
       "      <td>3.0</td>\n",
       "      <td>2.0</td>\n",
       "      <td>3.0</td>\n",
       "      <td>2.0</td>\n",
       "      <td>18257.0</td>\n",
       "      <td>15600.0</td>\n",
       "      <td>...</td>\n",
       "      <td>32.1</td>\n",
       "      <td>41791.0</td>\n",
       "      <td>38946.0</td>\n",
       "      <td>44636.0</td>\n",
       "      <td>NaN</td>\n",
       "      <td>NaN</td>\n",
       "      <td>NaN</td>\n",
       "      <td>NaN</td>\n",
       "      <td>NaN</td>\n",
       "      <td>NaN</td>\n",
       "    </tr>\n",
       "    <tr>\n",
       "      <th>...</th>\n",
       "      <td>...</td>\n",
       "      <td>...</td>\n",
       "      <td>...</td>\n",
       "      <td>...</td>\n",
       "      <td>...</td>\n",
       "      <td>...</td>\n",
       "      <td>...</td>\n",
       "      <td>...</td>\n",
       "      <td>...</td>\n",
       "      <td>...</td>\n",
       "      <td>...</td>\n",
       "      <td>...</td>\n",
       "      <td>...</td>\n",
       "      <td>...</td>\n",
       "      <td>...</td>\n",
       "      <td>...</td>\n",
       "      <td>...</td>\n",
       "      <td>...</td>\n",
       "      <td>...</td>\n",
       "      <td>...</td>\n",
       "      <td>...</td>\n",
       "    </tr>\n",
       "    <tr>\n",
       "      <th>3164</th>\n",
       "      <td>3167</td>\n",
       "      <td>55131</td>\n",
       "      <td>WI</td>\n",
       "      <td>Washington County</td>\n",
       "      <td>1.0</td>\n",
       "      <td>1.0</td>\n",
       "      <td>1.0</td>\n",
       "      <td>1.0</td>\n",
       "      <td>7124.0</td>\n",
       "      <td>5828.0</td>\n",
       "      <td>...</td>\n",
       "      <td>6.1</td>\n",
       "      <td>76551.0</td>\n",
       "      <td>72503.0</td>\n",
       "      <td>80599.0</td>\n",
       "      <td>NaN</td>\n",
       "      <td>NaN</td>\n",
       "      <td>NaN</td>\n",
       "      <td>NaN</td>\n",
       "      <td>NaN</td>\n",
       "      <td>NaN</td>\n",
       "    </tr>\n",
       "    <tr>\n",
       "      <th>3165</th>\n",
       "      <td>3168</td>\n",
       "      <td>55133</td>\n",
       "      <td>WI</td>\n",
       "      <td>Waukesha County</td>\n",
       "      <td>1.0</td>\n",
       "      <td>1.0</td>\n",
       "      <td>1.0</td>\n",
       "      <td>1.0</td>\n",
       "      <td>19090.0</td>\n",
       "      <td>16633.0</td>\n",
       "      <td>...</td>\n",
       "      <td>5.5</td>\n",
       "      <td>82627.0</td>\n",
       "      <td>80538.0</td>\n",
       "      <td>84716.0</td>\n",
       "      <td>NaN</td>\n",
       "      <td>NaN</td>\n",
       "      <td>NaN</td>\n",
       "      <td>NaN</td>\n",
       "      <td>NaN</td>\n",
       "      <td>NaN</td>\n",
       "    </tr>\n",
       "    <tr>\n",
       "      <th>3166</th>\n",
       "      <td>3169</td>\n",
       "      <td>55135</td>\n",
       "      <td>WI</td>\n",
       "      <td>Waupaca County</td>\n",
       "      <td>6.0</td>\n",
       "      <td>6.0</td>\n",
       "      <td>6.0</td>\n",
       "      <td>6.0</td>\n",
       "      <td>5269.0</td>\n",
       "      <td>4416.0</td>\n",
       "      <td>...</td>\n",
       "      <td>17.3</td>\n",
       "      <td>58474.0</td>\n",
       "      <td>55173.0</td>\n",
       "      <td>61775.0</td>\n",
       "      <td>NaN</td>\n",
       "      <td>NaN</td>\n",
       "      <td>NaN</td>\n",
       "      <td>NaN</td>\n",
       "      <td>NaN</td>\n",
       "      <td>NaN</td>\n",
       "    </tr>\n",
       "    <tr>\n",
       "      <th>3167</th>\n",
       "      <td>3170</td>\n",
       "      <td>55137</td>\n",
       "      <td>WI</td>\n",
       "      <td>Waushara County</td>\n",
       "      <td>8.0</td>\n",
       "      <td>6.0</td>\n",
       "      <td>6.0</td>\n",
       "      <td>6.0</td>\n",
       "      <td>2819.0</td>\n",
       "      <td>2268.0</td>\n",
       "      <td>...</td>\n",
       "      <td>23.4</td>\n",
       "      <td>47653.0</td>\n",
       "      <td>44003.0</td>\n",
       "      <td>51303.0</td>\n",
       "      <td>NaN</td>\n",
       "      <td>NaN</td>\n",
       "      <td>NaN</td>\n",
       "      <td>NaN</td>\n",
       "      <td>NaN</td>\n",
       "      <td>NaN</td>\n",
       "    </tr>\n",
       "    <tr>\n",
       "      <th>3168</th>\n",
       "      <td>3171</td>\n",
       "      <td>55139</td>\n",
       "      <td>WI</td>\n",
       "      <td>Winnebago County</td>\n",
       "      <td>3.0</td>\n",
       "      <td>2.0</td>\n",
       "      <td>3.0</td>\n",
       "      <td>2.0</td>\n",
       "      <td>18076.0</td>\n",
       "      <td>15757.0</td>\n",
       "      <td>...</td>\n",
       "      <td>13.8</td>\n",
       "      <td>57529.0</td>\n",
       "      <td>54561.0</td>\n",
       "      <td>60497.0</td>\n",
       "      <td>NaN</td>\n",
       "      <td>NaN</td>\n",
       "      <td>NaN</td>\n",
       "      <td>NaN</td>\n",
       "      <td>NaN</td>\n",
       "      <td>NaN</td>\n",
       "    </tr>\n",
       "    <tr>\n",
       "      <th>3169</th>\n",
       "      <td>3172</td>\n",
       "      <td>55141</td>\n",
       "      <td>WI</td>\n",
       "      <td>Wood County</td>\n",
       "      <td>4.0</td>\n",
       "      <td>5.0</td>\n",
       "      <td>4.0</td>\n",
       "      <td>5.0</td>\n",
       "      <td>7704.0</td>\n",
       "      <td>6435.0</td>\n",
       "      <td>...</td>\n",
       "      <td>15.3</td>\n",
       "      <td>53346.0</td>\n",
       "      <td>49457.0</td>\n",
       "      <td>57235.0</td>\n",
       "      <td>NaN</td>\n",
       "      <td>NaN</td>\n",
       "      <td>NaN</td>\n",
       "      <td>NaN</td>\n",
       "      <td>NaN</td>\n",
       "      <td>NaN</td>\n",
       "    </tr>\n",
       "    <tr>\n",
       "      <th>3170</th>\n",
       "      <td>3173</td>\n",
       "      <td>56000</td>\n",
       "      <td>WY</td>\n",
       "      <td>Wyoming</td>\n",
       "      <td>NaN</td>\n",
       "      <td>NaN</td>\n",
       "      <td>NaN</td>\n",
       "      <td>NaN</td>\n",
       "      <td>61319.0</td>\n",
       "      <td>57678.0</td>\n",
       "      <td>...</td>\n",
       "      <td>13.0</td>\n",
       "      <td>61279.0</td>\n",
       "      <td>59760.0</td>\n",
       "      <td>62798.0</td>\n",
       "      <td>5392.0</td>\n",
       "      <td>4568.0</td>\n",
       "      <td>6216.0</td>\n",
       "      <td>15.0</td>\n",
       "      <td>12.7</td>\n",
       "      <td>17.3</td>\n",
       "    </tr>\n",
       "    <tr>\n",
       "      <th>3171</th>\n",
       "      <td>3174</td>\n",
       "      <td>56001</td>\n",
       "      <td>WY</td>\n",
       "      <td>Albany County</td>\n",
       "      <td>4.0</td>\n",
       "      <td>5.0</td>\n",
       "      <td>4.0</td>\n",
       "      <td>5.0</td>\n",
       "      <td>7075.0</td>\n",
       "      <td>6304.0</td>\n",
       "      <td>...</td>\n",
       "      <td>15.2</td>\n",
       "      <td>44745.0</td>\n",
       "      <td>40199.0</td>\n",
       "      <td>49291.0</td>\n",
       "      <td>NaN</td>\n",
       "      <td>NaN</td>\n",
       "      <td>NaN</td>\n",
       "      <td>NaN</td>\n",
       "      <td>NaN</td>\n",
       "      <td>NaN</td>\n",
       "    </tr>\n",
       "    <tr>\n",
       "      <th>3172</th>\n",
       "      <td>3175</td>\n",
       "      <td>56003</td>\n",
       "      <td>WY</td>\n",
       "      <td>Big Horn County</td>\n",
       "      <td>9.0</td>\n",
       "      <td>12.0</td>\n",
       "      <td>9.0</td>\n",
       "      <td>12.0</td>\n",
       "      <td>1433.0</td>\n",
       "      <td>1106.0</td>\n",
       "      <td>...</td>\n",
       "      <td>17.9</td>\n",
       "      <td>50380.0</td>\n",
       "      <td>45321.0</td>\n",
       "      <td>55439.0</td>\n",
       "      <td>NaN</td>\n",
       "      <td>NaN</td>\n",
       "      <td>NaN</td>\n",
       "      <td>NaN</td>\n",
       "      <td>NaN</td>\n",
       "      <td>NaN</td>\n",
       "    </tr>\n",
       "    <tr>\n",
       "      <th>3173</th>\n",
       "      <td>3176</td>\n",
       "      <td>56005</td>\n",
       "      <td>WY</td>\n",
       "      <td>Campbell County</td>\n",
       "      <td>5.0</td>\n",
       "      <td>8.0</td>\n",
       "      <td>5.0</td>\n",
       "      <td>8.0</td>\n",
       "      <td>4271.0</td>\n",
       "      <td>3533.0</td>\n",
       "      <td>...</td>\n",
       "      <td>12.5</td>\n",
       "      <td>78240.0</td>\n",
       "      <td>71939.0</td>\n",
       "      <td>84541.0</td>\n",
       "      <td>NaN</td>\n",
       "      <td>NaN</td>\n",
       "      <td>NaN</td>\n",
       "      <td>NaN</td>\n",
       "      <td>NaN</td>\n",
       "      <td>NaN</td>\n",
       "    </tr>\n",
       "    <tr>\n",
       "      <th>3174</th>\n",
       "      <td>3177</td>\n",
       "      <td>56007</td>\n",
       "      <td>WY</td>\n",
       "      <td>Carbon County</td>\n",
       "      <td>7.0</td>\n",
       "      <td>9.0</td>\n",
       "      <td>7.0</td>\n",
       "      <td>9.0</td>\n",
       "      <td>1723.0</td>\n",
       "      <td>1356.0</td>\n",
       "      <td>...</td>\n",
       "      <td>16.9</td>\n",
       "      <td>60634.0</td>\n",
       "      <td>55170.0</td>\n",
       "      <td>66098.0</td>\n",
       "      <td>NaN</td>\n",
       "      <td>NaN</td>\n",
       "      <td>NaN</td>\n",
       "      <td>NaN</td>\n",
       "      <td>NaN</td>\n",
       "      <td>NaN</td>\n",
       "    </tr>\n",
       "    <tr>\n",
       "      <th>3175</th>\n",
       "      <td>3178</td>\n",
       "      <td>56009</td>\n",
       "      <td>WY</td>\n",
       "      <td>Converse County</td>\n",
       "      <td>6.0</td>\n",
       "      <td>6.0</td>\n",
       "      <td>6.0</td>\n",
       "      <td>6.0</td>\n",
       "      <td>1260.0</td>\n",
       "      <td>956.0</td>\n",
       "      <td>...</td>\n",
       "      <td>14.2</td>\n",
       "      <td>65469.0</td>\n",
       "      <td>58748.0</td>\n",
       "      <td>72190.0</td>\n",
       "      <td>NaN</td>\n",
       "      <td>NaN</td>\n",
       "      <td>NaN</td>\n",
       "      <td>NaN</td>\n",
       "      <td>NaN</td>\n",
       "      <td>NaN</td>\n",
       "    </tr>\n",
       "    <tr>\n",
       "      <th>3176</th>\n",
       "      <td>3179</td>\n",
       "      <td>56011</td>\n",
       "      <td>WY</td>\n",
       "      <td>Crook County</td>\n",
       "      <td>9.0</td>\n",
       "      <td>10.0</td>\n",
       "      <td>9.0</td>\n",
       "      <td>10.0</td>\n",
       "      <td>565.0</td>\n",
       "      <td>429.0</td>\n",
       "      <td>...</td>\n",
       "      <td>13.5</td>\n",
       "      <td>61664.0</td>\n",
       "      <td>54882.0</td>\n",
       "      <td>68446.0</td>\n",
       "      <td>NaN</td>\n",
       "      <td>NaN</td>\n",
       "      <td>NaN</td>\n",
       "      <td>NaN</td>\n",
       "      <td>NaN</td>\n",
       "      <td>NaN</td>\n",
       "    </tr>\n",
       "    <tr>\n",
       "      <th>3177</th>\n",
       "      <td>3180</td>\n",
       "      <td>56013</td>\n",
       "      <td>WY</td>\n",
       "      <td>Fremont County</td>\n",
       "      <td>7.0</td>\n",
       "      <td>8.0</td>\n",
       "      <td>7.0</td>\n",
       "      <td>8.0</td>\n",
       "      <td>6291.0</td>\n",
       "      <td>5235.0</td>\n",
       "      <td>...</td>\n",
       "      <td>25.2</td>\n",
       "      <td>50134.0</td>\n",
       "      <td>45841.0</td>\n",
       "      <td>54427.0</td>\n",
       "      <td>NaN</td>\n",
       "      <td>NaN</td>\n",
       "      <td>NaN</td>\n",
       "      <td>NaN</td>\n",
       "      <td>NaN</td>\n",
       "      <td>NaN</td>\n",
       "    </tr>\n",
       "    <tr>\n",
       "      <th>3178</th>\n",
       "      <td>3181</td>\n",
       "      <td>56015</td>\n",
       "      <td>WY</td>\n",
       "      <td>Goshen County</td>\n",
       "      <td>7.0</td>\n",
       "      <td>9.0</td>\n",
       "      <td>7.0</td>\n",
       "      <td>9.0</td>\n",
       "      <td>1572.0</td>\n",
       "      <td>1189.0</td>\n",
       "      <td>...</td>\n",
       "      <td>18.7</td>\n",
       "      <td>51023.0</td>\n",
       "      <td>46305.0</td>\n",
       "      <td>55741.0</td>\n",
       "      <td>NaN</td>\n",
       "      <td>NaN</td>\n",
       "      <td>NaN</td>\n",
       "      <td>NaN</td>\n",
       "      <td>NaN</td>\n",
       "      <td>NaN</td>\n",
       "    </tr>\n",
       "    <tr>\n",
       "      <th>3179</th>\n",
       "      <td>3182</td>\n",
       "      <td>56017</td>\n",
       "      <td>WY</td>\n",
       "      <td>Hot Springs County</td>\n",
       "      <td>7.0</td>\n",
       "      <td>9.0</td>\n",
       "      <td>7.0</td>\n",
       "      <td>9.0</td>\n",
       "      <td>556.0</td>\n",
       "      <td>422.0</td>\n",
       "      <td>...</td>\n",
       "      <td>21.3</td>\n",
       "      <td>47775.0</td>\n",
       "      <td>42792.0</td>\n",
       "      <td>52758.0</td>\n",
       "      <td>NaN</td>\n",
       "      <td>NaN</td>\n",
       "      <td>NaN</td>\n",
       "      <td>NaN</td>\n",
       "      <td>NaN</td>\n",
       "      <td>NaN</td>\n",
       "    </tr>\n",
       "    <tr>\n",
       "      <th>3180</th>\n",
       "      <td>3183</td>\n",
       "      <td>56019</td>\n",
       "      <td>WY</td>\n",
       "      <td>Johnson County</td>\n",
       "      <td>7.0</td>\n",
       "      <td>9.0</td>\n",
       "      <td>7.0</td>\n",
       "      <td>9.0</td>\n",
       "      <td>792.0</td>\n",
       "      <td>617.0</td>\n",
       "      <td>...</td>\n",
       "      <td>13.9</td>\n",
       "      <td>55412.0</td>\n",
       "      <td>50066.0</td>\n",
       "      <td>60758.0</td>\n",
       "      <td>NaN</td>\n",
       "      <td>NaN</td>\n",
       "      <td>NaN</td>\n",
       "      <td>NaN</td>\n",
       "      <td>NaN</td>\n",
       "      <td>NaN</td>\n",
       "    </tr>\n",
       "    <tr>\n",
       "      <th>3181</th>\n",
       "      <td>3184</td>\n",
       "      <td>56021</td>\n",
       "      <td>WY</td>\n",
       "      <td>Laramie County</td>\n",
       "      <td>3.0</td>\n",
       "      <td>2.0</td>\n",
       "      <td>3.0</td>\n",
       "      <td>2.0</td>\n",
       "      <td>9294.0</td>\n",
       "      <td>7767.0</td>\n",
       "      <td>...</td>\n",
       "      <td>13.5</td>\n",
       "      <td>61658.0</td>\n",
       "      <td>57377.0</td>\n",
       "      <td>65939.0</td>\n",
       "      <td>NaN</td>\n",
       "      <td>NaN</td>\n",
       "      <td>NaN</td>\n",
       "      <td>NaN</td>\n",
       "      <td>NaN</td>\n",
       "      <td>NaN</td>\n",
       "    </tr>\n",
       "    <tr>\n",
       "      <th>3182</th>\n",
       "      <td>3185</td>\n",
       "      <td>56023</td>\n",
       "      <td>WY</td>\n",
       "      <td>Lincoln County</td>\n",
       "      <td>7.0</td>\n",
       "      <td>9.0</td>\n",
       "      <td>7.0</td>\n",
       "      <td>9.0</td>\n",
       "      <td>1464.0</td>\n",
       "      <td>1137.0</td>\n",
       "      <td>...</td>\n",
       "      <td>10.7</td>\n",
       "      <td>65137.0</td>\n",
       "      <td>58611.0</td>\n",
       "      <td>71663.0</td>\n",
       "      <td>NaN</td>\n",
       "      <td>NaN</td>\n",
       "      <td>NaN</td>\n",
       "      <td>NaN</td>\n",
       "      <td>NaN</td>\n",
       "      <td>NaN</td>\n",
       "    </tr>\n",
       "    <tr>\n",
       "      <th>3183</th>\n",
       "      <td>3186</td>\n",
       "      <td>56025</td>\n",
       "      <td>WY</td>\n",
       "      <td>Natrona County</td>\n",
       "      <td>3.0</td>\n",
       "      <td>2.0</td>\n",
       "      <td>3.0</td>\n",
       "      <td>2.0</td>\n",
       "      <td>8631.0</td>\n",
       "      <td>7133.0</td>\n",
       "      <td>...</td>\n",
       "      <td>15.2</td>\n",
       "      <td>61049.0</td>\n",
       "      <td>57867.0</td>\n",
       "      <td>64231.0</td>\n",
       "      <td>NaN</td>\n",
       "      <td>NaN</td>\n",
       "      <td>NaN</td>\n",
       "      <td>NaN</td>\n",
       "      <td>NaN</td>\n",
       "      <td>NaN</td>\n",
       "    </tr>\n",
       "    <tr>\n",
       "      <th>3184</th>\n",
       "      <td>3187</td>\n",
       "      <td>56027</td>\n",
       "      <td>WY</td>\n",
       "      <td>Niobrara County</td>\n",
       "      <td>9.0</td>\n",
       "      <td>12.0</td>\n",
       "      <td>9.0</td>\n",
       "      <td>12.0</td>\n",
       "      <td>290.0</td>\n",
       "      <td>220.0</td>\n",
       "      <td>...</td>\n",
       "      <td>21.4</td>\n",
       "      <td>45768.0</td>\n",
       "      <td>40693.0</td>\n",
       "      <td>50843.0</td>\n",
       "      <td>NaN</td>\n",
       "      <td>NaN</td>\n",
       "      <td>NaN</td>\n",
       "      <td>NaN</td>\n",
       "      <td>NaN</td>\n",
       "      <td>NaN</td>\n",
       "    </tr>\n",
       "    <tr>\n",
       "      <th>3185</th>\n",
       "      <td>3188</td>\n",
       "      <td>56029</td>\n",
       "      <td>WY</td>\n",
       "      <td>Park County</td>\n",
       "      <td>7.0</td>\n",
       "      <td>11.0</td>\n",
       "      <td>7.0</td>\n",
       "      <td>11.0</td>\n",
       "      <td>2694.0</td>\n",
       "      <td>2058.0</td>\n",
       "      <td>...</td>\n",
       "      <td>14.8</td>\n",
       "      <td>57619.0</td>\n",
       "      <td>53936.0</td>\n",
       "      <td>61302.0</td>\n",
       "      <td>NaN</td>\n",
       "      <td>NaN</td>\n",
       "      <td>NaN</td>\n",
       "      <td>NaN</td>\n",
       "      <td>NaN</td>\n",
       "      <td>NaN</td>\n",
       "    </tr>\n",
       "    <tr>\n",
       "      <th>3186</th>\n",
       "      <td>3189</td>\n",
       "      <td>56031</td>\n",
       "      <td>WY</td>\n",
       "      <td>Platte County</td>\n",
       "      <td>7.0</td>\n",
       "      <td>11.0</td>\n",
       "      <td>7.0</td>\n",
       "      <td>11.0</td>\n",
       "      <td>881.0</td>\n",
       "      <td>656.0</td>\n",
       "      <td>...</td>\n",
       "      <td>17.6</td>\n",
       "      <td>50775.0</td>\n",
       "      <td>45455.0</td>\n",
       "      <td>56095.0</td>\n",
       "      <td>NaN</td>\n",
       "      <td>NaN</td>\n",
       "      <td>NaN</td>\n",
       "      <td>NaN</td>\n",
       "      <td>NaN</td>\n",
       "      <td>NaN</td>\n",
       "    </tr>\n",
       "    <tr>\n",
       "      <th>3187</th>\n",
       "      <td>3190</td>\n",
       "      <td>56033</td>\n",
       "      <td>WY</td>\n",
       "      <td>Sheridan County</td>\n",
       "      <td>7.0</td>\n",
       "      <td>8.0</td>\n",
       "      <td>7.0</td>\n",
       "      <td>8.0</td>\n",
       "      <td>2673.0</td>\n",
       "      <td>2092.0</td>\n",
       "      <td>...</td>\n",
       "      <td>13.4</td>\n",
       "      <td>54482.0</td>\n",
       "      <td>49315.0</td>\n",
       "      <td>59649.0</td>\n",
       "      <td>NaN</td>\n",
       "      <td>NaN</td>\n",
       "      <td>NaN</td>\n",
       "      <td>NaN</td>\n",
       "      <td>NaN</td>\n",
       "      <td>NaN</td>\n",
       "    </tr>\n",
       "    <tr>\n",
       "      <th>3188</th>\n",
       "      <td>3191</td>\n",
       "      <td>56035</td>\n",
       "      <td>WY</td>\n",
       "      <td>Sublette County</td>\n",
       "      <td>9.0</td>\n",
       "      <td>10.0</td>\n",
       "      <td>9.0</td>\n",
       "      <td>10.0</td>\n",
       "      <td>643.0</td>\n",
       "      <td>487.0</td>\n",
       "      <td>...</td>\n",
       "      <td>9.3</td>\n",
       "      <td>74811.0</td>\n",
       "      <td>67379.0</td>\n",
       "      <td>82243.0</td>\n",
       "      <td>NaN</td>\n",
       "      <td>NaN</td>\n",
       "      <td>NaN</td>\n",
       "      <td>NaN</td>\n",
       "      <td>NaN</td>\n",
       "      <td>NaN</td>\n",
       "    </tr>\n",
       "    <tr>\n",
       "      <th>3189</th>\n",
       "      <td>3192</td>\n",
       "      <td>56037</td>\n",
       "      <td>WY</td>\n",
       "      <td>Sweetwater County</td>\n",
       "      <td>5.0</td>\n",
       "      <td>8.0</td>\n",
       "      <td>5.0</td>\n",
       "      <td>8.0</td>\n",
       "      <td>4253.0</td>\n",
       "      <td>3540.0</td>\n",
       "      <td>...</td>\n",
       "      <td>14.0</td>\n",
       "      <td>75590.0</td>\n",
       "      <td>69190.0</td>\n",
       "      <td>81990.0</td>\n",
       "      <td>NaN</td>\n",
       "      <td>NaN</td>\n",
       "      <td>NaN</td>\n",
       "      <td>NaN</td>\n",
       "      <td>NaN</td>\n",
       "      <td>NaN</td>\n",
       "    </tr>\n",
       "    <tr>\n",
       "      <th>3190</th>\n",
       "      <td>3193</td>\n",
       "      <td>56039</td>\n",
       "      <td>WY</td>\n",
       "      <td>Teton County</td>\n",
       "      <td>7.0</td>\n",
       "      <td>8.0</td>\n",
       "      <td>7.0</td>\n",
       "      <td>8.0</td>\n",
       "      <td>1348.0</td>\n",
       "      <td>1021.0</td>\n",
       "      <td>...</td>\n",
       "      <td>7.9</td>\n",
       "      <td>90145.0</td>\n",
       "      <td>80434.0</td>\n",
       "      <td>99856.0</td>\n",
       "      <td>NaN</td>\n",
       "      <td>NaN</td>\n",
       "      <td>NaN</td>\n",
       "      <td>NaN</td>\n",
       "      <td>NaN</td>\n",
       "      <td>NaN</td>\n",
       "    </tr>\n",
       "    <tr>\n",
       "      <th>3191</th>\n",
       "      <td>3194</td>\n",
       "      <td>56041</td>\n",
       "      <td>WY</td>\n",
       "      <td>Uinta County</td>\n",
       "      <td>7.0</td>\n",
       "      <td>8.0</td>\n",
       "      <td>7.0</td>\n",
       "      <td>8.0</td>\n",
       "      <td>2067.0</td>\n",
       "      <td>1623.0</td>\n",
       "      <td>...</td>\n",
       "      <td>13.4</td>\n",
       "      <td>67404.0</td>\n",
       "      <td>60925.0</td>\n",
       "      <td>73883.0</td>\n",
       "      <td>NaN</td>\n",
       "      <td>NaN</td>\n",
       "      <td>NaN</td>\n",
       "      <td>NaN</td>\n",
       "      <td>NaN</td>\n",
       "      <td>NaN</td>\n",
       "    </tr>\n",
       "    <tr>\n",
       "      <th>3192</th>\n",
       "      <td>3195</td>\n",
       "      <td>56043</td>\n",
       "      <td>WY</td>\n",
       "      <td>Washakie County</td>\n",
       "      <td>7.0</td>\n",
       "      <td>11.0</td>\n",
       "      <td>7.0</td>\n",
       "      <td>11.0</td>\n",
       "      <td>845.0</td>\n",
       "      <td>632.0</td>\n",
       "      <td>...</td>\n",
       "      <td>17.3</td>\n",
       "      <td>57989.0</td>\n",
       "      <td>53142.0</td>\n",
       "      <td>62836.0</td>\n",
       "      <td>NaN</td>\n",
       "      <td>NaN</td>\n",
       "      <td>NaN</td>\n",
       "      <td>NaN</td>\n",
       "      <td>NaN</td>\n",
       "      <td>NaN</td>\n",
       "    </tr>\n",
       "    <tr>\n",
       "      <th>3193</th>\n",
       "      <td>3196</td>\n",
       "      <td>56045</td>\n",
       "      <td>WY</td>\n",
       "      <td>Weston County</td>\n",
       "      <td>7.0</td>\n",
       "      <td>9.0</td>\n",
       "      <td>7.0</td>\n",
       "      <td>9.0</td>\n",
       "      <td>699.0</td>\n",
       "      <td>541.0</td>\n",
       "      <td>...</td>\n",
       "      <td>16.6</td>\n",
       "      <td>56214.0</td>\n",
       "      <td>50250.0</td>\n",
       "      <td>62178.0</td>\n",
       "      <td>NaN</td>\n",
       "      <td>NaN</td>\n",
       "      <td>NaN</td>\n",
       "      <td>NaN</td>\n",
       "      <td>NaN</td>\n",
       "      <td>NaN</td>\n",
       "    </tr>\n",
       "  </tbody>\n",
       "</table>\n",
       "<p>3194 rows × 35 columns</p>\n",
       "</div>"
      ],
      "text/plain": [
       "         2  FIPStxt State           Area_Name  \\\n",
       "0        3        0    US       United States   \n",
       "1        4     1000    AL             Alabama   \n",
       "2        5     1001    AL      Autauga County   \n",
       "3        6     1003    AL      Baldwin County   \n",
       "4        7     1005    AL      Barbour County   \n",
       "5        8     1007    AL         Bibb County   \n",
       "6        9     1009    AL       Blount County   \n",
       "7       10     1011    AL      Bullock County   \n",
       "8       11     1013    AL       Butler County   \n",
       "9       12     1015    AL      Calhoun County   \n",
       "10      13     1017    AL     Chambers County   \n",
       "11      14     1019    AL     Cherokee County   \n",
       "12      15     1021    AL      Chilton County   \n",
       "13      16     1023    AL      Choctaw County   \n",
       "14      17     1025    AL       Clarke County   \n",
       "15      18     1027    AL         Clay County   \n",
       "16      19     1029    AL     Cleburne County   \n",
       "17      20     1031    AL       Coffee County   \n",
       "18      21     1033    AL      Colbert County   \n",
       "19      22     1035    AL      Conecuh County   \n",
       "20      23     1037    AL        Coosa County   \n",
       "21      24     1039    AL    Covington County   \n",
       "22      25     1041    AL     Crenshaw County   \n",
       "23      26     1043    AL      Cullman County   \n",
       "24      27     1045    AL         Dale County   \n",
       "25      28     1047    AL       Dallas County   \n",
       "26      29     1049    AL       DeKalb County   \n",
       "27      30     1051    AL       Elmore County   \n",
       "28      31     1053    AL     Escambia County   \n",
       "29      32     1055    AL       Etowah County   \n",
       "...    ...      ...   ...                 ...   \n",
       "3164  3167    55131    WI   Washington County   \n",
       "3165  3168    55133    WI     Waukesha County   \n",
       "3166  3169    55135    WI      Waupaca County   \n",
       "3167  3170    55137    WI     Waushara County   \n",
       "3168  3171    55139    WI    Winnebago County   \n",
       "3169  3172    55141    WI         Wood County   \n",
       "3170  3173    56000    WY             Wyoming   \n",
       "3171  3174    56001    WY       Albany County   \n",
       "3172  3175    56003    WY     Big Horn County   \n",
       "3173  3176    56005    WY     Campbell County   \n",
       "3174  3177    56007    WY       Carbon County   \n",
       "3175  3178    56009    WY     Converse County   \n",
       "3176  3179    56011    WY        Crook County   \n",
       "3177  3180    56013    WY      Fremont County   \n",
       "3178  3181    56015    WY       Goshen County   \n",
       "3179  3182    56017    WY  Hot Springs County   \n",
       "3180  3183    56019    WY      Johnson County   \n",
       "3181  3184    56021    WY      Laramie County   \n",
       "3182  3185    56023    WY      Lincoln County   \n",
       "3183  3186    56025    WY      Natrona County   \n",
       "3184  3187    56027    WY     Niobrara County   \n",
       "3185  3188    56029    WY         Park County   \n",
       "3186  3189    56031    WY       Platte County   \n",
       "3187  3190    56033    WY     Sheridan County   \n",
       "3188  3191    56035    WY     Sublette County   \n",
       "3189  3192    56037    WY   Sweetwater County   \n",
       "3190  3193    56039    WY        Teton County   \n",
       "3191  3194    56041    WY        Uinta County   \n",
       "3192  3195    56043    WY     Washakie County   \n",
       "3193  3196    56045    WY       Weston County   \n",
       "\n",
       "      Rural-urban_Continuum_Code_2003  Urban_Influence_Code_2003  \\\n",
       "0                                 NaN                        NaN   \n",
       "1                                 NaN                        NaN   \n",
       "2                                 2.0                        2.0   \n",
       "3                                 4.0                        5.0   \n",
       "4                                 6.0                        6.0   \n",
       "5                                 1.0                        1.0   \n",
       "6                                 1.0                        1.0   \n",
       "7                                 6.0                        6.0   \n",
       "8                                 6.0                        6.0   \n",
       "9                                 3.0                        2.0   \n",
       "10                                6.0                        5.0   \n",
       "11                                8.0                        6.0   \n",
       "12                                1.0                        1.0   \n",
       "13                                9.0                       10.0   \n",
       "14                                7.0                       11.0   \n",
       "15                                9.0                       10.0   \n",
       "16                                8.0                        4.0   \n",
       "17                                6.0                        5.0   \n",
       "18                                3.0                        2.0   \n",
       "19                                9.0                       11.0   \n",
       "20                                8.0                        7.0   \n",
       "21                                7.0                        9.0   \n",
       "22                                8.0                        6.0   \n",
       "23                                6.0                        3.0   \n",
       "24                                4.0                        5.0   \n",
       "25                                4.0                        5.0   \n",
       "26                                6.0                        6.0   \n",
       "27                                2.0                        2.0   \n",
       "28                                6.0                        6.0   \n",
       "29                                3.0                        2.0   \n",
       "...                               ...                        ...   \n",
       "3164                              1.0                        1.0   \n",
       "3165                              1.0                        1.0   \n",
       "3166                              6.0                        6.0   \n",
       "3167                              8.0                        6.0   \n",
       "3168                              3.0                        2.0   \n",
       "3169                              4.0                        5.0   \n",
       "3170                              NaN                        NaN   \n",
       "3171                              4.0                        5.0   \n",
       "3172                              9.0                       12.0   \n",
       "3173                              5.0                        8.0   \n",
       "3174                              7.0                        9.0   \n",
       "3175                              6.0                        6.0   \n",
       "3176                              9.0                       10.0   \n",
       "3177                              7.0                        8.0   \n",
       "3178                              7.0                        9.0   \n",
       "3179                              7.0                        9.0   \n",
       "3180                              7.0                        9.0   \n",
       "3181                              3.0                        2.0   \n",
       "3182                              7.0                        9.0   \n",
       "3183                              3.0                        2.0   \n",
       "3184                              9.0                       12.0   \n",
       "3185                              7.0                       11.0   \n",
       "3186                              7.0                       11.0   \n",
       "3187                              7.0                        8.0   \n",
       "3188                              9.0                       10.0   \n",
       "3189                              5.0                        8.0   \n",
       "3190                              7.0                        8.0   \n",
       "3191                              7.0                        8.0   \n",
       "3192                              7.0                       11.0   \n",
       "3193                              7.0                        9.0   \n",
       "\n",
       "      Rural-urban_Continuum_Code_2013  Urban_Influence_Code_2013  POVALL_2017  \\\n",
       "0                                 NaN                        NaN   42583651.0   \n",
       "1                                 NaN                        NaN     802263.0   \n",
       "2                                 2.0                        2.0       7390.0   \n",
       "3                                 3.0                        2.0      21199.0   \n",
       "4                                 6.0                        6.0       7414.0   \n",
       "5                                 1.0                        1.0       4137.0   \n",
       "6                                 1.0                        1.0       7343.0   \n",
       "7                                 6.0                        6.0       2956.0   \n",
       "8                                 6.0                        6.0       4154.0   \n",
       "9                                 3.0                        2.0      19832.0   \n",
       "10                                6.0                        5.0       6036.0   \n",
       "11                                6.0                        6.0       4381.0   \n",
       "12                                1.0                        1.0       7303.0   \n",
       "13                                9.0                       10.0       3031.0   \n",
       "14                                7.0                       11.0       5541.0   \n",
       "15                                9.0                       10.0       2363.0   \n",
       "16                                8.0                        4.0       2365.0   \n",
       "17                                4.0                        5.0       7954.0   \n",
       "18                                3.0                        2.0       8324.0   \n",
       "19                                7.0                       11.0       2939.0   \n",
       "20                                8.0                        3.0       1823.0   \n",
       "21                                6.0                        6.0       6447.0   \n",
       "22                                8.0                        6.0       2722.0   \n",
       "23                                4.0                        3.0      11256.0   \n",
       "24                                4.0                        5.0       8528.0   \n",
       "25                                4.0                        5.0      10796.0   \n",
       "26                                6.0                        6.0      13785.0   \n",
       "27                                2.0                        2.0       9151.0   \n",
       "28                                6.0                        6.0       7971.0   \n",
       "29                                3.0                        2.0      18257.0   \n",
       "...                               ...                        ...          ...   \n",
       "3164                              1.0                        1.0       7124.0   \n",
       "3165                              1.0                        1.0      19090.0   \n",
       "3166                              6.0                        6.0       5269.0   \n",
       "3167                              6.0                        6.0       2819.0   \n",
       "3168                              3.0                        2.0      18076.0   \n",
       "3169                              4.0                        5.0       7704.0   \n",
       "3170                              NaN                        NaN      61319.0   \n",
       "3171                              4.0                        5.0       7075.0   \n",
       "3172                              9.0                       12.0       1433.0   \n",
       "3173                              5.0                        8.0       4271.0   \n",
       "3174                              7.0                        9.0       1723.0   \n",
       "3175                              6.0                        6.0       1260.0   \n",
       "3176                              9.0                       10.0        565.0   \n",
       "3177                              7.0                        8.0       6291.0   \n",
       "3178                              7.0                        9.0       1572.0   \n",
       "3179                              7.0                        9.0        556.0   \n",
       "3180                              7.0                        9.0        792.0   \n",
       "3181                              3.0                        2.0       9294.0   \n",
       "3182                              7.0                        9.0       1464.0   \n",
       "3183                              3.0                        2.0       8631.0   \n",
       "3184                              9.0                       12.0        290.0   \n",
       "3185                              7.0                       11.0       2694.0   \n",
       "3186                              7.0                       11.0        881.0   \n",
       "3187                              7.0                        8.0       2673.0   \n",
       "3188                              9.0                       10.0        643.0   \n",
       "3189                              5.0                        8.0       4253.0   \n",
       "3190                              7.0                        8.0       1348.0   \n",
       "3191                              7.0                        8.0       2067.0   \n",
       "3192                              7.0                       11.0        845.0   \n",
       "3193                              7.0                        9.0        699.0   \n",
       "\n",
       "      CI90LBAll_2017  ...  CI90UB517P_2017  MEDHHINC_2017  CI90LBINC_2017  \\\n",
       "0         42342619.0  ...             17.5        60336.0         60250.0   \n",
       "1           784517.0  ...             23.8        48193.0         47451.0   \n",
       "2             6147.0  ...             22.1        58343.0         52121.0   \n",
       "3            17444.0  ...             17.9        56607.0         52439.0   \n",
       "4             6325.0  ...             55.0        32490.0         29218.0   \n",
       "5             3187.0  ...             33.8        45795.0         40924.0   \n",
       "6             5805.0  ...             22.3        48253.0         43784.0   \n",
       "7             2316.0  ...             60.4        29113.0         25929.0   \n",
       "8             3155.0  ...             40.6        36842.0         33405.0   \n",
       "9            16938.0  ...             27.5        45937.0         43419.0   \n",
       "10            4653.0  ...             38.5        36883.0         33288.0   \n",
       "11            3453.0  ...             29.5        44842.0         40581.0   \n",
       "12            5921.0  ...             27.3        46405.0         41678.0   \n",
       "13            2436.0  ...             41.9        36711.0         32917.0   \n",
       "14            4561.0  ...             39.8        36719.0         32871.0   \n",
       "15            1876.0  ...             30.5        39642.0         35350.0   \n",
       "16            1871.0  ...             26.6        45480.0         40661.0   \n",
       "17            6754.0  ...             26.3        51998.0         48378.0   \n",
       "18            6720.0  ...             27.6        46100.0         42010.0   \n",
       "19            2146.0  ...             53.1        30796.0         27534.0   \n",
       "20            1374.0  ...             33.7        42442.0         38888.0   \n",
       "21            5153.0  ...             32.2        39093.0         35979.0   \n",
       "22            2091.0  ...             33.3        38419.0         34662.0   \n",
       "23            9196.0  ...             23.1        45925.0         41985.0   \n",
       "24            7097.0  ...             30.1        42572.0         38719.0   \n",
       "25            8516.0  ...             50.4        31329.0         28590.0   \n",
       "26           11467.0  ...             32.1        39906.0         36346.0   \n",
       "27            7348.0  ...             20.3        59652.0         55049.0   \n",
       "28            6481.0  ...             38.6        37870.0         34989.0   \n",
       "29           15600.0  ...             32.1        41791.0         38946.0   \n",
       "...              ...  ...              ...            ...             ...   \n",
       "3164          5828.0  ...              6.1        76551.0         72503.0   \n",
       "3165         16633.0  ...              5.5        82627.0         80538.0   \n",
       "3166          4416.0  ...             17.3        58474.0         55173.0   \n",
       "3167          2268.0  ...             23.4        47653.0         44003.0   \n",
       "3168         15757.0  ...             13.8        57529.0         54561.0   \n",
       "3169          6435.0  ...             15.3        53346.0         49457.0   \n",
       "3170         57678.0  ...             13.0        61279.0         59760.0   \n",
       "3171          6304.0  ...             15.2        44745.0         40199.0   \n",
       "3172          1106.0  ...             17.9        50380.0         45321.0   \n",
       "3173          3533.0  ...             12.5        78240.0         71939.0   \n",
       "3174          1356.0  ...             16.9        60634.0         55170.0   \n",
       "3175           956.0  ...             14.2        65469.0         58748.0   \n",
       "3176           429.0  ...             13.5        61664.0         54882.0   \n",
       "3177          5235.0  ...             25.2        50134.0         45841.0   \n",
       "3178          1189.0  ...             18.7        51023.0         46305.0   \n",
       "3179           422.0  ...             21.3        47775.0         42792.0   \n",
       "3180           617.0  ...             13.9        55412.0         50066.0   \n",
       "3181          7767.0  ...             13.5        61658.0         57377.0   \n",
       "3182          1137.0  ...             10.7        65137.0         58611.0   \n",
       "3183          7133.0  ...             15.2        61049.0         57867.0   \n",
       "3184           220.0  ...             21.4        45768.0         40693.0   \n",
       "3185          2058.0  ...             14.8        57619.0         53936.0   \n",
       "3186           656.0  ...             17.6        50775.0         45455.0   \n",
       "3187          2092.0  ...             13.4        54482.0         49315.0   \n",
       "3188           487.0  ...              9.3        74811.0         67379.0   \n",
       "3189          3540.0  ...             14.0        75590.0         69190.0   \n",
       "3190          1021.0  ...              7.9        90145.0         80434.0   \n",
       "3191          1623.0  ...             13.4        67404.0         60925.0   \n",
       "3192           632.0  ...             17.3        57989.0         53142.0   \n",
       "3193           541.0  ...             16.6        56214.0         50250.0   \n",
       "\n",
       "      CI90UBINC_2017  POV04_2017  CI90LB04_2017  CI90UB04_2017  PCTPOV04_2017  \\\n",
       "0            60422.0   3932969.0      3880645.0      3985293.0           20.2   \n",
       "1            48935.0     78986.0        75009.0        82963.0           27.7   \n",
       "2            64565.0         NaN            NaN            NaN            NaN   \n",
       "3            60775.0         NaN            NaN            NaN            NaN   \n",
       "4            35762.0         NaN            NaN            NaN            NaN   \n",
       "5            50666.0         NaN            NaN            NaN            NaN   \n",
       "6            52722.0         NaN            NaN            NaN            NaN   \n",
       "7            32297.0         NaN            NaN            NaN            NaN   \n",
       "8            40279.0         NaN            NaN            NaN            NaN   \n",
       "9            48455.0         NaN            NaN            NaN            NaN   \n",
       "10           40478.0         NaN            NaN            NaN            NaN   \n",
       "11           49103.0         NaN            NaN            NaN            NaN   \n",
       "12           51132.0         NaN            NaN            NaN            NaN   \n",
       "13           40505.0         NaN            NaN            NaN            NaN   \n",
       "14           40567.0         NaN            NaN            NaN            NaN   \n",
       "15           43934.0         NaN            NaN            NaN            NaN   \n",
       "16           50299.0         NaN            NaN            NaN            NaN   \n",
       "17           55618.0         NaN            NaN            NaN            NaN   \n",
       "18           50190.0         NaN            NaN            NaN            NaN   \n",
       "19           34058.0         NaN            NaN            NaN            NaN   \n",
       "20           45996.0         NaN            NaN            NaN            NaN   \n",
       "21           42207.0         NaN            NaN            NaN            NaN   \n",
       "22           42176.0         NaN            NaN            NaN            NaN   \n",
       "23           49865.0         NaN            NaN            NaN            NaN   \n",
       "24           46425.0         NaN            NaN            NaN            NaN   \n",
       "25           34068.0         NaN            NaN            NaN            NaN   \n",
       "26           43466.0         NaN            NaN            NaN            NaN   \n",
       "27           64255.0         NaN            NaN            NaN            NaN   \n",
       "28           40751.0         NaN            NaN            NaN            NaN   \n",
       "29           44636.0         NaN            NaN            NaN            NaN   \n",
       "...              ...         ...            ...            ...            ...   \n",
       "3164         80599.0         NaN            NaN            NaN            NaN   \n",
       "3165         84716.0         NaN            NaN            NaN            NaN   \n",
       "3166         61775.0         NaN            NaN            NaN            NaN   \n",
       "3167         51303.0         NaN            NaN            NaN            NaN   \n",
       "3168         60497.0         NaN            NaN            NaN            NaN   \n",
       "3169         57235.0         NaN            NaN            NaN            NaN   \n",
       "3170         62798.0      5392.0         4568.0         6216.0           15.0   \n",
       "3171         49291.0         NaN            NaN            NaN            NaN   \n",
       "3172         55439.0         NaN            NaN            NaN            NaN   \n",
       "3173         84541.0         NaN            NaN            NaN            NaN   \n",
       "3174         66098.0         NaN            NaN            NaN            NaN   \n",
       "3175         72190.0         NaN            NaN            NaN            NaN   \n",
       "3176         68446.0         NaN            NaN            NaN            NaN   \n",
       "3177         54427.0         NaN            NaN            NaN            NaN   \n",
       "3178         55741.0         NaN            NaN            NaN            NaN   \n",
       "3179         52758.0         NaN            NaN            NaN            NaN   \n",
       "3180         60758.0         NaN            NaN            NaN            NaN   \n",
       "3181         65939.0         NaN            NaN            NaN            NaN   \n",
       "3182         71663.0         NaN            NaN            NaN            NaN   \n",
       "3183         64231.0         NaN            NaN            NaN            NaN   \n",
       "3184         50843.0         NaN            NaN            NaN            NaN   \n",
       "3185         61302.0         NaN            NaN            NaN            NaN   \n",
       "3186         56095.0         NaN            NaN            NaN            NaN   \n",
       "3187         59649.0         NaN            NaN            NaN            NaN   \n",
       "3188         82243.0         NaN            NaN            NaN            NaN   \n",
       "3189         81990.0         NaN            NaN            NaN            NaN   \n",
       "3190         99856.0         NaN            NaN            NaN            NaN   \n",
       "3191         73883.0         NaN            NaN            NaN            NaN   \n",
       "3192         62836.0         NaN            NaN            NaN            NaN   \n",
       "3193         62178.0         NaN            NaN            NaN            NaN   \n",
       "\n",
       "      CI90LB04P_2017  CI90UB04P_2017  \n",
       "0               19.9            20.5  \n",
       "1               26.3            29.1  \n",
       "2                NaN             NaN  \n",
       "3                NaN             NaN  \n",
       "4                NaN             NaN  \n",
       "5                NaN             NaN  \n",
       "6                NaN             NaN  \n",
       "7                NaN             NaN  \n",
       "8                NaN             NaN  \n",
       "9                NaN             NaN  \n",
       "10               NaN             NaN  \n",
       "11               NaN             NaN  \n",
       "12               NaN             NaN  \n",
       "13               NaN             NaN  \n",
       "14               NaN             NaN  \n",
       "15               NaN             NaN  \n",
       "16               NaN             NaN  \n",
       "17               NaN             NaN  \n",
       "18               NaN             NaN  \n",
       "19               NaN             NaN  \n",
       "20               NaN             NaN  \n",
       "21               NaN             NaN  \n",
       "22               NaN             NaN  \n",
       "23               NaN             NaN  \n",
       "24               NaN             NaN  \n",
       "25               NaN             NaN  \n",
       "26               NaN             NaN  \n",
       "27               NaN             NaN  \n",
       "28               NaN             NaN  \n",
       "29               NaN             NaN  \n",
       "...              ...             ...  \n",
       "3164             NaN             NaN  \n",
       "3165             NaN             NaN  \n",
       "3166             NaN             NaN  \n",
       "3167             NaN             NaN  \n",
       "3168             NaN             NaN  \n",
       "3169             NaN             NaN  \n",
       "3170            12.7            17.3  \n",
       "3171             NaN             NaN  \n",
       "3172             NaN             NaN  \n",
       "3173             NaN             NaN  \n",
       "3174             NaN             NaN  \n",
       "3175             NaN             NaN  \n",
       "3176             NaN             NaN  \n",
       "3177             NaN             NaN  \n",
       "3178             NaN             NaN  \n",
       "3179             NaN             NaN  \n",
       "3180             NaN             NaN  \n",
       "3181             NaN             NaN  \n",
       "3182             NaN             NaN  \n",
       "3183             NaN             NaN  \n",
       "3184             NaN             NaN  \n",
       "3185             NaN             NaN  \n",
       "3186             NaN             NaN  \n",
       "3187             NaN             NaN  \n",
       "3188             NaN             NaN  \n",
       "3189             NaN             NaN  \n",
       "3190             NaN             NaN  \n",
       "3191             NaN             NaN  \n",
       "3192             NaN             NaN  \n",
       "3193             NaN             NaN  \n",
       "\n",
       "[3194 rows x 35 columns]"
      ]
     },
     "execution_count": 28,
     "metadata": {},
     "output_type": "execute_result"
    }
   ],
   "source": [
    "poverty_data"
   ]
  },
  {
   "cell_type": "code",
   "execution_count": 30,
   "metadata": {},
   "outputs": [
    {
     "data": {
      "text/html": [
       "<div>\n",
       "<style scoped>\n",
       "    .dataframe tbody tr th:only-of-type {\n",
       "        vertical-align: middle;\n",
       "    }\n",
       "\n",
       "    .dataframe tbody tr th {\n",
       "        vertical-align: top;\n",
       "    }\n",
       "\n",
       "    .dataframe thead th {\n",
       "        text-align: right;\n",
       "    }\n",
       "</style>\n",
       "<table border=\"1\" class=\"dataframe\">\n",
       "  <thead>\n",
       "    <tr style=\"text-align: right;\">\n",
       "      <th></th>\n",
       "      <th>2</th>\n",
       "      <th>FIPStxt</th>\n",
       "      <th>State</th>\n",
       "      <th>Area_Name</th>\n",
       "      <th>Rural-urban_Continuum_Code_2003</th>\n",
       "      <th>Urban_Influence_Code_2003</th>\n",
       "      <th>Rural-urban_Continuum_Code_2013</th>\n",
       "      <th>Urban_Influence_Code_2013</th>\n",
       "      <th>POVALL_2017</th>\n",
       "      <th>CI90LBAll_2017</th>\n",
       "      <th>...</th>\n",
       "      <th>CI90UB517P_2017</th>\n",
       "      <th>MEDHHINC_2017</th>\n",
       "      <th>CI90LBINC_2017</th>\n",
       "      <th>CI90UBINC_2017</th>\n",
       "      <th>POV04_2017</th>\n",
       "      <th>CI90LB04_2017</th>\n",
       "      <th>CI90UB04_2017</th>\n",
       "      <th>PCTPOV04_2017</th>\n",
       "      <th>CI90LB04P_2017</th>\n",
       "      <th>CI90UB04P_2017</th>\n",
       "    </tr>\n",
       "  </thead>\n",
       "  <tbody>\n",
       "    <tr>\n",
       "      <th>191</th>\n",
       "      <td>194</td>\n",
       "      <td>6000</td>\n",
       "      <td>CA</td>\n",
       "      <td>California</td>\n",
       "      <td>NaN</td>\n",
       "      <td>NaN</td>\n",
       "      <td>NaN</td>\n",
       "      <td>NaN</td>\n",
       "      <td>5164169.0</td>\n",
       "      <td>5111205.0</td>\n",
       "      <td>...</td>\n",
       "      <td>17.8</td>\n",
       "      <td>71785.0</td>\n",
       "      <td>71492.0</td>\n",
       "      <td>72078.0</td>\n",
       "      <td>453522.0</td>\n",
       "      <td>440023.0</td>\n",
       "      <td>467021.0</td>\n",
       "      <td>18.8</td>\n",
       "      <td>18.2</td>\n",
       "      <td>19.4</td>\n",
       "    </tr>\n",
       "    <tr>\n",
       "      <th>192</th>\n",
       "      <td>195</td>\n",
       "      <td>6001</td>\n",
       "      <td>CA</td>\n",
       "      <td>Alameda County</td>\n",
       "      <td>1.0</td>\n",
       "      <td>1.0</td>\n",
       "      <td>1.0</td>\n",
       "      <td>1.0</td>\n",
       "      <td>152087.0</td>\n",
       "      <td>142181.0</td>\n",
       "      <td>...</td>\n",
       "      <td>11.5</td>\n",
       "      <td>95550.0</td>\n",
       "      <td>93504.0</td>\n",
       "      <td>97596.0</td>\n",
       "      <td>NaN</td>\n",
       "      <td>NaN</td>\n",
       "      <td>NaN</td>\n",
       "      <td>NaN</td>\n",
       "      <td>NaN</td>\n",
       "      <td>NaN</td>\n",
       "    </tr>\n",
       "    <tr>\n",
       "      <th>193</th>\n",
       "      <td>196</td>\n",
       "      <td>6003</td>\n",
       "      <td>CA</td>\n",
       "      <td>Alpine County</td>\n",
       "      <td>8.0</td>\n",
       "      <td>4.0</td>\n",
       "      <td>8.0</td>\n",
       "      <td>4.0</td>\n",
       "      <td>202.0</td>\n",
       "      <td>155.0</td>\n",
       "      <td>...</td>\n",
       "      <td>36.1</td>\n",
       "      <td>55755.0</td>\n",
       "      <td>49538.0</td>\n",
       "      <td>61972.0</td>\n",
       "      <td>NaN</td>\n",
       "      <td>NaN</td>\n",
       "      <td>NaN</td>\n",
       "      <td>NaN</td>\n",
       "      <td>NaN</td>\n",
       "      <td>NaN</td>\n",
       "    </tr>\n",
       "    <tr>\n",
       "      <th>194</th>\n",
       "      <td>197</td>\n",
       "      <td>6005</td>\n",
       "      <td>CA</td>\n",
       "      <td>Amador County</td>\n",
       "      <td>6.0</td>\n",
       "      <td>4.0</td>\n",
       "      <td>6.0</td>\n",
       "      <td>4.0</td>\n",
       "      <td>3762.0</td>\n",
       "      <td>2896.0</td>\n",
       "      <td>...</td>\n",
       "      <td>19.2</td>\n",
       "      <td>60588.0</td>\n",
       "      <td>55422.0</td>\n",
       "      <td>65754.0</td>\n",
       "      <td>NaN</td>\n",
       "      <td>NaN</td>\n",
       "      <td>NaN</td>\n",
       "      <td>NaN</td>\n",
       "      <td>NaN</td>\n",
       "      <td>NaN</td>\n",
       "    </tr>\n",
       "    <tr>\n",
       "      <th>195</th>\n",
       "      <td>198</td>\n",
       "      <td>6007</td>\n",
       "      <td>CA</td>\n",
       "      <td>Butte County</td>\n",
       "      <td>3.0</td>\n",
       "      <td>2.0</td>\n",
       "      <td>3.0</td>\n",
       "      <td>2.0</td>\n",
       "      <td>40728.0</td>\n",
       "      <td>36647.0</td>\n",
       "      <td>...</td>\n",
       "      <td>25.5</td>\n",
       "      <td>48634.0</td>\n",
       "      <td>45973.0</td>\n",
       "      <td>51295.0</td>\n",
       "      <td>NaN</td>\n",
       "      <td>NaN</td>\n",
       "      <td>NaN</td>\n",
       "      <td>NaN</td>\n",
       "      <td>NaN</td>\n",
       "      <td>NaN</td>\n",
       "    </tr>\n",
       "    <tr>\n",
       "      <th>196</th>\n",
       "      <td>199</td>\n",
       "      <td>6009</td>\n",
       "      <td>CA</td>\n",
       "      <td>Calaveras County</td>\n",
       "      <td>6.0</td>\n",
       "      <td>6.0</td>\n",
       "      <td>6.0</td>\n",
       "      <td>6.0</td>\n",
       "      <td>5904.0</td>\n",
       "      <td>4780.0</td>\n",
       "      <td>...</td>\n",
       "      <td>25.1</td>\n",
       "      <td>58536.0</td>\n",
       "      <td>53252.0</td>\n",
       "      <td>63820.0</td>\n",
       "      <td>NaN</td>\n",
       "      <td>NaN</td>\n",
       "      <td>NaN</td>\n",
       "      <td>NaN</td>\n",
       "      <td>NaN</td>\n",
       "      <td>NaN</td>\n",
       "    </tr>\n",
       "    <tr>\n",
       "      <th>197</th>\n",
       "      <td>200</td>\n",
       "      <td>6011</td>\n",
       "      <td>CA</td>\n",
       "      <td>Colusa County</td>\n",
       "      <td>6.0</td>\n",
       "      <td>4.0</td>\n",
       "      <td>6.0</td>\n",
       "      <td>4.0</td>\n",
       "      <td>2633.0</td>\n",
       "      <td>2157.0</td>\n",
       "      <td>...</td>\n",
       "      <td>18.1</td>\n",
       "      <td>53595.0</td>\n",
       "      <td>47946.0</td>\n",
       "      <td>59244.0</td>\n",
       "      <td>NaN</td>\n",
       "      <td>NaN</td>\n",
       "      <td>NaN</td>\n",
       "      <td>NaN</td>\n",
       "      <td>NaN</td>\n",
       "      <td>NaN</td>\n",
       "    </tr>\n",
       "    <tr>\n",
       "      <th>198</th>\n",
       "      <td>201</td>\n",
       "      <td>6013</td>\n",
       "      <td>CA</td>\n",
       "      <td>Contra Costa County</td>\n",
       "      <td>1.0</td>\n",
       "      <td>1.0</td>\n",
       "      <td>1.0</td>\n",
       "      <td>1.0</td>\n",
       "      <td>103883.0</td>\n",
       "      <td>94803.0</td>\n",
       "      <td>...</td>\n",
       "      <td>11.6</td>\n",
       "      <td>95062.0</td>\n",
       "      <td>92560.0</td>\n",
       "      <td>97564.0</td>\n",
       "      <td>NaN</td>\n",
       "      <td>NaN</td>\n",
       "      <td>NaN</td>\n",
       "      <td>NaN</td>\n",
       "      <td>NaN</td>\n",
       "      <td>NaN</td>\n",
       "    </tr>\n",
       "    <tr>\n",
       "      <th>199</th>\n",
       "      <td>202</td>\n",
       "      <td>6015</td>\n",
       "      <td>CA</td>\n",
       "      <td>Del Norte County</td>\n",
       "      <td>7.0</td>\n",
       "      <td>8.0</td>\n",
       "      <td>7.0</td>\n",
       "      <td>8.0</td>\n",
       "      <td>6113.0</td>\n",
       "      <td>5107.0</td>\n",
       "      <td>...</td>\n",
       "      <td>38.9</td>\n",
       "      <td>39996.0</td>\n",
       "      <td>36244.0</td>\n",
       "      <td>43748.0</td>\n",
       "      <td>NaN</td>\n",
       "      <td>NaN</td>\n",
       "      <td>NaN</td>\n",
       "      <td>NaN</td>\n",
       "      <td>NaN</td>\n",
       "      <td>NaN</td>\n",
       "    </tr>\n",
       "    <tr>\n",
       "      <th>200</th>\n",
       "      <td>203</td>\n",
       "      <td>6017</td>\n",
       "      <td>CA</td>\n",
       "      <td>El Dorado County</td>\n",
       "      <td>1.0</td>\n",
       "      <td>1.0</td>\n",
       "      <td>1.0</td>\n",
       "      <td>1.0</td>\n",
       "      <td>15620.0</td>\n",
       "      <td>12971.0</td>\n",
       "      <td>...</td>\n",
       "      <td>10.9</td>\n",
       "      <td>78464.0</td>\n",
       "      <td>73194.0</td>\n",
       "      <td>83734.0</td>\n",
       "      <td>NaN</td>\n",
       "      <td>NaN</td>\n",
       "      <td>NaN</td>\n",
       "      <td>NaN</td>\n",
       "      <td>NaN</td>\n",
       "      <td>NaN</td>\n",
       "    </tr>\n",
       "    <tr>\n",
       "      <th>201</th>\n",
       "      <td>204</td>\n",
       "      <td>6019</td>\n",
       "      <td>CA</td>\n",
       "      <td>Fresno County</td>\n",
       "      <td>2.0</td>\n",
       "      <td>2.0</td>\n",
       "      <td>2.0</td>\n",
       "      <td>2.0</td>\n",
       "      <td>205046.0</td>\n",
       "      <td>192640.0</td>\n",
       "      <td>...</td>\n",
       "      <td>29.2</td>\n",
       "      <td>51452.0</td>\n",
       "      <td>49837.0</td>\n",
       "      <td>53067.0</td>\n",
       "      <td>NaN</td>\n",
       "      <td>NaN</td>\n",
       "      <td>NaN</td>\n",
       "      <td>NaN</td>\n",
       "      <td>NaN</td>\n",
       "      <td>NaN</td>\n",
       "    </tr>\n",
       "    <tr>\n",
       "      <th>202</th>\n",
       "      <td>205</td>\n",
       "      <td>6021</td>\n",
       "      <td>CA</td>\n",
       "      <td>Glenn County</td>\n",
       "      <td>6.0</td>\n",
       "      <td>6.0</td>\n",
       "      <td>6.0</td>\n",
       "      <td>6.0</td>\n",
       "      <td>4111.0</td>\n",
       "      <td>3255.0</td>\n",
       "      <td>...</td>\n",
       "      <td>24.8</td>\n",
       "      <td>49979.0</td>\n",
       "      <td>47174.0</td>\n",
       "      <td>52784.0</td>\n",
       "      <td>NaN</td>\n",
       "      <td>NaN</td>\n",
       "      <td>NaN</td>\n",
       "      <td>NaN</td>\n",
       "      <td>NaN</td>\n",
       "      <td>NaN</td>\n",
       "    </tr>\n",
       "    <tr>\n",
       "      <th>203</th>\n",
       "      <td>206</td>\n",
       "      <td>6023</td>\n",
       "      <td>CA</td>\n",
       "      <td>Humboldt County</td>\n",
       "      <td>5.0</td>\n",
       "      <td>8.0</td>\n",
       "      <td>5.0</td>\n",
       "      <td>8.0</td>\n",
       "      <td>26262.0</td>\n",
       "      <td>22440.0</td>\n",
       "      <td>...</td>\n",
       "      <td>27.9</td>\n",
       "      <td>46123.0</td>\n",
       "      <td>42221.0</td>\n",
       "      <td>50025.0</td>\n",
       "      <td>NaN</td>\n",
       "      <td>NaN</td>\n",
       "      <td>NaN</td>\n",
       "      <td>NaN</td>\n",
       "      <td>NaN</td>\n",
       "      <td>NaN</td>\n",
       "    </tr>\n",
       "    <tr>\n",
       "      <th>204</th>\n",
       "      <td>207</td>\n",
       "      <td>6025</td>\n",
       "      <td>CA</td>\n",
       "      <td>Imperial County</td>\n",
       "      <td>3.0</td>\n",
       "      <td>2.0</td>\n",
       "      <td>3.0</td>\n",
       "      <td>2.0</td>\n",
       "      <td>35830.0</td>\n",
       "      <td>31261.0</td>\n",
       "      <td>...</td>\n",
       "      <td>32.1</td>\n",
       "      <td>43413.0</td>\n",
       "      <td>39624.0</td>\n",
       "      <td>47202.0</td>\n",
       "      <td>NaN</td>\n",
       "      <td>NaN</td>\n",
       "      <td>NaN</td>\n",
       "      <td>NaN</td>\n",
       "      <td>NaN</td>\n",
       "      <td>NaN</td>\n",
       "    </tr>\n",
       "    <tr>\n",
       "      <th>205</th>\n",
       "      <td>208</td>\n",
       "      <td>6027</td>\n",
       "      <td>CA</td>\n",
       "      <td>Inyo County</td>\n",
       "      <td>7.0</td>\n",
       "      <td>8.0</td>\n",
       "      <td>7.0</td>\n",
       "      <td>11.0</td>\n",
       "      <td>2087.0</td>\n",
       "      <td>1589.0</td>\n",
       "      <td>...</td>\n",
       "      <td>21.6</td>\n",
       "      <td>53528.0</td>\n",
       "      <td>48643.0</td>\n",
       "      <td>58413.0</td>\n",
       "      <td>NaN</td>\n",
       "      <td>NaN</td>\n",
       "      <td>NaN</td>\n",
       "      <td>NaN</td>\n",
       "      <td>NaN</td>\n",
       "      <td>NaN</td>\n",
       "    </tr>\n",
       "    <tr>\n",
       "      <th>206</th>\n",
       "      <td>209</td>\n",
       "      <td>6029</td>\n",
       "      <td>CA</td>\n",
       "      <td>Kern County</td>\n",
       "      <td>2.0</td>\n",
       "      <td>2.0</td>\n",
       "      <td>2.0</td>\n",
       "      <td>2.0</td>\n",
       "      <td>182948.0</td>\n",
       "      <td>171072.0</td>\n",
       "      <td>...</td>\n",
       "      <td>29.6</td>\n",
       "      <td>49904.0</td>\n",
       "      <td>47939.0</td>\n",
       "      <td>51869.0</td>\n",
       "      <td>NaN</td>\n",
       "      <td>NaN</td>\n",
       "      <td>NaN</td>\n",
       "      <td>NaN</td>\n",
       "      <td>NaN</td>\n",
       "      <td>NaN</td>\n",
       "    </tr>\n",
       "    <tr>\n",
       "      <th>207</th>\n",
       "      <td>210</td>\n",
       "      <td>6031</td>\n",
       "      <td>CA</td>\n",
       "      <td>Kings County</td>\n",
       "      <td>3.0</td>\n",
       "      <td>2.0</td>\n",
       "      <td>3.0</td>\n",
       "      <td>2.0</td>\n",
       "      <td>24810.0</td>\n",
       "      <td>21366.0</td>\n",
       "      <td>...</td>\n",
       "      <td>28.0</td>\n",
       "      <td>55076.0</td>\n",
       "      <td>51701.0</td>\n",
       "      <td>58451.0</td>\n",
       "      <td>NaN</td>\n",
       "      <td>NaN</td>\n",
       "      <td>NaN</td>\n",
       "      <td>NaN</td>\n",
       "      <td>NaN</td>\n",
       "      <td>NaN</td>\n",
       "    </tr>\n",
       "    <tr>\n",
       "      <th>208</th>\n",
       "      <td>211</td>\n",
       "      <td>6033</td>\n",
       "      <td>CA</td>\n",
       "      <td>Lake County</td>\n",
       "      <td>4.0</td>\n",
       "      <td>5.0</td>\n",
       "      <td>4.0</td>\n",
       "      <td>5.0</td>\n",
       "      <td>12817.0</td>\n",
       "      <td>10736.0</td>\n",
       "      <td>...</td>\n",
       "      <td>36.0</td>\n",
       "      <td>45797.0</td>\n",
       "      <td>42700.0</td>\n",
       "      <td>48894.0</td>\n",
       "      <td>NaN</td>\n",
       "      <td>NaN</td>\n",
       "      <td>NaN</td>\n",
       "      <td>NaN</td>\n",
       "      <td>NaN</td>\n",
       "      <td>NaN</td>\n",
       "    </tr>\n",
       "    <tr>\n",
       "      <th>209</th>\n",
       "      <td>212</td>\n",
       "      <td>6035</td>\n",
       "      <td>CA</td>\n",
       "      <td>Lassen County</td>\n",
       "      <td>6.0</td>\n",
       "      <td>6.0</td>\n",
       "      <td>7.0</td>\n",
       "      <td>8.0</td>\n",
       "      <td>3790.0</td>\n",
       "      <td>2934.0</td>\n",
       "      <td>...</td>\n",
       "      <td>22.0</td>\n",
       "      <td>58776.0</td>\n",
       "      <td>54289.0</td>\n",
       "      <td>63263.0</td>\n",
       "      <td>NaN</td>\n",
       "      <td>NaN</td>\n",
       "      <td>NaN</td>\n",
       "      <td>NaN</td>\n",
       "      <td>NaN</td>\n",
       "      <td>NaN</td>\n",
       "    </tr>\n",
       "    <tr>\n",
       "      <th>210</th>\n",
       "      <td>213</td>\n",
       "      <td>6037</td>\n",
       "      <td>CA</td>\n",
       "      <td>Los Angeles County</td>\n",
       "      <td>1.0</td>\n",
       "      <td>1.0</td>\n",
       "      <td>1.0</td>\n",
       "      <td>1.0</td>\n",
       "      <td>1490853.0</td>\n",
       "      <td>1454153.0</td>\n",
       "      <td>...</td>\n",
       "      <td>21.2</td>\n",
       "      <td>64912.0</td>\n",
       "      <td>64252.0</td>\n",
       "      <td>65572.0</td>\n",
       "      <td>NaN</td>\n",
       "      <td>NaN</td>\n",
       "      <td>NaN</td>\n",
       "      <td>NaN</td>\n",
       "      <td>NaN</td>\n",
       "      <td>NaN</td>\n",
       "    </tr>\n",
       "    <tr>\n",
       "      <th>211</th>\n",
       "      <td>214</td>\n",
       "      <td>6039</td>\n",
       "      <td>CA</td>\n",
       "      <td>Madera County</td>\n",
       "      <td>3.0</td>\n",
       "      <td>2.0</td>\n",
       "      <td>3.0</td>\n",
       "      <td>2.0</td>\n",
       "      <td>31569.0</td>\n",
       "      <td>27218.0</td>\n",
       "      <td>...</td>\n",
       "      <td>32.0</td>\n",
       "      <td>50783.0</td>\n",
       "      <td>47084.0</td>\n",
       "      <td>54482.0</td>\n",
       "      <td>NaN</td>\n",
       "      <td>NaN</td>\n",
       "      <td>NaN</td>\n",
       "      <td>NaN</td>\n",
       "      <td>NaN</td>\n",
       "      <td>NaN</td>\n",
       "    </tr>\n",
       "    <tr>\n",
       "      <th>212</th>\n",
       "      <td>215</td>\n",
       "      <td>6041</td>\n",
       "      <td>CA</td>\n",
       "      <td>Marin County</td>\n",
       "      <td>1.0</td>\n",
       "      <td>1.0</td>\n",
       "      <td>1.0</td>\n",
       "      <td>1.0</td>\n",
       "      <td>20222.0</td>\n",
       "      <td>17808.0</td>\n",
       "      <td>...</td>\n",
       "      <td>8.7</td>\n",
       "      <td>112735.0</td>\n",
       "      <td>107137.0</td>\n",
       "      <td>118333.0</td>\n",
       "      <td>NaN</td>\n",
       "      <td>NaN</td>\n",
       "      <td>NaN</td>\n",
       "      <td>NaN</td>\n",
       "      <td>NaN</td>\n",
       "      <td>NaN</td>\n",
       "    </tr>\n",
       "    <tr>\n",
       "      <th>213</th>\n",
       "      <td>216</td>\n",
       "      <td>6043</td>\n",
       "      <td>CA</td>\n",
       "      <td>Mariposa County</td>\n",
       "      <td>8.0</td>\n",
       "      <td>7.0</td>\n",
       "      <td>8.0</td>\n",
       "      <td>7.0</td>\n",
       "      <td>2641.0</td>\n",
       "      <td>2130.0</td>\n",
       "      <td>...</td>\n",
       "      <td>26.6</td>\n",
       "      <td>52387.0</td>\n",
       "      <td>48245.0</td>\n",
       "      <td>56529.0</td>\n",
       "      <td>NaN</td>\n",
       "      <td>NaN</td>\n",
       "      <td>NaN</td>\n",
       "      <td>NaN</td>\n",
       "      <td>NaN</td>\n",
       "      <td>NaN</td>\n",
       "    </tr>\n",
       "    <tr>\n",
       "      <th>214</th>\n",
       "      <td>217</td>\n",
       "      <td>6045</td>\n",
       "      <td>CA</td>\n",
       "      <td>Mendocino County</td>\n",
       "      <td>4.0</td>\n",
       "      <td>5.0</td>\n",
       "      <td>4.0</td>\n",
       "      <td>5.0</td>\n",
       "      <td>14156.0</td>\n",
       "      <td>11702.0</td>\n",
       "      <td>...</td>\n",
       "      <td>27.0</td>\n",
       "      <td>50453.0</td>\n",
       "      <td>46225.0</td>\n",
       "      <td>54681.0</td>\n",
       "      <td>NaN</td>\n",
       "      <td>NaN</td>\n",
       "      <td>NaN</td>\n",
       "      <td>NaN</td>\n",
       "      <td>NaN</td>\n",
       "      <td>NaN</td>\n",
       "    </tr>\n",
       "    <tr>\n",
       "      <th>215</th>\n",
       "      <td>218</td>\n",
       "      <td>6047</td>\n",
       "      <td>CA</td>\n",
       "      <td>Merced County</td>\n",
       "      <td>3.0</td>\n",
       "      <td>2.0</td>\n",
       "      <td>2.0</td>\n",
       "      <td>2.0</td>\n",
       "      <td>61297.0</td>\n",
       "      <td>56255.0</td>\n",
       "      <td>...</td>\n",
       "      <td>34.7</td>\n",
       "      <td>48036.0</td>\n",
       "      <td>45291.0</td>\n",
       "      <td>50781.0</td>\n",
       "      <td>NaN</td>\n",
       "      <td>NaN</td>\n",
       "      <td>NaN</td>\n",
       "      <td>NaN</td>\n",
       "      <td>NaN</td>\n",
       "      <td>NaN</td>\n",
       "    </tr>\n",
       "    <tr>\n",
       "      <th>216</th>\n",
       "      <td>219</td>\n",
       "      <td>6049</td>\n",
       "      <td>CA</td>\n",
       "      <td>Modoc County</td>\n",
       "      <td>6.0</td>\n",
       "      <td>6.0</td>\n",
       "      <td>6.0</td>\n",
       "      <td>6.0</td>\n",
       "      <td>1658.0</td>\n",
       "      <td>1282.0</td>\n",
       "      <td>...</td>\n",
       "      <td>34.4</td>\n",
       "      <td>40970.0</td>\n",
       "      <td>36630.0</td>\n",
       "      <td>45310.0</td>\n",
       "      <td>NaN</td>\n",
       "      <td>NaN</td>\n",
       "      <td>NaN</td>\n",
       "      <td>NaN</td>\n",
       "      <td>NaN</td>\n",
       "      <td>NaN</td>\n",
       "    </tr>\n",
       "    <tr>\n",
       "      <th>217</th>\n",
       "      <td>220</td>\n",
       "      <td>6051</td>\n",
       "      <td>CA</td>\n",
       "      <td>Mono County</td>\n",
       "      <td>7.0</td>\n",
       "      <td>9.0</td>\n",
       "      <td>7.0</td>\n",
       "      <td>11.0</td>\n",
       "      <td>1313.0</td>\n",
       "      <td>994.0</td>\n",
       "      <td>...</td>\n",
       "      <td>15.1</td>\n",
       "      <td>60318.0</td>\n",
       "      <td>55204.0</td>\n",
       "      <td>65432.0</td>\n",
       "      <td>NaN</td>\n",
       "      <td>NaN</td>\n",
       "      <td>NaN</td>\n",
       "      <td>NaN</td>\n",
       "      <td>NaN</td>\n",
       "      <td>NaN</td>\n",
       "    </tr>\n",
       "    <tr>\n",
       "      <th>218</th>\n",
       "      <td>221</td>\n",
       "      <td>6053</td>\n",
       "      <td>CA</td>\n",
       "      <td>Monterey County</td>\n",
       "      <td>2.0</td>\n",
       "      <td>2.0</td>\n",
       "      <td>2.0</td>\n",
       "      <td>2.0</td>\n",
       "      <td>49860.0</td>\n",
       "      <td>43546.0</td>\n",
       "      <td>...</td>\n",
       "      <td>18.8</td>\n",
       "      <td>70294.0</td>\n",
       "      <td>68046.0</td>\n",
       "      <td>72542.0</td>\n",
       "      <td>NaN</td>\n",
       "      <td>NaN</td>\n",
       "      <td>NaN</td>\n",
       "      <td>NaN</td>\n",
       "      <td>NaN</td>\n",
       "      <td>NaN</td>\n",
       "    </tr>\n",
       "    <tr>\n",
       "      <th>219</th>\n",
       "      <td>222</td>\n",
       "      <td>6055</td>\n",
       "      <td>CA</td>\n",
       "      <td>Napa County</td>\n",
       "      <td>3.0</td>\n",
       "      <td>2.0</td>\n",
       "      <td>3.0</td>\n",
       "      <td>2.0</td>\n",
       "      <td>9301.0</td>\n",
       "      <td>7460.0</td>\n",
       "      <td>...</td>\n",
       "      <td>10.3</td>\n",
       "      <td>83881.0</td>\n",
       "      <td>79865.0</td>\n",
       "      <td>87897.0</td>\n",
       "      <td>NaN</td>\n",
       "      <td>NaN</td>\n",
       "      <td>NaN</td>\n",
       "      <td>NaN</td>\n",
       "      <td>NaN</td>\n",
       "      <td>NaN</td>\n",
       "    </tr>\n",
       "    <tr>\n",
       "      <th>220</th>\n",
       "      <td>223</td>\n",
       "      <td>6057</td>\n",
       "      <td>CA</td>\n",
       "      <td>Nevada County</td>\n",
       "      <td>4.0</td>\n",
       "      <td>3.0</td>\n",
       "      <td>4.0</td>\n",
       "      <td>3.0</td>\n",
       "      <td>10889.0</td>\n",
       "      <td>9162.0</td>\n",
       "      <td>...</td>\n",
       "      <td>16.7</td>\n",
       "      <td>64901.0</td>\n",
       "      <td>59354.0</td>\n",
       "      <td>70448.0</td>\n",
       "      <td>NaN</td>\n",
       "      <td>NaN</td>\n",
       "      <td>NaN</td>\n",
       "      <td>NaN</td>\n",
       "      <td>NaN</td>\n",
       "      <td>NaN</td>\n",
       "    </tr>\n",
       "    <tr>\n",
       "      <th>221</th>\n",
       "      <td>224</td>\n",
       "      <td>6059</td>\n",
       "      <td>CA</td>\n",
       "      <td>Orange County</td>\n",
       "      <td>1.0</td>\n",
       "      <td>1.0</td>\n",
       "      <td>1.0</td>\n",
       "      <td>1.0</td>\n",
       "      <td>362109.0</td>\n",
       "      <td>344751.0</td>\n",
       "      <td>...</td>\n",
       "      <td>17.0</td>\n",
       "      <td>86031.0</td>\n",
       "      <td>84891.0</td>\n",
       "      <td>87171.0</td>\n",
       "      <td>NaN</td>\n",
       "      <td>NaN</td>\n",
       "      <td>NaN</td>\n",
       "      <td>NaN</td>\n",
       "      <td>NaN</td>\n",
       "      <td>NaN</td>\n",
       "    </tr>\n",
       "    <tr>\n",
       "      <th>222</th>\n",
       "      <td>225</td>\n",
       "      <td>6061</td>\n",
       "      <td>CA</td>\n",
       "      <td>Placer County</td>\n",
       "      <td>1.0</td>\n",
       "      <td>1.0</td>\n",
       "      <td>1.0</td>\n",
       "      <td>1.0</td>\n",
       "      <td>29873.0</td>\n",
       "      <td>26624.0</td>\n",
       "      <td>...</td>\n",
       "      <td>8.0</td>\n",
       "      <td>81366.0</td>\n",
       "      <td>78602.0</td>\n",
       "      <td>84130.0</td>\n",
       "      <td>NaN</td>\n",
       "      <td>NaN</td>\n",
       "      <td>NaN</td>\n",
       "      <td>NaN</td>\n",
       "      <td>NaN</td>\n",
       "      <td>NaN</td>\n",
       "    </tr>\n",
       "    <tr>\n",
       "      <th>223</th>\n",
       "      <td>226</td>\n",
       "      <td>6063</td>\n",
       "      <td>CA</td>\n",
       "      <td>Plumas County</td>\n",
       "      <td>7.0</td>\n",
       "      <td>12.0</td>\n",
       "      <td>7.0</td>\n",
       "      <td>12.0</td>\n",
       "      <td>2640.0</td>\n",
       "      <td>2105.0</td>\n",
       "      <td>...</td>\n",
       "      <td>25.6</td>\n",
       "      <td>51756.0</td>\n",
       "      <td>46370.0</td>\n",
       "      <td>57142.0</td>\n",
       "      <td>NaN</td>\n",
       "      <td>NaN</td>\n",
       "      <td>NaN</td>\n",
       "      <td>NaN</td>\n",
       "      <td>NaN</td>\n",
       "      <td>NaN</td>\n",
       "    </tr>\n",
       "    <tr>\n",
       "      <th>224</th>\n",
       "      <td>227</td>\n",
       "      <td>6065</td>\n",
       "      <td>CA</td>\n",
       "      <td>Riverside County</td>\n",
       "      <td>1.0</td>\n",
       "      <td>1.0</td>\n",
       "      <td>1.0</td>\n",
       "      <td>1.0</td>\n",
       "      <td>309235.0</td>\n",
       "      <td>292034.0</td>\n",
       "      <td>...</td>\n",
       "      <td>17.3</td>\n",
       "      <td>63776.0</td>\n",
       "      <td>62674.0</td>\n",
       "      <td>64878.0</td>\n",
       "      <td>NaN</td>\n",
       "      <td>NaN</td>\n",
       "      <td>NaN</td>\n",
       "      <td>NaN</td>\n",
       "      <td>NaN</td>\n",
       "      <td>NaN</td>\n",
       "    </tr>\n",
       "    <tr>\n",
       "      <th>225</th>\n",
       "      <td>228</td>\n",
       "      <td>6067</td>\n",
       "      <td>CA</td>\n",
       "      <td>Sacramento County</td>\n",
       "      <td>1.0</td>\n",
       "      <td>1.0</td>\n",
       "      <td>1.0</td>\n",
       "      <td>1.0</td>\n",
       "      <td>213232.0</td>\n",
       "      <td>200490.0</td>\n",
       "      <td>...</td>\n",
       "      <td>18.4</td>\n",
       "      <td>62959.0</td>\n",
       "      <td>61303.0</td>\n",
       "      <td>64615.0</td>\n",
       "      <td>NaN</td>\n",
       "      <td>NaN</td>\n",
       "      <td>NaN</td>\n",
       "      <td>NaN</td>\n",
       "      <td>NaN</td>\n",
       "      <td>NaN</td>\n",
       "    </tr>\n",
       "    <tr>\n",
       "      <th>226</th>\n",
       "      <td>229</td>\n",
       "      <td>6069</td>\n",
       "      <td>CA</td>\n",
       "      <td>San Benito County</td>\n",
       "      <td>1.0</td>\n",
       "      <td>1.0</td>\n",
       "      <td>1.0</td>\n",
       "      <td>1.0</td>\n",
       "      <td>5029.0</td>\n",
       "      <td>3786.0</td>\n",
       "      <td>...</td>\n",
       "      <td>14.4</td>\n",
       "      <td>77200.0</td>\n",
       "      <td>70441.0</td>\n",
       "      <td>83959.0</td>\n",
       "      <td>NaN</td>\n",
       "      <td>NaN</td>\n",
       "      <td>NaN</td>\n",
       "      <td>NaN</td>\n",
       "      <td>NaN</td>\n",
       "      <td>NaN</td>\n",
       "    </tr>\n",
       "    <tr>\n",
       "      <th>227</th>\n",
       "      <td>230</td>\n",
       "      <td>6071</td>\n",
       "      <td>CA</td>\n",
       "      <td>San Bernardino County</td>\n",
       "      <td>1.0</td>\n",
       "      <td>1.0</td>\n",
       "      <td>1.0</td>\n",
       "      <td>1.0</td>\n",
       "      <td>339748.0</td>\n",
       "      <td>320900.0</td>\n",
       "      <td>...</td>\n",
       "      <td>23.7</td>\n",
       "      <td>60270.0</td>\n",
       "      <td>59303.0</td>\n",
       "      <td>61237.0</td>\n",
       "      <td>NaN</td>\n",
       "      <td>NaN</td>\n",
       "      <td>NaN</td>\n",
       "      <td>NaN</td>\n",
       "      <td>NaN</td>\n",
       "      <td>NaN</td>\n",
       "    </tr>\n",
       "    <tr>\n",
       "      <th>228</th>\n",
       "      <td>231</td>\n",
       "      <td>6073</td>\n",
       "      <td>CA</td>\n",
       "      <td>San Diego County</td>\n",
       "      <td>1.0</td>\n",
       "      <td>1.0</td>\n",
       "      <td>1.0</td>\n",
       "      <td>1.0</td>\n",
       "      <td>385479.0</td>\n",
       "      <td>366449.0</td>\n",
       "      <td>...</td>\n",
       "      <td>15.8</td>\n",
       "      <td>76048.0</td>\n",
       "      <td>75141.0</td>\n",
       "      <td>76955.0</td>\n",
       "      <td>NaN</td>\n",
       "      <td>NaN</td>\n",
       "      <td>NaN</td>\n",
       "      <td>NaN</td>\n",
       "      <td>NaN</td>\n",
       "      <td>NaN</td>\n",
       "    </tr>\n",
       "    <tr>\n",
       "      <th>229</th>\n",
       "      <td>232</td>\n",
       "      <td>6075</td>\n",
       "      <td>CA</td>\n",
       "      <td>San Francisco County</td>\n",
       "      <td>1.0</td>\n",
       "      <td>1.0</td>\n",
       "      <td>1.0</td>\n",
       "      <td>1.0</td>\n",
       "      <td>87314.0</td>\n",
       "      <td>79689.0</td>\n",
       "      <td>...</td>\n",
       "      <td>15.0</td>\n",
       "      <td>109601.0</td>\n",
       "      <td>107133.0</td>\n",
       "      <td>112069.0</td>\n",
       "      <td>NaN</td>\n",
       "      <td>NaN</td>\n",
       "      <td>NaN</td>\n",
       "      <td>NaN</td>\n",
       "      <td>NaN</td>\n",
       "      <td>NaN</td>\n",
       "    </tr>\n",
       "    <tr>\n",
       "      <th>230</th>\n",
       "      <td>233</td>\n",
       "      <td>6077</td>\n",
       "      <td>CA</td>\n",
       "      <td>San Joaquin County</td>\n",
       "      <td>2.0</td>\n",
       "      <td>2.0</td>\n",
       "      <td>2.0</td>\n",
       "      <td>2.0</td>\n",
       "      <td>113375.0</td>\n",
       "      <td>102366.0</td>\n",
       "      <td>...</td>\n",
       "      <td>22.6</td>\n",
       "      <td>60950.0</td>\n",
       "      <td>59547.0</td>\n",
       "      <td>62353.0</td>\n",
       "      <td>NaN</td>\n",
       "      <td>NaN</td>\n",
       "      <td>NaN</td>\n",
       "      <td>NaN</td>\n",
       "      <td>NaN</td>\n",
       "      <td>NaN</td>\n",
       "    </tr>\n",
       "    <tr>\n",
       "      <th>231</th>\n",
       "      <td>234</td>\n",
       "      <td>6079</td>\n",
       "      <td>CA</td>\n",
       "      <td>San Luis Obispo County</td>\n",
       "      <td>3.0</td>\n",
       "      <td>2.0</td>\n",
       "      <td>2.0</td>\n",
       "      <td>2.0</td>\n",
       "      <td>31826.0</td>\n",
       "      <td>27789.0</td>\n",
       "      <td>...</td>\n",
       "      <td>14.2</td>\n",
       "      <td>70634.0</td>\n",
       "      <td>67328.0</td>\n",
       "      <td>73940.0</td>\n",
       "      <td>NaN</td>\n",
       "      <td>NaN</td>\n",
       "      <td>NaN</td>\n",
       "      <td>NaN</td>\n",
       "      <td>NaN</td>\n",
       "      <td>NaN</td>\n",
       "    </tr>\n",
       "    <tr>\n",
       "      <th>232</th>\n",
       "      <td>235</td>\n",
       "      <td>6081</td>\n",
       "      <td>CA</td>\n",
       "      <td>San Mateo County</td>\n",
       "      <td>1.0</td>\n",
       "      <td>1.0</td>\n",
       "      <td>1.0</td>\n",
       "      <td>1.0</td>\n",
       "      <td>48795.0</td>\n",
       "      <td>42272.0</td>\n",
       "      <td>...</td>\n",
       "      <td>8.3</td>\n",
       "      <td>115908.0</td>\n",
       "      <td>112815.0</td>\n",
       "      <td>119001.0</td>\n",
       "      <td>NaN</td>\n",
       "      <td>NaN</td>\n",
       "      <td>NaN</td>\n",
       "      <td>NaN</td>\n",
       "      <td>NaN</td>\n",
       "      <td>NaN</td>\n",
       "    </tr>\n",
       "    <tr>\n",
       "      <th>233</th>\n",
       "      <td>236</td>\n",
       "      <td>6083</td>\n",
       "      <td>CA</td>\n",
       "      <td>Santa Barbara County</td>\n",
       "      <td>2.0</td>\n",
       "      <td>2.0</td>\n",
       "      <td>2.0</td>\n",
       "      <td>2.0</td>\n",
       "      <td>60921.0</td>\n",
       "      <td>55050.0</td>\n",
       "      <td>...</td>\n",
       "      <td>19.0</td>\n",
       "      <td>70651.0</td>\n",
       "      <td>68846.0</td>\n",
       "      <td>72456.0</td>\n",
       "      <td>NaN</td>\n",
       "      <td>NaN</td>\n",
       "      <td>NaN</td>\n",
       "      <td>NaN</td>\n",
       "      <td>NaN</td>\n",
       "      <td>NaN</td>\n",
       "    </tr>\n",
       "    <tr>\n",
       "      <th>234</th>\n",
       "      <td>237</td>\n",
       "      <td>6085</td>\n",
       "      <td>CA</td>\n",
       "      <td>Santa Clara County</td>\n",
       "      <td>1.0</td>\n",
       "      <td>1.0</td>\n",
       "      <td>1.0</td>\n",
       "      <td>1.0</td>\n",
       "      <td>142603.0</td>\n",
       "      <td>130922.0</td>\n",
       "      <td>...</td>\n",
       "      <td>9.0</td>\n",
       "      <td>118468.0</td>\n",
       "      <td>115818.0</td>\n",
       "      <td>121118.0</td>\n",
       "      <td>NaN</td>\n",
       "      <td>NaN</td>\n",
       "      <td>NaN</td>\n",
       "      <td>NaN</td>\n",
       "      <td>NaN</td>\n",
       "      <td>NaN</td>\n",
       "    </tr>\n",
       "    <tr>\n",
       "      <th>235</th>\n",
       "      <td>238</td>\n",
       "      <td>6087</td>\n",
       "      <td>CA</td>\n",
       "      <td>Santa Cruz County</td>\n",
       "      <td>2.0</td>\n",
       "      <td>2.0</td>\n",
       "      <td>2.0</td>\n",
       "      <td>2.0</td>\n",
       "      <td>33262.0</td>\n",
       "      <td>28841.0</td>\n",
       "      <td>...</td>\n",
       "      <td>16.0</td>\n",
       "      <td>76633.0</td>\n",
       "      <td>71804.0</td>\n",
       "      <td>81462.0</td>\n",
       "      <td>NaN</td>\n",
       "      <td>NaN</td>\n",
       "      <td>NaN</td>\n",
       "      <td>NaN</td>\n",
       "      <td>NaN</td>\n",
       "      <td>NaN</td>\n",
       "    </tr>\n",
       "    <tr>\n",
       "      <th>236</th>\n",
       "      <td>239</td>\n",
       "      <td>6089</td>\n",
       "      <td>CA</td>\n",
       "      <td>Shasta County</td>\n",
       "      <td>3.0</td>\n",
       "      <td>2.0</td>\n",
       "      <td>3.0</td>\n",
       "      <td>2.0</td>\n",
       "      <td>30155.0</td>\n",
       "      <td>26328.0</td>\n",
       "      <td>...</td>\n",
       "      <td>25.0</td>\n",
       "      <td>51207.0</td>\n",
       "      <td>48094.0</td>\n",
       "      <td>54320.0</td>\n",
       "      <td>NaN</td>\n",
       "      <td>NaN</td>\n",
       "      <td>NaN</td>\n",
       "      <td>NaN</td>\n",
       "      <td>NaN</td>\n",
       "      <td>NaN</td>\n",
       "    </tr>\n",
       "    <tr>\n",
       "      <th>237</th>\n",
       "      <td>240</td>\n",
       "      <td>6091</td>\n",
       "      <td>CA</td>\n",
       "      <td>Sierra County</td>\n",
       "      <td>8.0</td>\n",
       "      <td>7.0</td>\n",
       "      <td>8.0</td>\n",
       "      <td>7.0</td>\n",
       "      <td>404.0</td>\n",
       "      <td>310.0</td>\n",
       "      <td>...</td>\n",
       "      <td>25.2</td>\n",
       "      <td>49495.0</td>\n",
       "      <td>43968.0</td>\n",
       "      <td>55022.0</td>\n",
       "      <td>NaN</td>\n",
       "      <td>NaN</td>\n",
       "      <td>NaN</td>\n",
       "      <td>NaN</td>\n",
       "      <td>NaN</td>\n",
       "      <td>NaN</td>\n",
       "    </tr>\n",
       "    <tr>\n",
       "      <th>238</th>\n",
       "      <td>241</td>\n",
       "      <td>6093</td>\n",
       "      <td>CA</td>\n",
       "      <td>Siskiyou County</td>\n",
       "      <td>7.0</td>\n",
       "      <td>11.0</td>\n",
       "      <td>6.0</td>\n",
       "      <td>6.0</td>\n",
       "      <td>7679.0</td>\n",
       "      <td>6512.0</td>\n",
       "      <td>...</td>\n",
       "      <td>30.1</td>\n",
       "      <td>44013.0</td>\n",
       "      <td>41189.0</td>\n",
       "      <td>46837.0</td>\n",
       "      <td>NaN</td>\n",
       "      <td>NaN</td>\n",
       "      <td>NaN</td>\n",
       "      <td>NaN</td>\n",
       "      <td>NaN</td>\n",
       "      <td>NaN</td>\n",
       "    </tr>\n",
       "    <tr>\n",
       "      <th>239</th>\n",
       "      <td>242</td>\n",
       "      <td>6095</td>\n",
       "      <td>CA</td>\n",
       "      <td>Solano County</td>\n",
       "      <td>2.0</td>\n",
       "      <td>2.0</td>\n",
       "      <td>2.0</td>\n",
       "      <td>2.0</td>\n",
       "      <td>43352.0</td>\n",
       "      <td>37727.0</td>\n",
       "      <td>...</td>\n",
       "      <td>15.0</td>\n",
       "      <td>75931.0</td>\n",
       "      <td>71905.0</td>\n",
       "      <td>79957.0</td>\n",
       "      <td>NaN</td>\n",
       "      <td>NaN</td>\n",
       "      <td>NaN</td>\n",
       "      <td>NaN</td>\n",
       "      <td>NaN</td>\n",
       "      <td>NaN</td>\n",
       "    </tr>\n",
       "    <tr>\n",
       "      <th>240</th>\n",
       "      <td>243</td>\n",
       "      <td>6097</td>\n",
       "      <td>CA</td>\n",
       "      <td>Sonoma County</td>\n",
       "      <td>2.0</td>\n",
       "      <td>2.0</td>\n",
       "      <td>2.0</td>\n",
       "      <td>2.0</td>\n",
       "      <td>46165.0</td>\n",
       "      <td>40215.0</td>\n",
       "      <td>...</td>\n",
       "      <td>11.7</td>\n",
       "      <td>79511.0</td>\n",
       "      <td>76859.0</td>\n",
       "      <td>82163.0</td>\n",
       "      <td>NaN</td>\n",
       "      <td>NaN</td>\n",
       "      <td>NaN</td>\n",
       "      <td>NaN</td>\n",
       "      <td>NaN</td>\n",
       "      <td>NaN</td>\n",
       "    </tr>\n",
       "    <tr>\n",
       "      <th>241</th>\n",
       "      <td>244</td>\n",
       "      <td>6099</td>\n",
       "      <td>CA</td>\n",
       "      <td>Stanislaus County</td>\n",
       "      <td>2.0</td>\n",
       "      <td>2.0</td>\n",
       "      <td>2.0</td>\n",
       "      <td>2.0</td>\n",
       "      <td>75614.0</td>\n",
       "      <td>66699.0</td>\n",
       "      <td>...</td>\n",
       "      <td>20.8</td>\n",
       "      <td>58925.0</td>\n",
       "      <td>56702.0</td>\n",
       "      <td>61148.0</td>\n",
       "      <td>NaN</td>\n",
       "      <td>NaN</td>\n",
       "      <td>NaN</td>\n",
       "      <td>NaN</td>\n",
       "      <td>NaN</td>\n",
       "      <td>NaN</td>\n",
       "    </tr>\n",
       "    <tr>\n",
       "      <th>242</th>\n",
       "      <td>245</td>\n",
       "      <td>6101</td>\n",
       "      <td>CA</td>\n",
       "      <td>Sutter County</td>\n",
       "      <td>3.0</td>\n",
       "      <td>2.0</td>\n",
       "      <td>3.0</td>\n",
       "      <td>2.0</td>\n",
       "      <td>12628.0</td>\n",
       "      <td>10279.0</td>\n",
       "      <td>...</td>\n",
       "      <td>21.9</td>\n",
       "      <td>54102.0</td>\n",
       "      <td>49969.0</td>\n",
       "      <td>58235.0</td>\n",
       "      <td>NaN</td>\n",
       "      <td>NaN</td>\n",
       "      <td>NaN</td>\n",
       "      <td>NaN</td>\n",
       "      <td>NaN</td>\n",
       "      <td>NaN</td>\n",
       "    </tr>\n",
       "    <tr>\n",
       "      <th>243</th>\n",
       "      <td>246</td>\n",
       "      <td>6103</td>\n",
       "      <td>CA</td>\n",
       "      <td>Tehama County</td>\n",
       "      <td>4.0</td>\n",
       "      <td>5.0</td>\n",
       "      <td>4.0</td>\n",
       "      <td>5.0</td>\n",
       "      <td>12718.0</td>\n",
       "      <td>10881.0</td>\n",
       "      <td>...</td>\n",
       "      <td>31.9</td>\n",
       "      <td>41819.0</td>\n",
       "      <td>37967.0</td>\n",
       "      <td>45671.0</td>\n",
       "      <td>NaN</td>\n",
       "      <td>NaN</td>\n",
       "      <td>NaN</td>\n",
       "      <td>NaN</td>\n",
       "      <td>NaN</td>\n",
       "      <td>NaN</td>\n",
       "    </tr>\n",
       "    <tr>\n",
       "      <th>244</th>\n",
       "      <td>247</td>\n",
       "      <td>6105</td>\n",
       "      <td>CA</td>\n",
       "      <td>Trinity County</td>\n",
       "      <td>8.0</td>\n",
       "      <td>6.0</td>\n",
       "      <td>8.0</td>\n",
       "      <td>6.0</td>\n",
       "      <td>2529.0</td>\n",
       "      <td>1983.0</td>\n",
       "      <td>...</td>\n",
       "      <td>36.8</td>\n",
       "      <td>40676.0</td>\n",
       "      <td>36530.0</td>\n",
       "      <td>44822.0</td>\n",
       "      <td>NaN</td>\n",
       "      <td>NaN</td>\n",
       "      <td>NaN</td>\n",
       "      <td>NaN</td>\n",
       "      <td>NaN</td>\n",
       "      <td>NaN</td>\n",
       "    </tr>\n",
       "    <tr>\n",
       "      <th>245</th>\n",
       "      <td>248</td>\n",
       "      <td>6107</td>\n",
       "      <td>CA</td>\n",
       "      <td>Tulare County</td>\n",
       "      <td>2.0</td>\n",
       "      <td>2.0</td>\n",
       "      <td>2.0</td>\n",
       "      <td>2.0</td>\n",
       "      <td>110299.0</td>\n",
       "      <td>101815.0</td>\n",
       "      <td>...</td>\n",
       "      <td>33.9</td>\n",
       "      <td>46377.0</td>\n",
       "      <td>44002.0</td>\n",
       "      <td>48752.0</td>\n",
       "      <td>NaN</td>\n",
       "      <td>NaN</td>\n",
       "      <td>NaN</td>\n",
       "      <td>NaN</td>\n",
       "      <td>NaN</td>\n",
       "      <td>NaN</td>\n",
       "    </tr>\n",
       "    <tr>\n",
       "      <th>246</th>\n",
       "      <td>249</td>\n",
       "      <td>6109</td>\n",
       "      <td>CA</td>\n",
       "      <td>Tuolumne County</td>\n",
       "      <td>4.0</td>\n",
       "      <td>5.0</td>\n",
       "      <td>4.0</td>\n",
       "      <td>5.0</td>\n",
       "      <td>6205.0</td>\n",
       "      <td>4841.0</td>\n",
       "      <td>...</td>\n",
       "      <td>20.9</td>\n",
       "      <td>58776.0</td>\n",
       "      <td>53854.0</td>\n",
       "      <td>63698.0</td>\n",
       "      <td>NaN</td>\n",
       "      <td>NaN</td>\n",
       "      <td>NaN</td>\n",
       "      <td>NaN</td>\n",
       "      <td>NaN</td>\n",
       "      <td>NaN</td>\n",
       "    </tr>\n",
       "    <tr>\n",
       "      <th>247</th>\n",
       "      <td>250</td>\n",
       "      <td>6111</td>\n",
       "      <td>CA</td>\n",
       "      <td>Ventura County</td>\n",
       "      <td>2.0</td>\n",
       "      <td>2.0</td>\n",
       "      <td>2.0</td>\n",
       "      <td>2.0</td>\n",
       "      <td>80217.0</td>\n",
       "      <td>71799.0</td>\n",
       "      <td>...</td>\n",
       "      <td>14.0</td>\n",
       "      <td>82436.0</td>\n",
       "      <td>80369.0</td>\n",
       "      <td>84503.0</td>\n",
       "      <td>NaN</td>\n",
       "      <td>NaN</td>\n",
       "      <td>NaN</td>\n",
       "      <td>NaN</td>\n",
       "      <td>NaN</td>\n",
       "      <td>NaN</td>\n",
       "    </tr>\n",
       "    <tr>\n",
       "      <th>248</th>\n",
       "      <td>251</td>\n",
       "      <td>6113</td>\n",
       "      <td>CA</td>\n",
       "      <td>Yolo County</td>\n",
       "      <td>1.0</td>\n",
       "      <td>1.0</td>\n",
       "      <td>1.0</td>\n",
       "      <td>1.0</td>\n",
       "      <td>36761.0</td>\n",
       "      <td>33639.0</td>\n",
       "      <td>...</td>\n",
       "      <td>16.5</td>\n",
       "      <td>64900.0</td>\n",
       "      <td>60238.0</td>\n",
       "      <td>69562.0</td>\n",
       "      <td>NaN</td>\n",
       "      <td>NaN</td>\n",
       "      <td>NaN</td>\n",
       "      <td>NaN</td>\n",
       "      <td>NaN</td>\n",
       "      <td>NaN</td>\n",
       "    </tr>\n",
       "    <tr>\n",
       "      <th>249</th>\n",
       "      <td>252</td>\n",
       "      <td>6115</td>\n",
       "      <td>CA</td>\n",
       "      <td>Yuba County</td>\n",
       "      <td>3.0</td>\n",
       "      <td>2.0</td>\n",
       "      <td>3.0</td>\n",
       "      <td>2.0</td>\n",
       "      <td>11609.0</td>\n",
       "      <td>9392.0</td>\n",
       "      <td>...</td>\n",
       "      <td>26.9</td>\n",
       "      <td>53822.0</td>\n",
       "      <td>50075.0</td>\n",
       "      <td>57569.0</td>\n",
       "      <td>NaN</td>\n",
       "      <td>NaN</td>\n",
       "      <td>NaN</td>\n",
       "      <td>NaN</td>\n",
       "      <td>NaN</td>\n",
       "      <td>NaN</td>\n",
       "    </tr>\n",
       "  </tbody>\n",
       "</table>\n",
       "<p>59 rows × 35 columns</p>\n",
       "</div>"
      ],
      "text/plain": [
       "       2  FIPStxt State               Area_Name  \\\n",
       "191  194     6000    CA              California   \n",
       "192  195     6001    CA          Alameda County   \n",
       "193  196     6003    CA           Alpine County   \n",
       "194  197     6005    CA           Amador County   \n",
       "195  198     6007    CA            Butte County   \n",
       "196  199     6009    CA        Calaveras County   \n",
       "197  200     6011    CA           Colusa County   \n",
       "198  201     6013    CA     Contra Costa County   \n",
       "199  202     6015    CA        Del Norte County   \n",
       "200  203     6017    CA        El Dorado County   \n",
       "201  204     6019    CA           Fresno County   \n",
       "202  205     6021    CA            Glenn County   \n",
       "203  206     6023    CA         Humboldt County   \n",
       "204  207     6025    CA         Imperial County   \n",
       "205  208     6027    CA             Inyo County   \n",
       "206  209     6029    CA             Kern County   \n",
       "207  210     6031    CA            Kings County   \n",
       "208  211     6033    CA             Lake County   \n",
       "209  212     6035    CA           Lassen County   \n",
       "210  213     6037    CA      Los Angeles County   \n",
       "211  214     6039    CA           Madera County   \n",
       "212  215     6041    CA            Marin County   \n",
       "213  216     6043    CA         Mariposa County   \n",
       "214  217     6045    CA        Mendocino County   \n",
       "215  218     6047    CA           Merced County   \n",
       "216  219     6049    CA            Modoc County   \n",
       "217  220     6051    CA             Mono County   \n",
       "218  221     6053    CA         Monterey County   \n",
       "219  222     6055    CA             Napa County   \n",
       "220  223     6057    CA           Nevada County   \n",
       "221  224     6059    CA           Orange County   \n",
       "222  225     6061    CA           Placer County   \n",
       "223  226     6063    CA           Plumas County   \n",
       "224  227     6065    CA        Riverside County   \n",
       "225  228     6067    CA       Sacramento County   \n",
       "226  229     6069    CA       San Benito County   \n",
       "227  230     6071    CA   San Bernardino County   \n",
       "228  231     6073    CA        San Diego County   \n",
       "229  232     6075    CA    San Francisco County   \n",
       "230  233     6077    CA      San Joaquin County   \n",
       "231  234     6079    CA  San Luis Obispo County   \n",
       "232  235     6081    CA        San Mateo County   \n",
       "233  236     6083    CA    Santa Barbara County   \n",
       "234  237     6085    CA      Santa Clara County   \n",
       "235  238     6087    CA       Santa Cruz County   \n",
       "236  239     6089    CA           Shasta County   \n",
       "237  240     6091    CA           Sierra County   \n",
       "238  241     6093    CA         Siskiyou County   \n",
       "239  242     6095    CA           Solano County   \n",
       "240  243     6097    CA           Sonoma County   \n",
       "241  244     6099    CA       Stanislaus County   \n",
       "242  245     6101    CA           Sutter County   \n",
       "243  246     6103    CA           Tehama County   \n",
       "244  247     6105    CA          Trinity County   \n",
       "245  248     6107    CA           Tulare County   \n",
       "246  249     6109    CA         Tuolumne County   \n",
       "247  250     6111    CA          Ventura County   \n",
       "248  251     6113    CA             Yolo County   \n",
       "249  252     6115    CA             Yuba County   \n",
       "\n",
       "     Rural-urban_Continuum_Code_2003  Urban_Influence_Code_2003  \\\n",
       "191                              NaN                        NaN   \n",
       "192                              1.0                        1.0   \n",
       "193                              8.0                        4.0   \n",
       "194                              6.0                        4.0   \n",
       "195                              3.0                        2.0   \n",
       "196                              6.0                        6.0   \n",
       "197                              6.0                        4.0   \n",
       "198                              1.0                        1.0   \n",
       "199                              7.0                        8.0   \n",
       "200                              1.0                        1.0   \n",
       "201                              2.0                        2.0   \n",
       "202                              6.0                        6.0   \n",
       "203                              5.0                        8.0   \n",
       "204                              3.0                        2.0   \n",
       "205                              7.0                        8.0   \n",
       "206                              2.0                        2.0   \n",
       "207                              3.0                        2.0   \n",
       "208                              4.0                        5.0   \n",
       "209                              6.0                        6.0   \n",
       "210                              1.0                        1.0   \n",
       "211                              3.0                        2.0   \n",
       "212                              1.0                        1.0   \n",
       "213                              8.0                        7.0   \n",
       "214                              4.0                        5.0   \n",
       "215                              3.0                        2.0   \n",
       "216                              6.0                        6.0   \n",
       "217                              7.0                        9.0   \n",
       "218                              2.0                        2.0   \n",
       "219                              3.0                        2.0   \n",
       "220                              4.0                        3.0   \n",
       "221                              1.0                        1.0   \n",
       "222                              1.0                        1.0   \n",
       "223                              7.0                       12.0   \n",
       "224                              1.0                        1.0   \n",
       "225                              1.0                        1.0   \n",
       "226                              1.0                        1.0   \n",
       "227                              1.0                        1.0   \n",
       "228                              1.0                        1.0   \n",
       "229                              1.0                        1.0   \n",
       "230                              2.0                        2.0   \n",
       "231                              3.0                        2.0   \n",
       "232                              1.0                        1.0   \n",
       "233                              2.0                        2.0   \n",
       "234                              1.0                        1.0   \n",
       "235                              2.0                        2.0   \n",
       "236                              3.0                        2.0   \n",
       "237                              8.0                        7.0   \n",
       "238                              7.0                       11.0   \n",
       "239                              2.0                        2.0   \n",
       "240                              2.0                        2.0   \n",
       "241                              2.0                        2.0   \n",
       "242                              3.0                        2.0   \n",
       "243                              4.0                        5.0   \n",
       "244                              8.0                        6.0   \n",
       "245                              2.0                        2.0   \n",
       "246                              4.0                        5.0   \n",
       "247                              2.0                        2.0   \n",
       "248                              1.0                        1.0   \n",
       "249                              3.0                        2.0   \n",
       "\n",
       "     Rural-urban_Continuum_Code_2013  Urban_Influence_Code_2013  POVALL_2017  \\\n",
       "191                              NaN                        NaN    5164169.0   \n",
       "192                              1.0                        1.0     152087.0   \n",
       "193                              8.0                        4.0        202.0   \n",
       "194                              6.0                        4.0       3762.0   \n",
       "195                              3.0                        2.0      40728.0   \n",
       "196                              6.0                        6.0       5904.0   \n",
       "197                              6.0                        4.0       2633.0   \n",
       "198                              1.0                        1.0     103883.0   \n",
       "199                              7.0                        8.0       6113.0   \n",
       "200                              1.0                        1.0      15620.0   \n",
       "201                              2.0                        2.0     205046.0   \n",
       "202                              6.0                        6.0       4111.0   \n",
       "203                              5.0                        8.0      26262.0   \n",
       "204                              3.0                        2.0      35830.0   \n",
       "205                              7.0                       11.0       2087.0   \n",
       "206                              2.0                        2.0     182948.0   \n",
       "207                              3.0                        2.0      24810.0   \n",
       "208                              4.0                        5.0      12817.0   \n",
       "209                              7.0                        8.0       3790.0   \n",
       "210                              1.0                        1.0    1490853.0   \n",
       "211                              3.0                        2.0      31569.0   \n",
       "212                              1.0                        1.0      20222.0   \n",
       "213                              8.0                        7.0       2641.0   \n",
       "214                              4.0                        5.0      14156.0   \n",
       "215                              2.0                        2.0      61297.0   \n",
       "216                              6.0                        6.0       1658.0   \n",
       "217                              7.0                       11.0       1313.0   \n",
       "218                              2.0                        2.0      49860.0   \n",
       "219                              3.0                        2.0       9301.0   \n",
       "220                              4.0                        3.0      10889.0   \n",
       "221                              1.0                        1.0     362109.0   \n",
       "222                              1.0                        1.0      29873.0   \n",
       "223                              7.0                       12.0       2640.0   \n",
       "224                              1.0                        1.0     309235.0   \n",
       "225                              1.0                        1.0     213232.0   \n",
       "226                              1.0                        1.0       5029.0   \n",
       "227                              1.0                        1.0     339748.0   \n",
       "228                              1.0                        1.0     385479.0   \n",
       "229                              1.0                        1.0      87314.0   \n",
       "230                              2.0                        2.0     113375.0   \n",
       "231                              2.0                        2.0      31826.0   \n",
       "232                              1.0                        1.0      48795.0   \n",
       "233                              2.0                        2.0      60921.0   \n",
       "234                              1.0                        1.0     142603.0   \n",
       "235                              2.0                        2.0      33262.0   \n",
       "236                              3.0                        2.0      30155.0   \n",
       "237                              8.0                        7.0        404.0   \n",
       "238                              6.0                        6.0       7679.0   \n",
       "239                              2.0                        2.0      43352.0   \n",
       "240                              2.0                        2.0      46165.0   \n",
       "241                              2.0                        2.0      75614.0   \n",
       "242                              3.0                        2.0      12628.0   \n",
       "243                              4.0                        5.0      12718.0   \n",
       "244                              8.0                        6.0       2529.0   \n",
       "245                              2.0                        2.0     110299.0   \n",
       "246                              4.0                        5.0       6205.0   \n",
       "247                              2.0                        2.0      80217.0   \n",
       "248                              1.0                        1.0      36761.0   \n",
       "249                              3.0                        2.0      11609.0   \n",
       "\n",
       "     CI90LBAll_2017  ...  CI90UB517P_2017  MEDHHINC_2017  CI90LBINC_2017  \\\n",
       "191       5111205.0  ...             17.8        71785.0         71492.0   \n",
       "192        142181.0  ...             11.5        95550.0         93504.0   \n",
       "193           155.0  ...             36.1        55755.0         49538.0   \n",
       "194          2896.0  ...             19.2        60588.0         55422.0   \n",
       "195         36647.0  ...             25.5        48634.0         45973.0   \n",
       "196          4780.0  ...             25.1        58536.0         53252.0   \n",
       "197          2157.0  ...             18.1        53595.0         47946.0   \n",
       "198         94803.0  ...             11.6        95062.0         92560.0   \n",
       "199          5107.0  ...             38.9        39996.0         36244.0   \n",
       "200         12971.0  ...             10.9        78464.0         73194.0   \n",
       "201        192640.0  ...             29.2        51452.0         49837.0   \n",
       "202          3255.0  ...             24.8        49979.0         47174.0   \n",
       "203         22440.0  ...             27.9        46123.0         42221.0   \n",
       "204         31261.0  ...             32.1        43413.0         39624.0   \n",
       "205          1589.0  ...             21.6        53528.0         48643.0   \n",
       "206        171072.0  ...             29.6        49904.0         47939.0   \n",
       "207         21366.0  ...             28.0        55076.0         51701.0   \n",
       "208         10736.0  ...             36.0        45797.0         42700.0   \n",
       "209          2934.0  ...             22.0        58776.0         54289.0   \n",
       "210       1454153.0  ...             21.2        64912.0         64252.0   \n",
       "211         27218.0  ...             32.0        50783.0         47084.0   \n",
       "212         17808.0  ...              8.7       112735.0        107137.0   \n",
       "213          2130.0  ...             26.6        52387.0         48245.0   \n",
       "214         11702.0  ...             27.0        50453.0         46225.0   \n",
       "215         56255.0  ...             34.7        48036.0         45291.0   \n",
       "216          1282.0  ...             34.4        40970.0         36630.0   \n",
       "217           994.0  ...             15.1        60318.0         55204.0   \n",
       "218         43546.0  ...             18.8        70294.0         68046.0   \n",
       "219          7460.0  ...             10.3        83881.0         79865.0   \n",
       "220          9162.0  ...             16.7        64901.0         59354.0   \n",
       "221        344751.0  ...             17.0        86031.0         84891.0   \n",
       "222         26624.0  ...              8.0        81366.0         78602.0   \n",
       "223          2105.0  ...             25.6        51756.0         46370.0   \n",
       "224        292034.0  ...             17.3        63776.0         62674.0   \n",
       "225        200490.0  ...             18.4        62959.0         61303.0   \n",
       "226          3786.0  ...             14.4        77200.0         70441.0   \n",
       "227        320900.0  ...             23.7        60270.0         59303.0   \n",
       "228        366449.0  ...             15.8        76048.0         75141.0   \n",
       "229         79689.0  ...             15.0       109601.0        107133.0   \n",
       "230        102366.0  ...             22.6        60950.0         59547.0   \n",
       "231         27789.0  ...             14.2        70634.0         67328.0   \n",
       "232         42272.0  ...              8.3       115908.0        112815.0   \n",
       "233         55050.0  ...             19.0        70651.0         68846.0   \n",
       "234        130922.0  ...              9.0       118468.0        115818.0   \n",
       "235         28841.0  ...             16.0        76633.0         71804.0   \n",
       "236         26328.0  ...             25.0        51207.0         48094.0   \n",
       "237           310.0  ...             25.2        49495.0         43968.0   \n",
       "238          6512.0  ...             30.1        44013.0         41189.0   \n",
       "239         37727.0  ...             15.0        75931.0         71905.0   \n",
       "240         40215.0  ...             11.7        79511.0         76859.0   \n",
       "241         66699.0  ...             20.8        58925.0         56702.0   \n",
       "242         10279.0  ...             21.9        54102.0         49969.0   \n",
       "243         10881.0  ...             31.9        41819.0         37967.0   \n",
       "244          1983.0  ...             36.8        40676.0         36530.0   \n",
       "245        101815.0  ...             33.9        46377.0         44002.0   \n",
       "246          4841.0  ...             20.9        58776.0         53854.0   \n",
       "247         71799.0  ...             14.0        82436.0         80369.0   \n",
       "248         33639.0  ...             16.5        64900.0         60238.0   \n",
       "249          9392.0  ...             26.9        53822.0         50075.0   \n",
       "\n",
       "     CI90UBINC_2017  POV04_2017  CI90LB04_2017  CI90UB04_2017  PCTPOV04_2017  \\\n",
       "191         72078.0    453522.0       440023.0       467021.0           18.8   \n",
       "192         97596.0         NaN            NaN            NaN            NaN   \n",
       "193         61972.0         NaN            NaN            NaN            NaN   \n",
       "194         65754.0         NaN            NaN            NaN            NaN   \n",
       "195         51295.0         NaN            NaN            NaN            NaN   \n",
       "196         63820.0         NaN            NaN            NaN            NaN   \n",
       "197         59244.0         NaN            NaN            NaN            NaN   \n",
       "198         97564.0         NaN            NaN            NaN            NaN   \n",
       "199         43748.0         NaN            NaN            NaN            NaN   \n",
       "200         83734.0         NaN            NaN            NaN            NaN   \n",
       "201         53067.0         NaN            NaN            NaN            NaN   \n",
       "202         52784.0         NaN            NaN            NaN            NaN   \n",
       "203         50025.0         NaN            NaN            NaN            NaN   \n",
       "204         47202.0         NaN            NaN            NaN            NaN   \n",
       "205         58413.0         NaN            NaN            NaN            NaN   \n",
       "206         51869.0         NaN            NaN            NaN            NaN   \n",
       "207         58451.0         NaN            NaN            NaN            NaN   \n",
       "208         48894.0         NaN            NaN            NaN            NaN   \n",
       "209         63263.0         NaN            NaN            NaN            NaN   \n",
       "210         65572.0         NaN            NaN            NaN            NaN   \n",
       "211         54482.0         NaN            NaN            NaN            NaN   \n",
       "212        118333.0         NaN            NaN            NaN            NaN   \n",
       "213         56529.0         NaN            NaN            NaN            NaN   \n",
       "214         54681.0         NaN            NaN            NaN            NaN   \n",
       "215         50781.0         NaN            NaN            NaN            NaN   \n",
       "216         45310.0         NaN            NaN            NaN            NaN   \n",
       "217         65432.0         NaN            NaN            NaN            NaN   \n",
       "218         72542.0         NaN            NaN            NaN            NaN   \n",
       "219         87897.0         NaN            NaN            NaN            NaN   \n",
       "220         70448.0         NaN            NaN            NaN            NaN   \n",
       "221         87171.0         NaN            NaN            NaN            NaN   \n",
       "222         84130.0         NaN            NaN            NaN            NaN   \n",
       "223         57142.0         NaN            NaN            NaN            NaN   \n",
       "224         64878.0         NaN            NaN            NaN            NaN   \n",
       "225         64615.0         NaN            NaN            NaN            NaN   \n",
       "226         83959.0         NaN            NaN            NaN            NaN   \n",
       "227         61237.0         NaN            NaN            NaN            NaN   \n",
       "228         76955.0         NaN            NaN            NaN            NaN   \n",
       "229        112069.0         NaN            NaN            NaN            NaN   \n",
       "230         62353.0         NaN            NaN            NaN            NaN   \n",
       "231         73940.0         NaN            NaN            NaN            NaN   \n",
       "232        119001.0         NaN            NaN            NaN            NaN   \n",
       "233         72456.0         NaN            NaN            NaN            NaN   \n",
       "234        121118.0         NaN            NaN            NaN            NaN   \n",
       "235         81462.0         NaN            NaN            NaN            NaN   \n",
       "236         54320.0         NaN            NaN            NaN            NaN   \n",
       "237         55022.0         NaN            NaN            NaN            NaN   \n",
       "238         46837.0         NaN            NaN            NaN            NaN   \n",
       "239         79957.0         NaN            NaN            NaN            NaN   \n",
       "240         82163.0         NaN            NaN            NaN            NaN   \n",
       "241         61148.0         NaN            NaN            NaN            NaN   \n",
       "242         58235.0         NaN            NaN            NaN            NaN   \n",
       "243         45671.0         NaN            NaN            NaN            NaN   \n",
       "244         44822.0         NaN            NaN            NaN            NaN   \n",
       "245         48752.0         NaN            NaN            NaN            NaN   \n",
       "246         63698.0         NaN            NaN            NaN            NaN   \n",
       "247         84503.0         NaN            NaN            NaN            NaN   \n",
       "248         69562.0         NaN            NaN            NaN            NaN   \n",
       "249         57569.0         NaN            NaN            NaN            NaN   \n",
       "\n",
       "     CI90LB04P_2017  CI90UB04P_2017  \n",
       "191            18.2            19.4  \n",
       "192             NaN             NaN  \n",
       "193             NaN             NaN  \n",
       "194             NaN             NaN  \n",
       "195             NaN             NaN  \n",
       "196             NaN             NaN  \n",
       "197             NaN             NaN  \n",
       "198             NaN             NaN  \n",
       "199             NaN             NaN  \n",
       "200             NaN             NaN  \n",
       "201             NaN             NaN  \n",
       "202             NaN             NaN  \n",
       "203             NaN             NaN  \n",
       "204             NaN             NaN  \n",
       "205             NaN             NaN  \n",
       "206             NaN             NaN  \n",
       "207             NaN             NaN  \n",
       "208             NaN             NaN  \n",
       "209             NaN             NaN  \n",
       "210             NaN             NaN  \n",
       "211             NaN             NaN  \n",
       "212             NaN             NaN  \n",
       "213             NaN             NaN  \n",
       "214             NaN             NaN  \n",
       "215             NaN             NaN  \n",
       "216             NaN             NaN  \n",
       "217             NaN             NaN  \n",
       "218             NaN             NaN  \n",
       "219             NaN             NaN  \n",
       "220             NaN             NaN  \n",
       "221             NaN             NaN  \n",
       "222             NaN             NaN  \n",
       "223             NaN             NaN  \n",
       "224             NaN             NaN  \n",
       "225             NaN             NaN  \n",
       "226             NaN             NaN  \n",
       "227             NaN             NaN  \n",
       "228             NaN             NaN  \n",
       "229             NaN             NaN  \n",
       "230             NaN             NaN  \n",
       "231             NaN             NaN  \n",
       "232             NaN             NaN  \n",
       "233             NaN             NaN  \n",
       "234             NaN             NaN  \n",
       "235             NaN             NaN  \n",
       "236             NaN             NaN  \n",
       "237             NaN             NaN  \n",
       "238             NaN             NaN  \n",
       "239             NaN             NaN  \n",
       "240             NaN             NaN  \n",
       "241             NaN             NaN  \n",
       "242             NaN             NaN  \n",
       "243             NaN             NaN  \n",
       "244             NaN             NaN  \n",
       "245             NaN             NaN  \n",
       "246             NaN             NaN  \n",
       "247             NaN             NaN  \n",
       "248             NaN             NaN  \n",
       "249             NaN             NaN  \n",
       "\n",
       "[59 rows x 35 columns]"
      ]
     },
     "execution_count": 30,
     "metadata": {},
     "output_type": "execute_result"
    }
   ],
   "source": [
    "median_household_income_califonia = poverty_data[poverty_data['State'] == 'CA']\n",
    "median_household_income_califonia"
   ]
  },
  {
   "cell_type": "code",
   "execution_count": 34,
   "metadata": {},
   "outputs": [
    {
     "data": {
      "application/vnd.plotly.v1+json": {
       "config": {
        "plotlyServerURL": "https://plot.ly"
       },
       "data": [
        {
         "hoverlabel": {
          "namelength": 0
         },
         "hovertemplate": "State=%{x}<br>MEDHHINC_2017=%{y}",
         "legendgroup": "",
         "line": {
          "color": "#636efa",
          "dash": "solid"
         },
         "mode": "lines",
         "name": "",
         "showlegend": false,
         "type": "scatter",
         "x": [
          "AL",
          "AK",
          "AZ",
          "AR",
          "CA",
          "CO",
          "CT",
          "DE",
          "FL",
          "GA",
          "HI",
          "ID",
          "IL",
          "IN",
          "IA",
          "KS",
          "KY",
          "LA",
          "ME",
          "MD",
          "MA",
          "MI",
          "MN",
          "MS",
          "MO",
          "MT",
          "NE",
          "NV",
          "NH",
          "NJ",
          "NM",
          "NY",
          "NC",
          "ND",
          "OH",
          "OK",
          "OR",
          "PA",
          "RI",
          "SC",
          "SD",
          "TN",
          "TX",
          "UT",
          "VT",
          "VA",
          "WA",
          "WV",
          "Wi",
          "WY"
         ],
         "xaxis": "x",
         "y": [
          48193,
          74058,
          56508,
          45916,
          71785,
          69113,
          74428,
          64085,
          52582,
          56117,
          77936,
          52280,
          63044,
          54134,
          58706,
          56382,
          48332,
          46283,
          55980,
          80711,
          77385,
          54840,
          68364,
          43595,
          53506,
          53262,
          59913,
          57932,
          73638,
          80106,
          47086,
          64783,
          52797,
          62400,
          54077,
          50051,
          60123,
          59165,
          62923,
          50675,
          56871,
          51319,
          59195,
          68395,
          58271,
          71518,
          70942,
          43238,
          59300,
          61279
         ],
         "yaxis": "y"
        }
       ],
       "layout": {
        "height": 600,
        "legend": {
         "tracegroupgap": 0
        },
        "template": {
         "data": {
          "bar": [
           {
            "error_x": {
             "color": "#2a3f5f"
            },
            "error_y": {
             "color": "#2a3f5f"
            },
            "marker": {
             "line": {
              "color": "#E5ECF6",
              "width": 0.5
             }
            },
            "type": "bar"
           }
          ],
          "barpolar": [
           {
            "marker": {
             "line": {
              "color": "#E5ECF6",
              "width": 0.5
             }
            },
            "type": "barpolar"
           }
          ],
          "carpet": [
           {
            "aaxis": {
             "endlinecolor": "#2a3f5f",
             "gridcolor": "white",
             "linecolor": "white",
             "minorgridcolor": "white",
             "startlinecolor": "#2a3f5f"
            },
            "baxis": {
             "endlinecolor": "#2a3f5f",
             "gridcolor": "white",
             "linecolor": "white",
             "minorgridcolor": "white",
             "startlinecolor": "#2a3f5f"
            },
            "type": "carpet"
           }
          ],
          "choropleth": [
           {
            "colorbar": {
             "outlinewidth": 0,
             "ticks": ""
            },
            "type": "choropleth"
           }
          ],
          "contour": [
           {
            "colorbar": {
             "outlinewidth": 0,
             "ticks": ""
            },
            "colorscale": [
             [
              0,
              "#0d0887"
             ],
             [
              0.1111111111111111,
              "#46039f"
             ],
             [
              0.2222222222222222,
              "#7201a8"
             ],
             [
              0.3333333333333333,
              "#9c179e"
             ],
             [
              0.4444444444444444,
              "#bd3786"
             ],
             [
              0.5555555555555556,
              "#d8576b"
             ],
             [
              0.6666666666666666,
              "#ed7953"
             ],
             [
              0.7777777777777778,
              "#fb9f3a"
             ],
             [
              0.8888888888888888,
              "#fdca26"
             ],
             [
              1,
              "#f0f921"
             ]
            ],
            "type": "contour"
           }
          ],
          "contourcarpet": [
           {
            "colorbar": {
             "outlinewidth": 0,
             "ticks": ""
            },
            "type": "contourcarpet"
           }
          ],
          "heatmap": [
           {
            "colorbar": {
             "outlinewidth": 0,
             "ticks": ""
            },
            "colorscale": [
             [
              0,
              "#0d0887"
             ],
             [
              0.1111111111111111,
              "#46039f"
             ],
             [
              0.2222222222222222,
              "#7201a8"
             ],
             [
              0.3333333333333333,
              "#9c179e"
             ],
             [
              0.4444444444444444,
              "#bd3786"
             ],
             [
              0.5555555555555556,
              "#d8576b"
             ],
             [
              0.6666666666666666,
              "#ed7953"
             ],
             [
              0.7777777777777778,
              "#fb9f3a"
             ],
             [
              0.8888888888888888,
              "#fdca26"
             ],
             [
              1,
              "#f0f921"
             ]
            ],
            "type": "heatmap"
           }
          ],
          "heatmapgl": [
           {
            "colorbar": {
             "outlinewidth": 0,
             "ticks": ""
            },
            "colorscale": [
             [
              0,
              "#0d0887"
             ],
             [
              0.1111111111111111,
              "#46039f"
             ],
             [
              0.2222222222222222,
              "#7201a8"
             ],
             [
              0.3333333333333333,
              "#9c179e"
             ],
             [
              0.4444444444444444,
              "#bd3786"
             ],
             [
              0.5555555555555556,
              "#d8576b"
             ],
             [
              0.6666666666666666,
              "#ed7953"
             ],
             [
              0.7777777777777778,
              "#fb9f3a"
             ],
             [
              0.8888888888888888,
              "#fdca26"
             ],
             [
              1,
              "#f0f921"
             ]
            ],
            "type": "heatmapgl"
           }
          ],
          "histogram": [
           {
            "marker": {
             "colorbar": {
              "outlinewidth": 0,
              "ticks": ""
             }
            },
            "type": "histogram"
           }
          ],
          "histogram2d": [
           {
            "colorbar": {
             "outlinewidth": 0,
             "ticks": ""
            },
            "colorscale": [
             [
              0,
              "#0d0887"
             ],
             [
              0.1111111111111111,
              "#46039f"
             ],
             [
              0.2222222222222222,
              "#7201a8"
             ],
             [
              0.3333333333333333,
              "#9c179e"
             ],
             [
              0.4444444444444444,
              "#bd3786"
             ],
             [
              0.5555555555555556,
              "#d8576b"
             ],
             [
              0.6666666666666666,
              "#ed7953"
             ],
             [
              0.7777777777777778,
              "#fb9f3a"
             ],
             [
              0.8888888888888888,
              "#fdca26"
             ],
             [
              1,
              "#f0f921"
             ]
            ],
            "type": "histogram2d"
           }
          ],
          "histogram2dcontour": [
           {
            "colorbar": {
             "outlinewidth": 0,
             "ticks": ""
            },
            "colorscale": [
             [
              0,
              "#0d0887"
             ],
             [
              0.1111111111111111,
              "#46039f"
             ],
             [
              0.2222222222222222,
              "#7201a8"
             ],
             [
              0.3333333333333333,
              "#9c179e"
             ],
             [
              0.4444444444444444,
              "#bd3786"
             ],
             [
              0.5555555555555556,
              "#d8576b"
             ],
             [
              0.6666666666666666,
              "#ed7953"
             ],
             [
              0.7777777777777778,
              "#fb9f3a"
             ],
             [
              0.8888888888888888,
              "#fdca26"
             ],
             [
              1,
              "#f0f921"
             ]
            ],
            "type": "histogram2dcontour"
           }
          ],
          "mesh3d": [
           {
            "colorbar": {
             "outlinewidth": 0,
             "ticks": ""
            },
            "type": "mesh3d"
           }
          ],
          "parcoords": [
           {
            "line": {
             "colorbar": {
              "outlinewidth": 0,
              "ticks": ""
             }
            },
            "type": "parcoords"
           }
          ],
          "scatter": [
           {
            "marker": {
             "colorbar": {
              "outlinewidth": 0,
              "ticks": ""
             }
            },
            "type": "scatter"
           }
          ],
          "scatter3d": [
           {
            "line": {
             "colorbar": {
              "outlinewidth": 0,
              "ticks": ""
             }
            },
            "marker": {
             "colorbar": {
              "outlinewidth": 0,
              "ticks": ""
             }
            },
            "type": "scatter3d"
           }
          ],
          "scattercarpet": [
           {
            "marker": {
             "colorbar": {
              "outlinewidth": 0,
              "ticks": ""
             }
            },
            "type": "scattercarpet"
           }
          ],
          "scattergeo": [
           {
            "marker": {
             "colorbar": {
              "outlinewidth": 0,
              "ticks": ""
             }
            },
            "type": "scattergeo"
           }
          ],
          "scattergl": [
           {
            "marker": {
             "colorbar": {
              "outlinewidth": 0,
              "ticks": ""
             }
            },
            "type": "scattergl"
           }
          ],
          "scattermapbox": [
           {
            "marker": {
             "colorbar": {
              "outlinewidth": 0,
              "ticks": ""
             }
            },
            "type": "scattermapbox"
           }
          ],
          "scatterpolar": [
           {
            "marker": {
             "colorbar": {
              "outlinewidth": 0,
              "ticks": ""
             }
            },
            "type": "scatterpolar"
           }
          ],
          "scatterpolargl": [
           {
            "marker": {
             "colorbar": {
              "outlinewidth": 0,
              "ticks": ""
             }
            },
            "type": "scatterpolargl"
           }
          ],
          "scatterternary": [
           {
            "marker": {
             "colorbar": {
              "outlinewidth": 0,
              "ticks": ""
             }
            },
            "type": "scatterternary"
           }
          ],
          "surface": [
           {
            "colorbar": {
             "outlinewidth": 0,
             "ticks": ""
            },
            "colorscale": [
             [
              0,
              "#0d0887"
             ],
             [
              0.1111111111111111,
              "#46039f"
             ],
             [
              0.2222222222222222,
              "#7201a8"
             ],
             [
              0.3333333333333333,
              "#9c179e"
             ],
             [
              0.4444444444444444,
              "#bd3786"
             ],
             [
              0.5555555555555556,
              "#d8576b"
             ],
             [
              0.6666666666666666,
              "#ed7953"
             ],
             [
              0.7777777777777778,
              "#fb9f3a"
             ],
             [
              0.8888888888888888,
              "#fdca26"
             ],
             [
              1,
              "#f0f921"
             ]
            ],
            "type": "surface"
           }
          ],
          "table": [
           {
            "cells": {
             "fill": {
              "color": "#EBF0F8"
             },
             "line": {
              "color": "white"
             }
            },
            "header": {
             "fill": {
              "color": "#C8D4E3"
             },
             "line": {
              "color": "white"
             }
            },
            "type": "table"
           }
          ]
         },
         "layout": {
          "annotationdefaults": {
           "arrowcolor": "#2a3f5f",
           "arrowhead": 0,
           "arrowwidth": 1
          },
          "colorscale": {
           "diverging": [
            [
             0,
             "#8e0152"
            ],
            [
             0.1,
             "#c51b7d"
            ],
            [
             0.2,
             "#de77ae"
            ],
            [
             0.3,
             "#f1b6da"
            ],
            [
             0.4,
             "#fde0ef"
            ],
            [
             0.5,
             "#f7f7f7"
            ],
            [
             0.6,
             "#e6f5d0"
            ],
            [
             0.7,
             "#b8e186"
            ],
            [
             0.8,
             "#7fbc41"
            ],
            [
             0.9,
             "#4d9221"
            ],
            [
             1,
             "#276419"
            ]
           ],
           "sequential": [
            [
             0,
             "#0d0887"
            ],
            [
             0.1111111111111111,
             "#46039f"
            ],
            [
             0.2222222222222222,
             "#7201a8"
            ],
            [
             0.3333333333333333,
             "#9c179e"
            ],
            [
             0.4444444444444444,
             "#bd3786"
            ],
            [
             0.5555555555555556,
             "#d8576b"
            ],
            [
             0.6666666666666666,
             "#ed7953"
            ],
            [
             0.7777777777777778,
             "#fb9f3a"
            ],
            [
             0.8888888888888888,
             "#fdca26"
            ],
            [
             1,
             "#f0f921"
            ]
           ],
           "sequentialminus": [
            [
             0,
             "#0d0887"
            ],
            [
             0.1111111111111111,
             "#46039f"
            ],
            [
             0.2222222222222222,
             "#7201a8"
            ],
            [
             0.3333333333333333,
             "#9c179e"
            ],
            [
             0.4444444444444444,
             "#bd3786"
            ],
            [
             0.5555555555555556,
             "#d8576b"
            ],
            [
             0.6666666666666666,
             "#ed7953"
            ],
            [
             0.7777777777777778,
             "#fb9f3a"
            ],
            [
             0.8888888888888888,
             "#fdca26"
            ],
            [
             1,
             "#f0f921"
            ]
           ]
          },
          "colorway": [
           "#636efa",
           "#EF553B",
           "#00cc96",
           "#ab63fa",
           "#FFA15A",
           "#19d3f3",
           "#FF6692",
           "#B6E880",
           "#FF97FF",
           "#FECB52"
          ],
          "font": {
           "color": "#2a3f5f"
          },
          "geo": {
           "bgcolor": "white",
           "lakecolor": "white",
           "landcolor": "#E5ECF6",
           "showlakes": true,
           "showland": true,
           "subunitcolor": "white"
          },
          "hoverlabel": {
           "align": "left"
          },
          "hovermode": "closest",
          "mapbox": {
           "style": "light"
          },
          "paper_bgcolor": "white",
          "plot_bgcolor": "#E5ECF6",
          "polar": {
           "angularaxis": {
            "gridcolor": "white",
            "linecolor": "white",
            "ticks": ""
           },
           "bgcolor": "#E5ECF6",
           "radialaxis": {
            "gridcolor": "white",
            "linecolor": "white",
            "ticks": ""
           }
          },
          "scene": {
           "xaxis": {
            "backgroundcolor": "#E5ECF6",
            "gridcolor": "white",
            "gridwidth": 2,
            "linecolor": "white",
            "showbackground": true,
            "ticks": "",
            "zerolinecolor": "white"
           },
           "yaxis": {
            "backgroundcolor": "#E5ECF6",
            "gridcolor": "white",
            "gridwidth": 2,
            "linecolor": "white",
            "showbackground": true,
            "ticks": "",
            "zerolinecolor": "white"
           },
           "zaxis": {
            "backgroundcolor": "#E5ECF6",
            "gridcolor": "white",
            "gridwidth": 2,
            "linecolor": "white",
            "showbackground": true,
            "ticks": "",
            "zerolinecolor": "white"
           }
          },
          "shapedefaults": {
           "line": {
            "color": "#2a3f5f"
           }
          },
          "ternary": {
           "aaxis": {
            "gridcolor": "white",
            "linecolor": "white",
            "ticks": ""
           },
           "baxis": {
            "gridcolor": "white",
            "linecolor": "white",
            "ticks": ""
           },
           "bgcolor": "#E5ECF6",
           "caxis": {
            "gridcolor": "white",
            "linecolor": "white",
            "ticks": ""
           }
          },
          "title": {
           "x": 0.05
          },
          "xaxis": {
           "automargin": true,
           "gridcolor": "white",
           "linecolor": "white",
           "ticks": "",
           "zerolinecolor": "white",
           "zerolinewidth": 2
          },
          "yaxis": {
           "automargin": true,
           "gridcolor": "white",
           "linecolor": "white",
           "ticks": "",
           "zerolinecolor": "white",
           "zerolinewidth": 2
          }
         }
        },
        "title": {
         "text": "Median Household Income 2017"
        },
        "xaxis": {
         "anchor": "y",
         "domain": [
          0,
          0.98
         ],
         "title": {
          "text": "State"
         }
        },
        "yaxis": {
         "anchor": "x",
         "domain": [
          0,
          1
         ],
         "title": {
          "text": "MEDHHINC_2017"
         }
        }
       }
      },
      "text/html": [
       "<div>\n",
       "        \n",
       "        \n",
       "            <div id=\"5ec4292b-407e-484a-8b3d-abc16f789de4\" class=\"plotly-graph-div\" style=\"height:600px; width:100%;\"></div>\n",
       "            <script type=\"text/javascript\">\n",
       "                require([\"plotly\"], function(Plotly) {\n",
       "                    window.PLOTLYENV=window.PLOTLYENV || {};\n",
       "                    \n",
       "                if (document.getElementById(\"5ec4292b-407e-484a-8b3d-abc16f789de4\")) {\n",
       "                    Plotly.newPlot(\n",
       "                        '5ec4292b-407e-484a-8b3d-abc16f789de4',\n",
       "                        [{\"hoverlabel\": {\"namelength\": 0}, \"hovertemplate\": \"State=%{x}<br>MEDHHINC_2017=%{y}\", \"legendgroup\": \"\", \"line\": {\"color\": \"#636efa\", \"dash\": \"solid\"}, \"mode\": \"lines\", \"name\": \"\", \"showlegend\": false, \"type\": \"scatter\", \"x\": [\"AL\", \"AK\", \"AZ\", \"AR\", \"CA\", \"CO\", \"CT\", \"DE\", \"FL\", \"GA\", \"HI\", \"ID\", \"IL\", \"IN\", \"IA\", \"KS\", \"KY\", \"LA\", \"ME\", \"MD\", \"MA\", \"MI\", \"MN\", \"MS\", \"MO\", \"MT\", \"NE\", \"NV\", \"NH\", \"NJ\", \"NM\", \"NY\", \"NC\", \"ND\", \"OH\", \"OK\", \"OR\", \"PA\", \"RI\", \"SC\", \"SD\", \"TN\", \"TX\", \"UT\", \"VT\", \"VA\", \"WA\", \"WV\", \"Wi\", \"WY\"], \"xaxis\": \"x\", \"y\": [48193.0, 74058.0, 56508.0, 45916.0, 71785.0, 69113.0, 74428.0, 64085.0, 52582.0, 56117.0, 77936.0, 52280.0, 63044.0, 54134.0, 58706.0, 56382.0, 48332.0, 46283.0, 55980.0, 80711.0, 77385.0, 54840.0, 68364.0, 43595.0, 53506.0, 53262.0, 59913.0, 57932.0, 73638.0, 80106.0, 47086.0, 64783.0, 52797.0, 62400.0, 54077.0, 50051.0, 60123.0, 59165.0, 62923.0, 50675.0, 56871.0, 51319.0, 59195.0, 68395.0, 58271.0, 71518.0, 70942.0, 43238.0, 59300.0, 61279.0], \"yaxis\": \"y\"}],\n",
       "                        {\"height\": 600, \"legend\": {\"tracegroupgap\": 0}, \"template\": {\"data\": {\"bar\": [{\"error_x\": {\"color\": \"#2a3f5f\"}, \"error_y\": {\"color\": \"#2a3f5f\"}, \"marker\": {\"line\": {\"color\": \"#E5ECF6\", \"width\": 0.5}}, \"type\": \"bar\"}], \"barpolar\": [{\"marker\": {\"line\": {\"color\": \"#E5ECF6\", \"width\": 0.5}}, \"type\": \"barpolar\"}], \"carpet\": [{\"aaxis\": {\"endlinecolor\": \"#2a3f5f\", \"gridcolor\": \"white\", \"linecolor\": \"white\", \"minorgridcolor\": \"white\", \"startlinecolor\": \"#2a3f5f\"}, \"baxis\": {\"endlinecolor\": \"#2a3f5f\", \"gridcolor\": \"white\", \"linecolor\": \"white\", \"minorgridcolor\": \"white\", \"startlinecolor\": \"#2a3f5f\"}, \"type\": \"carpet\"}], \"choropleth\": [{\"colorbar\": {\"outlinewidth\": 0, \"ticks\": \"\"}, \"type\": \"choropleth\"}], \"contour\": [{\"colorbar\": {\"outlinewidth\": 0, \"ticks\": \"\"}, \"colorscale\": [[0.0, \"#0d0887\"], [0.1111111111111111, \"#46039f\"], [0.2222222222222222, \"#7201a8\"], [0.3333333333333333, \"#9c179e\"], [0.4444444444444444, \"#bd3786\"], [0.5555555555555556, \"#d8576b\"], [0.6666666666666666, \"#ed7953\"], [0.7777777777777778, \"#fb9f3a\"], [0.8888888888888888, \"#fdca26\"], [1.0, \"#f0f921\"]], \"type\": \"contour\"}], \"contourcarpet\": [{\"colorbar\": {\"outlinewidth\": 0, \"ticks\": \"\"}, \"type\": \"contourcarpet\"}], \"heatmap\": [{\"colorbar\": {\"outlinewidth\": 0, \"ticks\": \"\"}, \"colorscale\": [[0.0, \"#0d0887\"], [0.1111111111111111, \"#46039f\"], [0.2222222222222222, \"#7201a8\"], [0.3333333333333333, \"#9c179e\"], [0.4444444444444444, \"#bd3786\"], [0.5555555555555556, \"#d8576b\"], [0.6666666666666666, \"#ed7953\"], [0.7777777777777778, \"#fb9f3a\"], [0.8888888888888888, \"#fdca26\"], [1.0, \"#f0f921\"]], \"type\": \"heatmap\"}], \"heatmapgl\": [{\"colorbar\": {\"outlinewidth\": 0, \"ticks\": \"\"}, \"colorscale\": [[0.0, \"#0d0887\"], [0.1111111111111111, \"#46039f\"], [0.2222222222222222, \"#7201a8\"], [0.3333333333333333, \"#9c179e\"], [0.4444444444444444, \"#bd3786\"], [0.5555555555555556, \"#d8576b\"], [0.6666666666666666, \"#ed7953\"], [0.7777777777777778, \"#fb9f3a\"], [0.8888888888888888, \"#fdca26\"], [1.0, \"#f0f921\"]], \"type\": \"heatmapgl\"}], \"histogram\": [{\"marker\": {\"colorbar\": {\"outlinewidth\": 0, \"ticks\": \"\"}}, \"type\": \"histogram\"}], \"histogram2d\": [{\"colorbar\": {\"outlinewidth\": 0, \"ticks\": \"\"}, \"colorscale\": [[0.0, \"#0d0887\"], [0.1111111111111111, \"#46039f\"], [0.2222222222222222, \"#7201a8\"], [0.3333333333333333, \"#9c179e\"], [0.4444444444444444, \"#bd3786\"], [0.5555555555555556, \"#d8576b\"], [0.6666666666666666, \"#ed7953\"], [0.7777777777777778, \"#fb9f3a\"], [0.8888888888888888, \"#fdca26\"], [1.0, \"#f0f921\"]], \"type\": \"histogram2d\"}], \"histogram2dcontour\": [{\"colorbar\": {\"outlinewidth\": 0, \"ticks\": \"\"}, \"colorscale\": [[0.0, \"#0d0887\"], [0.1111111111111111, \"#46039f\"], [0.2222222222222222, \"#7201a8\"], [0.3333333333333333, \"#9c179e\"], [0.4444444444444444, \"#bd3786\"], [0.5555555555555556, \"#d8576b\"], [0.6666666666666666, \"#ed7953\"], [0.7777777777777778, \"#fb9f3a\"], [0.8888888888888888, \"#fdca26\"], [1.0, \"#f0f921\"]], \"type\": \"histogram2dcontour\"}], \"mesh3d\": [{\"colorbar\": {\"outlinewidth\": 0, \"ticks\": \"\"}, \"type\": \"mesh3d\"}], \"parcoords\": [{\"line\": {\"colorbar\": {\"outlinewidth\": 0, \"ticks\": \"\"}}, \"type\": \"parcoords\"}], \"scatter\": [{\"marker\": {\"colorbar\": {\"outlinewidth\": 0, \"ticks\": \"\"}}, \"type\": \"scatter\"}], \"scatter3d\": [{\"line\": {\"colorbar\": {\"outlinewidth\": 0, \"ticks\": \"\"}}, \"marker\": {\"colorbar\": {\"outlinewidth\": 0, \"ticks\": \"\"}}, \"type\": \"scatter3d\"}], \"scattercarpet\": [{\"marker\": {\"colorbar\": {\"outlinewidth\": 0, \"ticks\": \"\"}}, \"type\": \"scattercarpet\"}], \"scattergeo\": [{\"marker\": {\"colorbar\": {\"outlinewidth\": 0, \"ticks\": \"\"}}, \"type\": \"scattergeo\"}], \"scattergl\": [{\"marker\": {\"colorbar\": {\"outlinewidth\": 0, \"ticks\": \"\"}}, \"type\": \"scattergl\"}], \"scattermapbox\": [{\"marker\": {\"colorbar\": {\"outlinewidth\": 0, \"ticks\": \"\"}}, \"type\": \"scattermapbox\"}], \"scatterpolar\": [{\"marker\": {\"colorbar\": {\"outlinewidth\": 0, \"ticks\": \"\"}}, \"type\": \"scatterpolar\"}], \"scatterpolargl\": [{\"marker\": {\"colorbar\": {\"outlinewidth\": 0, \"ticks\": \"\"}}, \"type\": \"scatterpolargl\"}], \"scatterternary\": [{\"marker\": {\"colorbar\": {\"outlinewidth\": 0, \"ticks\": \"\"}}, \"type\": \"scatterternary\"}], \"surface\": [{\"colorbar\": {\"outlinewidth\": 0, \"ticks\": \"\"}, \"colorscale\": [[0.0, \"#0d0887\"], [0.1111111111111111, \"#46039f\"], [0.2222222222222222, \"#7201a8\"], [0.3333333333333333, \"#9c179e\"], [0.4444444444444444, \"#bd3786\"], [0.5555555555555556, \"#d8576b\"], [0.6666666666666666, \"#ed7953\"], [0.7777777777777778, \"#fb9f3a\"], [0.8888888888888888, \"#fdca26\"], [1.0, \"#f0f921\"]], \"type\": \"surface\"}], \"table\": [{\"cells\": {\"fill\": {\"color\": \"#EBF0F8\"}, \"line\": {\"color\": \"white\"}}, \"header\": {\"fill\": {\"color\": \"#C8D4E3\"}, \"line\": {\"color\": \"white\"}}, \"type\": \"table\"}]}, \"layout\": {\"annotationdefaults\": {\"arrowcolor\": \"#2a3f5f\", \"arrowhead\": 0, \"arrowwidth\": 1}, \"colorscale\": {\"diverging\": [[0, \"#8e0152\"], [0.1, \"#c51b7d\"], [0.2, \"#de77ae\"], [0.3, \"#f1b6da\"], [0.4, \"#fde0ef\"], [0.5, \"#f7f7f7\"], [0.6, \"#e6f5d0\"], [0.7, \"#b8e186\"], [0.8, \"#7fbc41\"], [0.9, \"#4d9221\"], [1, \"#276419\"]], \"sequential\": [[0.0, \"#0d0887\"], [0.1111111111111111, \"#46039f\"], [0.2222222222222222, \"#7201a8\"], [0.3333333333333333, \"#9c179e\"], [0.4444444444444444, \"#bd3786\"], [0.5555555555555556, \"#d8576b\"], [0.6666666666666666, \"#ed7953\"], [0.7777777777777778, \"#fb9f3a\"], [0.8888888888888888, \"#fdca26\"], [1.0, \"#f0f921\"]], \"sequentialminus\": [[0.0, \"#0d0887\"], [0.1111111111111111, \"#46039f\"], [0.2222222222222222, \"#7201a8\"], [0.3333333333333333, \"#9c179e\"], [0.4444444444444444, \"#bd3786\"], [0.5555555555555556, \"#d8576b\"], [0.6666666666666666, \"#ed7953\"], [0.7777777777777778, \"#fb9f3a\"], [0.8888888888888888, \"#fdca26\"], [1.0, \"#f0f921\"]]}, \"colorway\": [\"#636efa\", \"#EF553B\", \"#00cc96\", \"#ab63fa\", \"#FFA15A\", \"#19d3f3\", \"#FF6692\", \"#B6E880\", \"#FF97FF\", \"#FECB52\"], \"font\": {\"color\": \"#2a3f5f\"}, \"geo\": {\"bgcolor\": \"white\", \"lakecolor\": \"white\", \"landcolor\": \"#E5ECF6\", \"showlakes\": true, \"showland\": true, \"subunitcolor\": \"white\"}, \"hoverlabel\": {\"align\": \"left\"}, \"hovermode\": \"closest\", \"mapbox\": {\"style\": \"light\"}, \"paper_bgcolor\": \"white\", \"plot_bgcolor\": \"#E5ECF6\", \"polar\": {\"angularaxis\": {\"gridcolor\": \"white\", \"linecolor\": \"white\", \"ticks\": \"\"}, \"bgcolor\": \"#E5ECF6\", \"radialaxis\": {\"gridcolor\": \"white\", \"linecolor\": \"white\", \"ticks\": \"\"}}, \"scene\": {\"xaxis\": {\"backgroundcolor\": \"#E5ECF6\", \"gridcolor\": \"white\", \"gridwidth\": 2, \"linecolor\": \"white\", \"showbackground\": true, \"ticks\": \"\", \"zerolinecolor\": \"white\"}, \"yaxis\": {\"backgroundcolor\": \"#E5ECF6\", \"gridcolor\": \"white\", \"gridwidth\": 2, \"linecolor\": \"white\", \"showbackground\": true, \"ticks\": \"\", \"zerolinecolor\": \"white\"}, \"zaxis\": {\"backgroundcolor\": \"#E5ECF6\", \"gridcolor\": \"white\", \"gridwidth\": 2, \"linecolor\": \"white\", \"showbackground\": true, \"ticks\": \"\", \"zerolinecolor\": \"white\"}}, \"shapedefaults\": {\"line\": {\"color\": \"#2a3f5f\"}}, \"ternary\": {\"aaxis\": {\"gridcolor\": \"white\", \"linecolor\": \"white\", \"ticks\": \"\"}, \"baxis\": {\"gridcolor\": \"white\", \"linecolor\": \"white\", \"ticks\": \"\"}, \"bgcolor\": \"#E5ECF6\", \"caxis\": {\"gridcolor\": \"white\", \"linecolor\": \"white\", \"ticks\": \"\"}}, \"title\": {\"x\": 0.05}, \"xaxis\": {\"automargin\": true, \"gridcolor\": \"white\", \"linecolor\": \"white\", \"ticks\": \"\", \"zerolinecolor\": \"white\", \"zerolinewidth\": 2}, \"yaxis\": {\"automargin\": true, \"gridcolor\": \"white\", \"linecolor\": \"white\", \"ticks\": \"\", \"zerolinecolor\": \"white\", \"zerolinewidth\": 2}}}, \"title\": {\"text\": \"Median Household Income 2017\"}, \"xaxis\": {\"anchor\": \"y\", \"domain\": [0.0, 0.98], \"title\": {\"text\": \"State\"}}, \"yaxis\": {\"anchor\": \"x\", \"domain\": [0.0, 1.0], \"title\": {\"text\": \"MEDHHINC_2017\"}}},\n",
       "                        {\"responsive\": true}\n",
       "                    ).then(function(){\n",
       "                            \n",
       "var gd = document.getElementById('5ec4292b-407e-484a-8b3d-abc16f789de4');\n",
       "var x = new MutationObserver(function (mutations, observer) {{\n",
       "        var display = window.getComputedStyle(gd).display;\n",
       "        if (!display || display === 'none') {{\n",
       "            console.log([gd, 'removed!']);\n",
       "            Plotly.purge(gd);\n",
       "            observer.disconnect();\n",
       "        }}\n",
       "}});\n",
       "\n",
       "// Listen for the removal of the full notebook cells\n",
       "var notebookContainer = gd.closest('#notebook-container');\n",
       "if (notebookContainer) {{\n",
       "    x.observe(notebookContainer, {childList: true});\n",
       "}}\n",
       "\n",
       "// Listen for the clearing of the current output cell\n",
       "var outputEl = gd.closest('.output');\n",
       "if (outputEl) {{\n",
       "    x.observe(outputEl, {childList: true});\n",
       "}}\n",
       "\n",
       "                        })\n",
       "                };\n",
       "                });\n",
       "            </script>\n",
       "        </div>"
      ]
     },
     "metadata": {},
     "output_type": "display_data"
    }
   ],
   "source": [
    "median_household_income_2017 = px.line(states, x='State', y='MEDHHINC_2017', title='Median Household Income 2017')\n",
    "median_household_income_2017.show()"
   ]
  },
  {
   "cell_type": "code",
   "execution_count": 37,
   "metadata": {},
   "outputs": [
    {
     "data": {
      "application/vnd.plotly.v1+json": {
       "config": {
        "plotlyServerURL": "https://plot.ly"
       },
       "data": [
        {
         "name": "Poverty Estimates 2017",
         "type": "scatter",
         "x": [
          "AL",
          "AK",
          "AZ",
          "AR",
          "CA",
          "CO",
          "CT",
          "DE",
          "FL",
          "GA",
          "HI",
          "ID",
          "IL",
          "IN",
          "IA",
          "KS",
          "KY",
          "LA",
          "ME",
          "MD",
          "MA",
          "MI",
          "MN",
          "MS",
          "MO",
          "MT",
          "NE",
          "NV",
          "NH",
          "NJ",
          "NM",
          "NY",
          "NC",
          "ND",
          "OH",
          "OK",
          "OR",
          "PA",
          "RI",
          "SC",
          "SD",
          "TN",
          "TX",
          "UT",
          "VT",
          "VA",
          "WA",
          "WV",
          "Wi",
          "WY"
         ],
         "xaxis": "x",
         "y": [
          802263,
          79428,
          1023337,
          475883,
          5164169,
          566118,
          338651,
          121592,
          2901876,
          1536069,
          132201,
          211937,
          1568670,
          860753,
          328629,
          335371,
          738563,
          893827,
          147413,
          556549,
          692943,
          1373358,
          517348,
          573717,
          793001,
          130616,
          198984,
          392857,
          100550,
          882132,
          388790,
          2735578,
          1468032,
          74057,
          1575401,
          600911,
          534846,
          1548557,
          125208,
          750359,
          107522,
          980394,
          4080377,
          296138,
          65068,
          876438,
          799675,
          326502,
          640174,
          61319
         ],
         "yaxis": "y"
        },
        {
         "name": "Median Household Income 2017",
         "type": "scatter",
         "x": [
          "AL",
          "AK",
          "AZ",
          "AR",
          "CA",
          "CO",
          "CT",
          "DE",
          "FL",
          "GA",
          "HI",
          "ID",
          "IL",
          "IN",
          "IA",
          "KS",
          "KY",
          "LA",
          "ME",
          "MD",
          "MA",
          "MI",
          "MN",
          "MS",
          "MO",
          "MT",
          "NE",
          "NV",
          "NH",
          "NJ",
          "NM",
          "NY",
          "NC",
          "ND",
          "OH",
          "OK",
          "OR",
          "PA",
          "RI",
          "SC",
          "SD",
          "TN",
          "TX",
          "UT",
          "VT",
          "VA",
          "WA",
          "WV",
          "Wi",
          "WY"
         ],
         "xaxis": "x",
         "y": [
          48193,
          74058,
          56508,
          45916,
          71785,
          69113,
          74428,
          64085,
          52582,
          56117,
          77936,
          52280,
          63044,
          54134,
          58706,
          56382,
          48332,
          46283,
          55980,
          80711,
          77385,
          54840,
          68364,
          43595,
          53506,
          53262,
          59913,
          57932,
          73638,
          80106,
          47086,
          64783,
          52797,
          62400,
          54077,
          50051,
          60123,
          59165,
          62923,
          50675,
          56871,
          51319,
          59195,
          68395,
          58271,
          71518,
          70942,
          43238,
          59300,
          61279
         ],
         "yaxis": "y2"
        }
       ],
       "layout": {
        "template": {
         "data": {
          "bar": [
           {
            "error_x": {
             "color": "#2a3f5f"
            },
            "error_y": {
             "color": "#2a3f5f"
            },
            "marker": {
             "line": {
              "color": "#E5ECF6",
              "width": 0.5
             }
            },
            "type": "bar"
           }
          ],
          "barpolar": [
           {
            "marker": {
             "line": {
              "color": "#E5ECF6",
              "width": 0.5
             }
            },
            "type": "barpolar"
           }
          ],
          "carpet": [
           {
            "aaxis": {
             "endlinecolor": "#2a3f5f",
             "gridcolor": "white",
             "linecolor": "white",
             "minorgridcolor": "white",
             "startlinecolor": "#2a3f5f"
            },
            "baxis": {
             "endlinecolor": "#2a3f5f",
             "gridcolor": "white",
             "linecolor": "white",
             "minorgridcolor": "white",
             "startlinecolor": "#2a3f5f"
            },
            "type": "carpet"
           }
          ],
          "choropleth": [
           {
            "colorbar": {
             "outlinewidth": 0,
             "ticks": ""
            },
            "type": "choropleth"
           }
          ],
          "contour": [
           {
            "colorbar": {
             "outlinewidth": 0,
             "ticks": ""
            },
            "colorscale": [
             [
              0,
              "#0d0887"
             ],
             [
              0.1111111111111111,
              "#46039f"
             ],
             [
              0.2222222222222222,
              "#7201a8"
             ],
             [
              0.3333333333333333,
              "#9c179e"
             ],
             [
              0.4444444444444444,
              "#bd3786"
             ],
             [
              0.5555555555555556,
              "#d8576b"
             ],
             [
              0.6666666666666666,
              "#ed7953"
             ],
             [
              0.7777777777777778,
              "#fb9f3a"
             ],
             [
              0.8888888888888888,
              "#fdca26"
             ],
             [
              1,
              "#f0f921"
             ]
            ],
            "type": "contour"
           }
          ],
          "contourcarpet": [
           {
            "colorbar": {
             "outlinewidth": 0,
             "ticks": ""
            },
            "type": "contourcarpet"
           }
          ],
          "heatmap": [
           {
            "colorbar": {
             "outlinewidth": 0,
             "ticks": ""
            },
            "colorscale": [
             [
              0,
              "#0d0887"
             ],
             [
              0.1111111111111111,
              "#46039f"
             ],
             [
              0.2222222222222222,
              "#7201a8"
             ],
             [
              0.3333333333333333,
              "#9c179e"
             ],
             [
              0.4444444444444444,
              "#bd3786"
             ],
             [
              0.5555555555555556,
              "#d8576b"
             ],
             [
              0.6666666666666666,
              "#ed7953"
             ],
             [
              0.7777777777777778,
              "#fb9f3a"
             ],
             [
              0.8888888888888888,
              "#fdca26"
             ],
             [
              1,
              "#f0f921"
             ]
            ],
            "type": "heatmap"
           }
          ],
          "heatmapgl": [
           {
            "colorbar": {
             "outlinewidth": 0,
             "ticks": ""
            },
            "colorscale": [
             [
              0,
              "#0d0887"
             ],
             [
              0.1111111111111111,
              "#46039f"
             ],
             [
              0.2222222222222222,
              "#7201a8"
             ],
             [
              0.3333333333333333,
              "#9c179e"
             ],
             [
              0.4444444444444444,
              "#bd3786"
             ],
             [
              0.5555555555555556,
              "#d8576b"
             ],
             [
              0.6666666666666666,
              "#ed7953"
             ],
             [
              0.7777777777777778,
              "#fb9f3a"
             ],
             [
              0.8888888888888888,
              "#fdca26"
             ],
             [
              1,
              "#f0f921"
             ]
            ],
            "type": "heatmapgl"
           }
          ],
          "histogram": [
           {
            "marker": {
             "colorbar": {
              "outlinewidth": 0,
              "ticks": ""
             }
            },
            "type": "histogram"
           }
          ],
          "histogram2d": [
           {
            "colorbar": {
             "outlinewidth": 0,
             "ticks": ""
            },
            "colorscale": [
             [
              0,
              "#0d0887"
             ],
             [
              0.1111111111111111,
              "#46039f"
             ],
             [
              0.2222222222222222,
              "#7201a8"
             ],
             [
              0.3333333333333333,
              "#9c179e"
             ],
             [
              0.4444444444444444,
              "#bd3786"
             ],
             [
              0.5555555555555556,
              "#d8576b"
             ],
             [
              0.6666666666666666,
              "#ed7953"
             ],
             [
              0.7777777777777778,
              "#fb9f3a"
             ],
             [
              0.8888888888888888,
              "#fdca26"
             ],
             [
              1,
              "#f0f921"
             ]
            ],
            "type": "histogram2d"
           }
          ],
          "histogram2dcontour": [
           {
            "colorbar": {
             "outlinewidth": 0,
             "ticks": ""
            },
            "colorscale": [
             [
              0,
              "#0d0887"
             ],
             [
              0.1111111111111111,
              "#46039f"
             ],
             [
              0.2222222222222222,
              "#7201a8"
             ],
             [
              0.3333333333333333,
              "#9c179e"
             ],
             [
              0.4444444444444444,
              "#bd3786"
             ],
             [
              0.5555555555555556,
              "#d8576b"
             ],
             [
              0.6666666666666666,
              "#ed7953"
             ],
             [
              0.7777777777777778,
              "#fb9f3a"
             ],
             [
              0.8888888888888888,
              "#fdca26"
             ],
             [
              1,
              "#f0f921"
             ]
            ],
            "type": "histogram2dcontour"
           }
          ],
          "mesh3d": [
           {
            "colorbar": {
             "outlinewidth": 0,
             "ticks": ""
            },
            "type": "mesh3d"
           }
          ],
          "parcoords": [
           {
            "line": {
             "colorbar": {
              "outlinewidth": 0,
              "ticks": ""
             }
            },
            "type": "parcoords"
           }
          ],
          "scatter": [
           {
            "marker": {
             "colorbar": {
              "outlinewidth": 0,
              "ticks": ""
             }
            },
            "type": "scatter"
           }
          ],
          "scatter3d": [
           {
            "line": {
             "colorbar": {
              "outlinewidth": 0,
              "ticks": ""
             }
            },
            "marker": {
             "colorbar": {
              "outlinewidth": 0,
              "ticks": ""
             }
            },
            "type": "scatter3d"
           }
          ],
          "scattercarpet": [
           {
            "marker": {
             "colorbar": {
              "outlinewidth": 0,
              "ticks": ""
             }
            },
            "type": "scattercarpet"
           }
          ],
          "scattergeo": [
           {
            "marker": {
             "colorbar": {
              "outlinewidth": 0,
              "ticks": ""
             }
            },
            "type": "scattergeo"
           }
          ],
          "scattergl": [
           {
            "marker": {
             "colorbar": {
              "outlinewidth": 0,
              "ticks": ""
             }
            },
            "type": "scattergl"
           }
          ],
          "scattermapbox": [
           {
            "marker": {
             "colorbar": {
              "outlinewidth": 0,
              "ticks": ""
             }
            },
            "type": "scattermapbox"
           }
          ],
          "scatterpolar": [
           {
            "marker": {
             "colorbar": {
              "outlinewidth": 0,
              "ticks": ""
             }
            },
            "type": "scatterpolar"
           }
          ],
          "scatterpolargl": [
           {
            "marker": {
             "colorbar": {
              "outlinewidth": 0,
              "ticks": ""
             }
            },
            "type": "scatterpolargl"
           }
          ],
          "scatterternary": [
           {
            "marker": {
             "colorbar": {
              "outlinewidth": 0,
              "ticks": ""
             }
            },
            "type": "scatterternary"
           }
          ],
          "surface": [
           {
            "colorbar": {
             "outlinewidth": 0,
             "ticks": ""
            },
            "colorscale": [
             [
              0,
              "#0d0887"
             ],
             [
              0.1111111111111111,
              "#46039f"
             ],
             [
              0.2222222222222222,
              "#7201a8"
             ],
             [
              0.3333333333333333,
              "#9c179e"
             ],
             [
              0.4444444444444444,
              "#bd3786"
             ],
             [
              0.5555555555555556,
              "#d8576b"
             ],
             [
              0.6666666666666666,
              "#ed7953"
             ],
             [
              0.7777777777777778,
              "#fb9f3a"
             ],
             [
              0.8888888888888888,
              "#fdca26"
             ],
             [
              1,
              "#f0f921"
             ]
            ],
            "type": "surface"
           }
          ],
          "table": [
           {
            "cells": {
             "fill": {
              "color": "#EBF0F8"
             },
             "line": {
              "color": "white"
             }
            },
            "header": {
             "fill": {
              "color": "#C8D4E3"
             },
             "line": {
              "color": "white"
             }
            },
            "type": "table"
           }
          ]
         },
         "layout": {
          "annotationdefaults": {
           "arrowcolor": "#2a3f5f",
           "arrowhead": 0,
           "arrowwidth": 1
          },
          "colorscale": {
           "diverging": [
            [
             0,
             "#8e0152"
            ],
            [
             0.1,
             "#c51b7d"
            ],
            [
             0.2,
             "#de77ae"
            ],
            [
             0.3,
             "#f1b6da"
            ],
            [
             0.4,
             "#fde0ef"
            ],
            [
             0.5,
             "#f7f7f7"
            ],
            [
             0.6,
             "#e6f5d0"
            ],
            [
             0.7,
             "#b8e186"
            ],
            [
             0.8,
             "#7fbc41"
            ],
            [
             0.9,
             "#4d9221"
            ],
            [
             1,
             "#276419"
            ]
           ],
           "sequential": [
            [
             0,
             "#0d0887"
            ],
            [
             0.1111111111111111,
             "#46039f"
            ],
            [
             0.2222222222222222,
             "#7201a8"
            ],
            [
             0.3333333333333333,
             "#9c179e"
            ],
            [
             0.4444444444444444,
             "#bd3786"
            ],
            [
             0.5555555555555556,
             "#d8576b"
            ],
            [
             0.6666666666666666,
             "#ed7953"
            ],
            [
             0.7777777777777778,
             "#fb9f3a"
            ],
            [
             0.8888888888888888,
             "#fdca26"
            ],
            [
             1,
             "#f0f921"
            ]
           ],
           "sequentialminus": [
            [
             0,
             "#0d0887"
            ],
            [
             0.1111111111111111,
             "#46039f"
            ],
            [
             0.2222222222222222,
             "#7201a8"
            ],
            [
             0.3333333333333333,
             "#9c179e"
            ],
            [
             0.4444444444444444,
             "#bd3786"
            ],
            [
             0.5555555555555556,
             "#d8576b"
            ],
            [
             0.6666666666666666,
             "#ed7953"
            ],
            [
             0.7777777777777778,
             "#fb9f3a"
            ],
            [
             0.8888888888888888,
             "#fdca26"
            ],
            [
             1,
             "#f0f921"
            ]
           ]
          },
          "colorway": [
           "#636efa",
           "#EF553B",
           "#00cc96",
           "#ab63fa",
           "#FFA15A",
           "#19d3f3",
           "#FF6692",
           "#B6E880",
           "#FF97FF",
           "#FECB52"
          ],
          "font": {
           "color": "#2a3f5f"
          },
          "geo": {
           "bgcolor": "white",
           "lakecolor": "white",
           "landcolor": "#E5ECF6",
           "showlakes": true,
           "showland": true,
           "subunitcolor": "white"
          },
          "hoverlabel": {
           "align": "left"
          },
          "hovermode": "closest",
          "mapbox": {
           "style": "light"
          },
          "paper_bgcolor": "white",
          "plot_bgcolor": "#E5ECF6",
          "polar": {
           "angularaxis": {
            "gridcolor": "white",
            "linecolor": "white",
            "ticks": ""
           },
           "bgcolor": "#E5ECF6",
           "radialaxis": {
            "gridcolor": "white",
            "linecolor": "white",
            "ticks": ""
           }
          },
          "scene": {
           "xaxis": {
            "backgroundcolor": "#E5ECF6",
            "gridcolor": "white",
            "gridwidth": 2,
            "linecolor": "white",
            "showbackground": true,
            "ticks": "",
            "zerolinecolor": "white"
           },
           "yaxis": {
            "backgroundcolor": "#E5ECF6",
            "gridcolor": "white",
            "gridwidth": 2,
            "linecolor": "white",
            "showbackground": true,
            "ticks": "",
            "zerolinecolor": "white"
           },
           "zaxis": {
            "backgroundcolor": "#E5ECF6",
            "gridcolor": "white",
            "gridwidth": 2,
            "linecolor": "white",
            "showbackground": true,
            "ticks": "",
            "zerolinecolor": "white"
           }
          },
          "shapedefaults": {
           "line": {
            "color": "#2a3f5f"
           }
          },
          "ternary": {
           "aaxis": {
            "gridcolor": "white",
            "linecolor": "white",
            "ticks": ""
           },
           "baxis": {
            "gridcolor": "white",
            "linecolor": "white",
            "ticks": ""
           },
           "bgcolor": "#E5ECF6",
           "caxis": {
            "gridcolor": "white",
            "linecolor": "white",
            "ticks": ""
           }
          },
          "title": {
           "x": 0.05
          },
          "xaxis": {
           "automargin": true,
           "gridcolor": "white",
           "linecolor": "white",
           "ticks": "",
           "zerolinecolor": "white",
           "zerolinewidth": 2
          },
          "yaxis": {
           "automargin": true,
           "gridcolor": "white",
           "linecolor": "white",
           "ticks": "",
           "zerolinecolor": "white",
           "zerolinewidth": 2
          }
         }
        },
        "title": {
         "text": "Relationship Between Poverty Levels And Median Household Income"
        },
        "xaxis": {
         "anchor": "y",
         "domain": [
          0,
          0.94
         ],
         "title": {
          "text": "State"
         }
        },
        "yaxis": {
         "anchor": "x",
         "domain": [
          0,
          1
         ],
         "title": {
          "text": "Poverty Estimates 2017"
         }
        },
        "yaxis2": {
         "anchor": "x",
         "overlaying": "y",
         "side": "right",
         "title": {
          "text": "Median Household Income 2017"
         }
        }
       }
      },
      "text/html": [
       "<div>\n",
       "        \n",
       "        \n",
       "            <div id=\"7939241a-8bdc-4c68-9060-857d135fe4ce\" class=\"plotly-graph-div\" style=\"height:525px; width:100%;\"></div>\n",
       "            <script type=\"text/javascript\">\n",
       "                require([\"plotly\"], function(Plotly) {\n",
       "                    window.PLOTLYENV=window.PLOTLYENV || {};\n",
       "                    \n",
       "                if (document.getElementById(\"7939241a-8bdc-4c68-9060-857d135fe4ce\")) {\n",
       "                    Plotly.newPlot(\n",
       "                        '7939241a-8bdc-4c68-9060-857d135fe4ce',\n",
       "                        [{\"name\": \"Poverty Estimates 2017\", \"type\": \"scatter\", \"x\": [\"AL\", \"AK\", \"AZ\", \"AR\", \"CA\", \"CO\", \"CT\", \"DE\", \"FL\", \"GA\", \"HI\", \"ID\", \"IL\", \"IN\", \"IA\", \"KS\", \"KY\", \"LA\", \"ME\", \"MD\", \"MA\", \"MI\", \"MN\", \"MS\", \"MO\", \"MT\", \"NE\", \"NV\", \"NH\", \"NJ\", \"NM\", \"NY\", \"NC\", \"ND\", \"OH\", \"OK\", \"OR\", \"PA\", \"RI\", \"SC\", \"SD\", \"TN\", \"TX\", \"UT\", \"VT\", \"VA\", \"WA\", \"WV\", \"Wi\", \"WY\"], \"xaxis\": \"x\", \"y\": [802263.0, 79428.0, 1023337.0, 475883.0, 5164169.0, 566118.0, 338651.0, 121592.0, 2901876.0, 1536069.0, 132201.0, 211937.0, 1568670.0, 860753.0, 328629.0, 335371.0, 738563.0, 893827.0, 147413.0, 556549.0, 692943.0, 1373358.0, 517348.0, 573717.0, 793001.0, 130616.0, 198984.0, 392857.0, 100550.0, 882132.0, 388790.0, 2735578.0, 1468032.0, 74057.0, 1575401.0, 600911.0, 534846.0, 1548557.0, 125208.0, 750359.0, 107522.0, 980394.0, 4080377.0, 296138.0, 65068.0, 876438.0, 799675.0, 326502.0, 640174.0, 61319.0], \"yaxis\": \"y\"}, {\"name\": \"Median Household Income 2017\", \"type\": \"scatter\", \"x\": [\"AL\", \"AK\", \"AZ\", \"AR\", \"CA\", \"CO\", \"CT\", \"DE\", \"FL\", \"GA\", \"HI\", \"ID\", \"IL\", \"IN\", \"IA\", \"KS\", \"KY\", \"LA\", \"ME\", \"MD\", \"MA\", \"MI\", \"MN\", \"MS\", \"MO\", \"MT\", \"NE\", \"NV\", \"NH\", \"NJ\", \"NM\", \"NY\", \"NC\", \"ND\", \"OH\", \"OK\", \"OR\", \"PA\", \"RI\", \"SC\", \"SD\", \"TN\", \"TX\", \"UT\", \"VT\", \"VA\", \"WA\", \"WV\", \"Wi\", \"WY\"], \"xaxis\": \"x\", \"y\": [48193.0, 74058.0, 56508.0, 45916.0, 71785.0, 69113.0, 74428.0, 64085.0, 52582.0, 56117.0, 77936.0, 52280.0, 63044.0, 54134.0, 58706.0, 56382.0, 48332.0, 46283.0, 55980.0, 80711.0, 77385.0, 54840.0, 68364.0, 43595.0, 53506.0, 53262.0, 59913.0, 57932.0, 73638.0, 80106.0, 47086.0, 64783.0, 52797.0, 62400.0, 54077.0, 50051.0, 60123.0, 59165.0, 62923.0, 50675.0, 56871.0, 51319.0, 59195.0, 68395.0, 58271.0, 71518.0, 70942.0, 43238.0, 59300.0, 61279.0], \"yaxis\": \"y2\"}],\n",
       "                        {\"template\": {\"data\": {\"bar\": [{\"error_x\": {\"color\": \"#2a3f5f\"}, \"error_y\": {\"color\": \"#2a3f5f\"}, \"marker\": {\"line\": {\"color\": \"#E5ECF6\", \"width\": 0.5}}, \"type\": \"bar\"}], \"barpolar\": [{\"marker\": {\"line\": {\"color\": \"#E5ECF6\", \"width\": 0.5}}, \"type\": \"barpolar\"}], \"carpet\": [{\"aaxis\": {\"endlinecolor\": \"#2a3f5f\", \"gridcolor\": \"white\", \"linecolor\": \"white\", \"minorgridcolor\": \"white\", \"startlinecolor\": \"#2a3f5f\"}, \"baxis\": {\"endlinecolor\": \"#2a3f5f\", \"gridcolor\": \"white\", \"linecolor\": \"white\", \"minorgridcolor\": \"white\", \"startlinecolor\": \"#2a3f5f\"}, \"type\": \"carpet\"}], \"choropleth\": [{\"colorbar\": {\"outlinewidth\": 0, \"ticks\": \"\"}, \"type\": \"choropleth\"}], \"contour\": [{\"colorbar\": {\"outlinewidth\": 0, \"ticks\": \"\"}, \"colorscale\": [[0.0, \"#0d0887\"], [0.1111111111111111, \"#46039f\"], [0.2222222222222222, \"#7201a8\"], [0.3333333333333333, \"#9c179e\"], [0.4444444444444444, \"#bd3786\"], [0.5555555555555556, \"#d8576b\"], [0.6666666666666666, \"#ed7953\"], [0.7777777777777778, \"#fb9f3a\"], [0.8888888888888888, \"#fdca26\"], [1.0, \"#f0f921\"]], \"type\": \"contour\"}], \"contourcarpet\": [{\"colorbar\": {\"outlinewidth\": 0, \"ticks\": \"\"}, \"type\": \"contourcarpet\"}], \"heatmap\": [{\"colorbar\": {\"outlinewidth\": 0, \"ticks\": \"\"}, \"colorscale\": [[0.0, \"#0d0887\"], [0.1111111111111111, \"#46039f\"], [0.2222222222222222, \"#7201a8\"], [0.3333333333333333, \"#9c179e\"], [0.4444444444444444, \"#bd3786\"], [0.5555555555555556, \"#d8576b\"], [0.6666666666666666, \"#ed7953\"], [0.7777777777777778, \"#fb9f3a\"], [0.8888888888888888, \"#fdca26\"], [1.0, \"#f0f921\"]], \"type\": \"heatmap\"}], \"heatmapgl\": [{\"colorbar\": {\"outlinewidth\": 0, \"ticks\": \"\"}, \"colorscale\": [[0.0, \"#0d0887\"], [0.1111111111111111, \"#46039f\"], [0.2222222222222222, \"#7201a8\"], [0.3333333333333333, \"#9c179e\"], [0.4444444444444444, \"#bd3786\"], [0.5555555555555556, \"#d8576b\"], [0.6666666666666666, \"#ed7953\"], [0.7777777777777778, \"#fb9f3a\"], [0.8888888888888888, \"#fdca26\"], [1.0, \"#f0f921\"]], \"type\": \"heatmapgl\"}], \"histogram\": [{\"marker\": {\"colorbar\": {\"outlinewidth\": 0, \"ticks\": \"\"}}, \"type\": \"histogram\"}], \"histogram2d\": [{\"colorbar\": {\"outlinewidth\": 0, \"ticks\": \"\"}, \"colorscale\": [[0.0, \"#0d0887\"], [0.1111111111111111, \"#46039f\"], [0.2222222222222222, \"#7201a8\"], [0.3333333333333333, \"#9c179e\"], [0.4444444444444444, \"#bd3786\"], [0.5555555555555556, \"#d8576b\"], [0.6666666666666666, \"#ed7953\"], [0.7777777777777778, \"#fb9f3a\"], [0.8888888888888888, \"#fdca26\"], [1.0, \"#f0f921\"]], \"type\": \"histogram2d\"}], \"histogram2dcontour\": [{\"colorbar\": {\"outlinewidth\": 0, \"ticks\": \"\"}, \"colorscale\": [[0.0, \"#0d0887\"], [0.1111111111111111, \"#46039f\"], [0.2222222222222222, \"#7201a8\"], [0.3333333333333333, \"#9c179e\"], [0.4444444444444444, \"#bd3786\"], [0.5555555555555556, \"#d8576b\"], [0.6666666666666666, \"#ed7953\"], [0.7777777777777778, \"#fb9f3a\"], [0.8888888888888888, \"#fdca26\"], [1.0, \"#f0f921\"]], \"type\": \"histogram2dcontour\"}], \"mesh3d\": [{\"colorbar\": {\"outlinewidth\": 0, \"ticks\": \"\"}, \"type\": \"mesh3d\"}], \"parcoords\": [{\"line\": {\"colorbar\": {\"outlinewidth\": 0, \"ticks\": \"\"}}, \"type\": \"parcoords\"}], \"scatter\": [{\"marker\": {\"colorbar\": {\"outlinewidth\": 0, \"ticks\": \"\"}}, \"type\": \"scatter\"}], \"scatter3d\": [{\"line\": {\"colorbar\": {\"outlinewidth\": 0, \"ticks\": \"\"}}, \"marker\": {\"colorbar\": {\"outlinewidth\": 0, \"ticks\": \"\"}}, \"type\": \"scatter3d\"}], \"scattercarpet\": [{\"marker\": {\"colorbar\": {\"outlinewidth\": 0, \"ticks\": \"\"}}, \"type\": \"scattercarpet\"}], \"scattergeo\": [{\"marker\": {\"colorbar\": {\"outlinewidth\": 0, \"ticks\": \"\"}}, \"type\": \"scattergeo\"}], \"scattergl\": [{\"marker\": {\"colorbar\": {\"outlinewidth\": 0, \"ticks\": \"\"}}, \"type\": \"scattergl\"}], \"scattermapbox\": [{\"marker\": {\"colorbar\": {\"outlinewidth\": 0, \"ticks\": \"\"}}, \"type\": \"scattermapbox\"}], \"scatterpolar\": [{\"marker\": {\"colorbar\": {\"outlinewidth\": 0, \"ticks\": \"\"}}, \"type\": \"scatterpolar\"}], \"scatterpolargl\": [{\"marker\": {\"colorbar\": {\"outlinewidth\": 0, \"ticks\": \"\"}}, \"type\": \"scatterpolargl\"}], \"scatterternary\": [{\"marker\": {\"colorbar\": {\"outlinewidth\": 0, \"ticks\": \"\"}}, \"type\": \"scatterternary\"}], \"surface\": [{\"colorbar\": {\"outlinewidth\": 0, \"ticks\": \"\"}, \"colorscale\": [[0.0, \"#0d0887\"], [0.1111111111111111, \"#46039f\"], [0.2222222222222222, \"#7201a8\"], [0.3333333333333333, \"#9c179e\"], [0.4444444444444444, \"#bd3786\"], [0.5555555555555556, \"#d8576b\"], [0.6666666666666666, \"#ed7953\"], [0.7777777777777778, \"#fb9f3a\"], [0.8888888888888888, \"#fdca26\"], [1.0, \"#f0f921\"]], \"type\": \"surface\"}], \"table\": [{\"cells\": {\"fill\": {\"color\": \"#EBF0F8\"}, \"line\": {\"color\": \"white\"}}, \"header\": {\"fill\": {\"color\": \"#C8D4E3\"}, \"line\": {\"color\": \"white\"}}, \"type\": \"table\"}]}, \"layout\": {\"annotationdefaults\": {\"arrowcolor\": \"#2a3f5f\", \"arrowhead\": 0, \"arrowwidth\": 1}, \"colorscale\": {\"diverging\": [[0, \"#8e0152\"], [0.1, \"#c51b7d\"], [0.2, \"#de77ae\"], [0.3, \"#f1b6da\"], [0.4, \"#fde0ef\"], [0.5, \"#f7f7f7\"], [0.6, \"#e6f5d0\"], [0.7, \"#b8e186\"], [0.8, \"#7fbc41\"], [0.9, \"#4d9221\"], [1, \"#276419\"]], \"sequential\": [[0.0, \"#0d0887\"], [0.1111111111111111, \"#46039f\"], [0.2222222222222222, \"#7201a8\"], [0.3333333333333333, \"#9c179e\"], [0.4444444444444444, \"#bd3786\"], [0.5555555555555556, \"#d8576b\"], [0.6666666666666666, \"#ed7953\"], [0.7777777777777778, \"#fb9f3a\"], [0.8888888888888888, \"#fdca26\"], [1.0, \"#f0f921\"]], \"sequentialminus\": [[0.0, \"#0d0887\"], [0.1111111111111111, \"#46039f\"], [0.2222222222222222, \"#7201a8\"], [0.3333333333333333, \"#9c179e\"], [0.4444444444444444, \"#bd3786\"], [0.5555555555555556, \"#d8576b\"], [0.6666666666666666, \"#ed7953\"], [0.7777777777777778, \"#fb9f3a\"], [0.8888888888888888, \"#fdca26\"], [1.0, \"#f0f921\"]]}, \"colorway\": [\"#636efa\", \"#EF553B\", \"#00cc96\", \"#ab63fa\", \"#FFA15A\", \"#19d3f3\", \"#FF6692\", \"#B6E880\", \"#FF97FF\", \"#FECB52\"], \"font\": {\"color\": \"#2a3f5f\"}, \"geo\": {\"bgcolor\": \"white\", \"lakecolor\": \"white\", \"landcolor\": \"#E5ECF6\", \"showlakes\": true, \"showland\": true, \"subunitcolor\": \"white\"}, \"hoverlabel\": {\"align\": \"left\"}, \"hovermode\": \"closest\", \"mapbox\": {\"style\": \"light\"}, \"paper_bgcolor\": \"white\", \"plot_bgcolor\": \"#E5ECF6\", \"polar\": {\"angularaxis\": {\"gridcolor\": \"white\", \"linecolor\": \"white\", \"ticks\": \"\"}, \"bgcolor\": \"#E5ECF6\", \"radialaxis\": {\"gridcolor\": \"white\", \"linecolor\": \"white\", \"ticks\": \"\"}}, \"scene\": {\"xaxis\": {\"backgroundcolor\": \"#E5ECF6\", \"gridcolor\": \"white\", \"gridwidth\": 2, \"linecolor\": \"white\", \"showbackground\": true, \"ticks\": \"\", \"zerolinecolor\": \"white\"}, \"yaxis\": {\"backgroundcolor\": \"#E5ECF6\", \"gridcolor\": \"white\", \"gridwidth\": 2, \"linecolor\": \"white\", \"showbackground\": true, \"ticks\": \"\", \"zerolinecolor\": \"white\"}, \"zaxis\": {\"backgroundcolor\": \"#E5ECF6\", \"gridcolor\": \"white\", \"gridwidth\": 2, \"linecolor\": \"white\", \"showbackground\": true, \"ticks\": \"\", \"zerolinecolor\": \"white\"}}, \"shapedefaults\": {\"line\": {\"color\": \"#2a3f5f\"}}, \"ternary\": {\"aaxis\": {\"gridcolor\": \"white\", \"linecolor\": \"white\", \"ticks\": \"\"}, \"baxis\": {\"gridcolor\": \"white\", \"linecolor\": \"white\", \"ticks\": \"\"}, \"bgcolor\": \"#E5ECF6\", \"caxis\": {\"gridcolor\": \"white\", \"linecolor\": \"white\", \"ticks\": \"\"}}, \"title\": {\"x\": 0.05}, \"xaxis\": {\"automargin\": true, \"gridcolor\": \"white\", \"linecolor\": \"white\", \"ticks\": \"\", \"zerolinecolor\": \"white\", \"zerolinewidth\": 2}, \"yaxis\": {\"automargin\": true, \"gridcolor\": \"white\", \"linecolor\": \"white\", \"ticks\": \"\", \"zerolinecolor\": \"white\", \"zerolinewidth\": 2}}}, \"title\": {\"text\": \"Relationship Between Poverty Levels And Median Household Income\"}, \"xaxis\": {\"anchor\": \"y\", \"domain\": [0.0, 0.94], \"title\": {\"text\": \"State\"}}, \"yaxis\": {\"anchor\": \"x\", \"domain\": [0.0, 1.0], \"title\": {\"text\": \"Poverty Estimates 2017\"}}, \"yaxis2\": {\"anchor\": \"x\", \"overlaying\": \"y\", \"side\": \"right\", \"title\": {\"text\": \"Median Household Income 2017\"}}},\n",
       "                        {\"responsive\": true}\n",
       "                    ).then(function(){\n",
       "                            \n",
       "var gd = document.getElementById('7939241a-8bdc-4c68-9060-857d135fe4ce');\n",
       "var x = new MutationObserver(function (mutations, observer) {{\n",
       "        var display = window.getComputedStyle(gd).display;\n",
       "        if (!display || display === 'none') {{\n",
       "            console.log([gd, 'removed!']);\n",
       "            Plotly.purge(gd);\n",
       "            observer.disconnect();\n",
       "        }}\n",
       "}});\n",
       "\n",
       "// Listen for the removal of the full notebook cells\n",
       "var notebookContainer = gd.closest('#notebook-container');\n",
       "if (notebookContainer) {{\n",
       "    x.observe(notebookContainer, {childList: true});\n",
       "}}\n",
       "\n",
       "// Listen for the clearing of the current output cell\n",
       "var outputEl = gd.closest('.output');\n",
       "if (outputEl) {{\n",
       "    x.observe(outputEl, {childList: true});\n",
       "}}\n",
       "\n",
       "                        })\n",
       "                };\n",
       "                });\n",
       "            </script>\n",
       "        </div>"
      ]
     },
     "metadata": {},
     "output_type": "display_data"
    }
   ],
   "source": [
    "\n",
    "\n",
    "import plotly.graph_objects as go\n",
    "from plotly.subplots import make_subplots\n",
    "\n",
    "# Create figure with secondary y-axis\n",
    "fig = make_subplots(specs=[[{\"secondary_y\": True}]])\n",
    "\n",
    "# Add traces\n",
    "fig.add_trace(\n",
    "    go.Scatter(x=states['State'], y=states['POVALL_2017'], name=\"Poverty Estimates 2017\"),\n",
    "    secondary_y=False,\n",
    ")\n",
    "\n",
    "fig.add_trace(\n",
    "    go.Scatter(x=states['State'], y=states['MEDHHINC_2017'], name=\"Median Household Income 2017\"),\n",
    "    secondary_y=True,\n",
    ")\n",
    "\n",
    "# Add figure title\n",
    "fig.update_layout(\n",
    "    title_text=\"Relationship Between Poverty Levels And Median Household Income\"\n",
    ")\n",
    "\n",
    "# Set x-axis title\n",
    "fig.update_xaxes(title_text=\"State\")\n",
    "\n",
    "# Set y-axes titles\n",
    "fig.update_yaxes(title_text=\"Poverty Estimates 2017\", secondary_y=False)\n",
    "fig.update_yaxes(title_text=\"Median Household Income 2017\", secondary_y=True)\n",
    "\n",
    "fig.show()\n",
    "\n"
   ]
  },
  {
   "cell_type": "code",
   "execution_count": null,
   "metadata": {},
   "outputs": [],
   "source": []
  }
 ],
 "metadata": {
  "kernelspec": {
   "display_name": "Python 3",
   "language": "python",
   "name": "python3"
  },
  "language_info": {
   "codemirror_mode": {
    "name": "ipython",
    "version": 3
   },
   "file_extension": ".py",
   "mimetype": "text/x-python",
   "name": "python",
   "nbconvert_exporter": "python",
   "pygments_lexer": "ipython3",
   "version": "3.7.3"
  }
 },
 "nbformat": 4,
 "nbformat_minor": 2
}
